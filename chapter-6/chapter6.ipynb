{
 "cells": [
  {
   "cell_type": "code",
   "execution_count": 1,
   "metadata": {},
   "outputs": [],
   "source": [
    "import requests\n",
    "import json"
   ]
  },
  {
   "cell_type": "code",
   "execution_count": 2,
   "metadata": {},
   "outputs": [],
   "source": [
    "def extract():\n",
    "    f = open('../chapter-3/tmdb.json')\n",
    "    if f:\n",
    "        return json.loads(f.read())"
   ]
  },
  {
   "cell_type": "code",
   "execution_count": 3,
   "metadata": {},
   "outputs": [],
   "source": [
    "def reindex(analysis_settings={}, mapping_settings={}, movie_dict = {}):\n",
    "    settings = {\n",
    "        \"settings\": {\n",
    "            \"number_of_shards\": 1,\n",
    "            \"index\": {\n",
    "                \"analysis\": analysis_settings,\n",
    "            }\n",
    "        }\n",
    "    }\n",
    "    \n",
    "    if mapping_settings:\n",
    "        settings[\"mappings\"] = mapping_settings\n",
    "    \n",
    "    \n",
    "    print(\"using stettings\\n\", settings)\n",
    "    resp = requests.delete(\"http://localhost:9200/tmdb\")\n",
    "    print(f\"previouse index removal: {resp.status_code}\")\n",
    "    resp = requests.put(\"http://localhost:9200/tmdb\", json=settings)\n",
    "    print(\"index creation\", resp.json())\n",
    "    \n",
    "    bulk_movies = \"\"\n",
    "    for id, movie in movie_dict.items():\n",
    "        add_cmd = {\n",
    "            \"index\": {\"_index\": \"tmdb\", \"_id\": movie[\"id\"]}\n",
    "        }\n",
    "        bulk_movies += json.dumps(add_cmd) + \"\\n\" + json.dumps(movie) + \"\\n\"\n",
    "    \n",
    "    resp = requests.post(\n",
    "        \"http://localhost:9200/_bulk\",\n",
    "        data=bulk_movies,\n",
    "        headers={'Content-Type': 'application/json'}\n",
    "    )\n",
    "    return resp"
   ]
  },
  {
   "cell_type": "code",
   "execution_count": 4,
   "metadata": {},
   "outputs": [],
   "source": [
    "def search(query):\n",
    "    url = 'http://localhost:9200/tmdb/_doc/_search'\n",
    "    resp = requests.get(url, json=query)\n",
    "    \n",
    "    search_hits = json.loads(resp.text)['hits']\n",
    "    \n",
    "    print(\"Num\\tid\\tRelevance\\tMovie title\")\n",
    "    \n",
    "    for idx, hit in enumerate(search_hits['hits']):\n",
    "        print(f\"{idx}\\t{hit['_id']}\\t{hit['_score']}\\t{hit['_source']['title']}\")"
   ]
  },
  {
   "cell_type": "code",
   "execution_count": 5,
   "metadata": {},
   "outputs": [],
   "source": [
    "movie_dict = extract()"
   ]
  },
  {
   "cell_type": "code",
   "execution_count": 6,
   "metadata": {},
   "outputs": [],
   "source": [
    "analysis_settings = {\n",
    "   \"analyzer\": {\n",
    "      \"default\": {\n",
    "        \"type\": \"english\"\n",
    "      },\n",
    "      \"english_bigrams\": {\n",
    "          \"tokenizer\": \"standard\",\n",
    "          \"filter\": [\n",
    "            \"lowercase\",\n",
    "            \"porter_stem\",\n",
    "            \"bigram_filter\"\n",
    "          ]\n",
    "      }\n",
    "    },\n",
    "    \"filter\": {\n",
    "        \"bigram_filter\": {\n",
    "          \"type\": \"shingle\",\n",
    "          \"min_shingle_size\": 2,\n",
    "          \"max_shingle_size\": 2,\n",
    "          \"output_unigrams\": False\n",
    "        }\n",
    "    }\n",
    "}"
   ]
  },
  {
   "cell_type": "code",
   "execution_count": 7,
   "metadata": {},
   "outputs": [],
   "source": [
    "mapping_settings = {\n",
    "    \"properties\": {\n",
    "        \"cast\": {\n",
    "            \"properties\": {\n",
    "                \"name\": {\n",
    "                    \"type\": \"text\",\n",
    "                    \"analyzer\": \"english\",\n",
    "                    \"fields\": {\n",
    "                        \"bigramed\": {\n",
    "                            \"type\": \"text\",\n",
    "                            \"analyzer\": \"english_bigrams\"\n",
    "                        }     \n",
    "                    }\n",
    "                }\n",
    "            }\n",
    "        },\n",
    "        \"directors\": {\n",
    "            \"properties\": {\n",
    "                \"name\": {\n",
    "                    \"type\": \"text\",\n",
    "                    \"analyzer\": \"english\",\n",
    "                    \"fields\": {\n",
    "                        \"bigramed\": {\n",
    "                            \"type\": \"text\",\n",
    "                            \"analyzer\": \"english_bigrams\"\n",
    "                        }     \n",
    "                    }\n",
    "                }\n",
    "            }\n",
    "        }\n",
    "    }\n",
    "}"
   ]
  },
  {
   "cell_type": "code",
   "execution_count": 8,
   "metadata": {},
   "outputs": [
    {
     "name": "stdout",
     "output_type": "stream",
     "text": [
      "using stettings\n",
      " {'settings': {'number_of_shards': 1, 'index': {'analysis': {'analyzer': {'default': {'type': 'english'}, 'english_bigrams': {'tokenizer': 'standard', 'filter': ['lowercase', 'porter_stem', 'bigram_filter']}}, 'filter': {'bigram_filter': {'type': 'shingle', 'min_shingle_size': 2, 'max_shingle_size': 2, 'output_unigrams': False}}}}}, 'mappings': {'properties': {'cast': {'properties': {'name': {'type': 'text', 'analyzer': 'english', 'fields': {'bigramed': {'type': 'text', 'analyzer': 'english_bigrams'}}}}}, 'directors': {'properties': {'name': {'type': 'text', 'analyzer': 'english', 'fields': {'bigramed': {'type': 'text', 'analyzer': 'english_bigrams'}}}}}}}}\n",
      "previouse index removal: 200\n",
      "index creation {'acknowledged': True, 'shards_acknowledged': True, 'index': 'tmdb'}\n"
     ]
    }
   ],
   "source": [
    "r = reindex(analysis_settings, mapping_settings, movie_dict)"
   ]
  },
  {
   "cell_type": "code",
   "execution_count": 18,
   "metadata": {},
   "outputs": [],
   "source": [
    "user_search = \"star trek patrick stewart william shatner\"\n",
    "query = {\n",
    "    \"query\": {\n",
    "        \"multi_match\": {\n",
    "            \"query\": user_search,\n",
    "            \"fields\": [\"title\", \"cast.name.bigramed\", \"directors.name.bigramed\"],\n",
    "            \"type\": \"most_fields\"\n",
    "        }\n",
    "    }\n",
    "}"
   ]
  },
  {
   "cell_type": "code",
   "execution_count": 10,
   "metadata": {},
   "outputs": [],
   "source": [
    "# leaving out overview leaves us with albino elephant problem"
   ]
  },
  {
   "cell_type": "code",
   "execution_count": 19,
   "metadata": {},
   "outputs": [
    {
     "name": "stdout",
     "output_type": "stream",
     "text": [
      "Num\tid\tRelevance\tMovie title\n",
      "0\t172\t20.892147\tStar Trek V: The Final Frontier\n",
      "1\t193\t19.903265\tStar Trek: Generations\n",
      "2\t200\t15.065897\tStar Trek: Insurrection\n",
      "3\t201\t14.39519\tStar Trek: Nemesis\n",
      "4\t199\t13.657165\tStar Trek: First Contact\n",
      "5\t152\t13.020787\tStar Trek: The Motion Picture\n",
      "6\t154\t12.988506\tStar Trek II: The Wrath of Khan\n",
      "7\t168\t12.557999\tStar Trek IV: The Voyage Home\n",
      "8\t157\t12.302769\tStar Trek III: The Search for Spock\n",
      "9\t174\t11.7537365\tStar Trek VI: The Undiscovered Country\n"
     ]
    }
   ],
   "source": [
    "search(query)"
   ]
  },
  {
   "cell_type": "code",
   "execution_count": null,
   "metadata": {},
   "outputs": [],
   "source": []
  },
  {
   "cell_type": "markdown",
   "metadata": {},
   "source": [
    "###### This is where we fnished chapter 5"
   ]
  },
  {
   "cell_type": "markdown",
   "metadata": {},
   "source": [
    "#### 6.3.2"
   ]
  },
  {
   "cell_type": "code",
   "execution_count": 20,
   "metadata": {},
   "outputs": [],
   "source": [
    "query = {\n",
    "    \"query\": {\n",
    "        \"query_string\": {\n",
    "            \"query\": user_search,\n",
    "            \"fields\": [\"title\", \"cast.name.bigramed\", \"directors.name.bigramed\"]\n",
    "        }\n",
    "    }\n",
    "}"
   ]
  },
  {
   "cell_type": "code",
   "execution_count": 21,
   "metadata": {},
   "outputs": [
    {
     "name": "stdout",
     "output_type": "stream",
     "text": [
      "Num\tid\tRelevance\tMovie title\n",
      "0\t193\t10.895414\tStar Trek: Generations\n",
      "1\t13475\t10.760254\tStar Trek\n",
      "2\t200\t9.007851\tStar Trek: Insurrection\n",
      "3\t201\t9.007851\tStar Trek: Nemesis\n",
      "4\t54138\t9.007851\tStar Trek Into Darkness\n",
      "5\t172\t8.1974535\tStar Trek V: The Final Frontier\n",
      "6\t152\t7.7462955\tStar Trek: The Motion Picture\n",
      "7\t199\t7.7462955\tStar Trek: First Contact\n",
      "8\t5851\t7.0745726\tShowtime\n",
      "9\t12610\t6.878936\tOsmosis Jones\n"
     ]
    }
   ],
   "source": [
    "search(query)"
   ]
  },
  {
   "cell_type": "code",
   "execution_count": 23,
   "metadata": {},
   "outputs": [],
   "source": [
    "# already works 🤔, let's add overview and see how it goes"
   ]
  },
  {
   "cell_type": "code",
   "execution_count": 24,
   "metadata": {},
   "outputs": [],
   "source": [
    "query = {\n",
    "    \"query\": {\n",
    "        \"query_string\": {\n",
    "            \"query\": user_search,\n",
    "            \"fields\": [\"title\", \"overview\", \"cast.name.bigramed\", \"directors.name.bigramed\"]\n",
    "        }\n",
    "    }\n",
    "}"
   ]
  },
  {
   "cell_type": "code",
   "execution_count": 25,
   "metadata": {},
   "outputs": [
    {
     "name": "stdout",
     "output_type": "stream",
     "text": [
      "Num\tid\tRelevance\tMovie title\n",
      "0\t18126\t14.751948\tHannah Montana: The Movie\n",
      "1\t193\t10.895414\tStar Trek: Generations\n",
      "2\t13475\t10.760254\tStar Trek\n",
      "3\t168\t10.057888\tStar Trek IV: The Voyage Home\n",
      "4\t200\t9.007851\tStar Trek: Insurrection\n",
      "5\t201\t9.007851\tStar Trek: Nemesis\n",
      "6\t54138\t9.007851\tStar Trek Into Darkness\n",
      "7\t172\t8.1974535\tStar Trek V: The Final Frontier\n",
      "8\t9476\t8.182335\tA Knight's Tale\n",
      "9\t10567\t8.1140175\tDinosaur\n"
     ]
    }
   ],
   "source": [
    "search(query)"
   ]
  },
  {
   "cell_type": "code",
   "execution_count": 26,
   "metadata": {},
   "outputs": [],
   "source": [
    "# hannah montana 🤔"
   ]
  },
  {
   "cell_type": "code",
   "execution_count": 37,
   "metadata": {},
   "outputs": [],
   "source": [
    "query = {\n",
    "    \"query\": {\n",
    "        \"query_string\": {\n",
    "            \"query\": user_search,\n",
    "            \"fields\": [\"title\", \"overview\", \"cast.name^10\", \"directors.name\"]\n",
    "        }\n",
    "    }\n",
    "}"
   ]
  },
  {
   "cell_type": "code",
   "execution_count": 38,
   "metadata": {},
   "outputs": [
    {
     "name": "stdout",
     "output_type": "stream",
     "text": [
      "Num\tid\tRelevance\tMovie title\n",
      "0\t193\t135.12723\tStar Trek: Generations\n",
      "1\t5851\t97.44539\tShowtime\n",
      "2\t12610\t94.6119\tOsmosis Jones\n",
      "3\t9904\t92.86618\tThe Wild\n",
      "4\t10040\t86.62215\tMiss Congeniality 2: Armed and Fabulous\n",
      "5\t154\t83.66445\tStar Trek II: The Wrath of Khan\n",
      "6\t8834\t82.89814\tConspiracy Theory\n",
      "7\t1649\t82.85913\tBill & Ted's Bogus Journey\n",
      "8\t172\t79.57234\tStar Trek V: The Final Frontier\n",
      "9\t168\t77.672806\tStar Trek IV: The Voyage Home\n"
     ]
    }
   ],
   "source": [
    "search(query)"
   ]
  },
  {
   "cell_type": "code",
   "execution_count": 45,
   "metadata": {},
   "outputs": [],
   "source": [
    "mapping_settings[\"properties\"][\"people\"] = {\n",
    "    \"properties\": {\n",
    "        \"name\": {\n",
    "            \"type\": \"text\",\n",
    "            \"analyzer\": \"english\",\n",
    "            \"fields\": {\n",
    "                \"bigramed\": {\n",
    "                    \"type\": \"text\",\n",
    "                    \"analyzer\": \"english_bigrams\"\n",
    "                }\n",
    "            }\n",
    "        }\n",
    "    }\n",
    "}"
   ]
  },
  {
   "cell_type": "code",
   "execution_count": 40,
   "metadata": {},
   "outputs": [],
   "source": [
    "mapping_settings[\"properties\"][\"cast\"][\"properties\"][\"name\"][\"copy_to\"] = \"people.name\"\n",
    "mapping_settings[\"properties\"][\"directors\"][\"properties\"][\"name\"][\"copy_to\"] = \"people.name\""
   ]
  },
  {
   "cell_type": "code",
   "execution_count": 46,
   "metadata": {},
   "outputs": [
    {
     "name": "stdout",
     "output_type": "stream",
     "text": [
      "using stettings\n",
      " {'settings': {'number_of_shards': 1, 'index': {'analysis': {'analyzer': {'default': {'type': 'english'}, 'english_bigrams': {'tokenizer': 'standard', 'filter': ['lowercase', 'porter_stem', 'bigram_filter']}}, 'filter': {'bigram_filter': {'type': 'shingle', 'min_shingle_size': 2, 'max_shingle_size': 2, 'output_unigrams': False}}}}}, 'mappings': {'properties': {'cast': {'properties': {'name': {'type': 'text', 'analyzer': 'english', 'fields': {'bigramed': {'type': 'text', 'analyzer': 'english_bigrams'}}, 'copy_to': 'people.name'}}}, 'directors': {'properties': {'name': {'type': 'text', 'analyzer': 'english', 'fields': {'bigramed': {'type': 'text', 'analyzer': 'english_bigrams'}}, 'copy_to': 'people.name'}}}, 'people': {'properties': {'name': {'type': 'text', 'analyzer': 'english', 'fields': {'bigrammed': {'type': 'text', 'analyzer': 'english_bigrams'}}}}}}}}\n",
      "previouse index removal: 200\n",
      "index creation {'acknowledged': True, 'shards_acknowledged': True, 'index': 'tmdb'}\n"
     ]
    },
    {
     "data": {
      "text/plain": [
       "<Response [200]>"
      ]
     },
     "execution_count": 46,
     "metadata": {},
     "output_type": "execute_result"
    }
   ],
   "source": [
    "reindex(analysis_settings, mapping_settings, movie_dict)"
   ]
  },
  {
   "cell_type": "code",
   "execution_count": 47,
   "metadata": {},
   "outputs": [],
   "source": [
    "query_people = {\n",
    "    \"query\": {\n",
    "        \"match\": {\n",
    "            \"people.name\": \"patrick stewart william shatner\"\n",
    "        }\n",
    "    }\n",
    "}"
   ]
  },
  {
   "cell_type": "code",
   "execution_count": 48,
   "metadata": {},
   "outputs": [
    {
     "name": "stdout",
     "output_type": "stream",
     "text": [
      "Num\tid\tRelevance\tMovie title\n",
      "0\t193\t13.423487\tStar Trek: Generations\n",
      "1\t172\t10.511824\tStar Trek V: The Final Frontier\n",
      "2\t9904\t9.807777\tThe Wild\n",
      "3\t5851\t9.551281\tShowtime\n",
      "4\t12610\t9.049201\tOsmosis Jones\n",
      "5\t10040\t8.603318\tMiss Congeniality 2: Armed and Fabulous\n",
      "6\t1649\t8.468272\tBill & Ted's Bogus Journey\n",
      "7\t154\t8.286876\tStar Trek II: The Wrath of Khan\n",
      "8\t8834\t8.181319\tConspiracy Theory\n",
      "9\t168\t7.728797\tStar Trek IV: The Voyage Home\n"
     ]
    }
   ],
   "source": [
    "search(query_people)"
   ]
  },
  {
   "cell_type": "code",
   "execution_count": 49,
   "metadata": {},
   "outputs": [],
   "source": [
    "user_search = \"star trek patrick stewart william shatner\"\n",
    "query = {\n",
    "    \"query\": {\n",
    "        \"match\": {\n",
    "            \"_all\": user_search\n",
    "        }\n",
    "    }\n",
    "}"
   ]
  },
  {
   "cell_type": "code",
   "execution_count": 50,
   "metadata": {},
   "outputs": [
    {
     "name": "stdout",
     "output_type": "stream",
     "text": [
      "Num\tid\tRelevance\tMovie title\n"
     ]
    }
   ],
   "source": [
    "search(query)"
   ]
  },
  {
   "cell_type": "code",
   "execution_count": 51,
   "metadata": {},
   "outputs": [],
   "source": [
    "# _all is not available in ES 6.0+, copy_to should be used -> skipping this"
   ]
  },
  {
   "cell_type": "code",
   "execution_count": 70,
   "metadata": {},
   "outputs": [],
   "source": [
    "query = {\n",
    "    \"query\": {\n",
    "        \"multi_match\": {\n",
    "            \"query\": user_search,\n",
    "            \"fields\": [\"title\", \"overview^0.1\", \"cast.name\", \"directors.name\"],\n",
    "            \"type\": \"cross_fields\"\n",
    "        }\n",
    "    }\n",
    "}"
   ]
  },
  {
   "cell_type": "code",
   "execution_count": 72,
   "metadata": {},
   "outputs": [
    {
     "name": "stdout",
     "output_type": "stream",
     "text": [
      "Num\tid\tRelevance\tMovie title\n",
      "0\t193\t13.512724\tStar Trek: Generations\n",
      "1\t5851\t9.744539\tShowtime\n",
      "2\t12610\t9.46119\tOsmosis Jones\n",
      "3\t9904\t9.286617\tThe Wild\n",
      "4\t13475\t9.033916\tStar Trek\n",
      "5\t10040\t8.662214\tMiss Congeniality 2: Armed and Fabulous\n",
      "6\t154\t8.366446\tStar Trek II: The Wrath of Khan\n",
      "7\t8834\t8.289814\tConspiracy Theory\n",
      "8\t1649\t8.285913\tBill & Ted's Bogus Journey\n",
      "9\t201\t7.9637537\tStar Trek: Nemesis\n"
     ]
    }
   ],
   "source": [
    "search(query)"
   ]
  },
  {
   "cell_type": "code",
   "execution_count": 77,
   "metadata": {},
   "outputs": [],
   "source": [
    "query = {\n",
    "    \"query\": {\n",
    "        \"multi_match\": {\n",
    "            \"query\": user_search,\n",
    "            \"fields\": [\"title\", \"overview^0.5\", \"people.name\"],\n",
    "            \"type\": \"most_fields\"\n",
    "        }\n",
    "    }\n",
    "}"
   ]
  },
  {
   "cell_type": "code",
   "execution_count": 78,
   "metadata": {},
   "outputs": [
    {
     "name": "stdout",
     "output_type": "stream",
     "text": [
      "Num\tid\tRelevance\tMovie title\n",
      "0\t193\t24.12532\tStar Trek: Generations\n",
      "1\t168\t19.552435\tStar Trek IV: The Voyage Home\n",
      "2\t172\t17.306519\tStar Trek V: The Final Frontier\n",
      "3\t201\t17.040085\tStar Trek: Nemesis\n",
      "4\t200\t15.842175\tStar Trek: Insurrection\n",
      "5\t154\t15.081571\tStar Trek II: The Wrath of Khan\n",
      "6\t152\t15.064396\tStar Trek: The Motion Picture\n",
      "7\t199\t14.339674\tStar Trek: First Contact\n",
      "8\t157\t14.271722\tStar Trek III: The Search for Spock\n",
      "9\t174\t13.47393\tStar Trek VI: The Undiscovered Country\n"
     ]
    }
   ],
   "source": [
    "search(query)"
   ]
  },
  {
   "cell_type": "code",
   "execution_count": 79,
   "metadata": {},
   "outputs": [],
   "source": [
    "query = {\n",
    "    \"query\": {\n",
    "        \"bool\": {\n",
    "            \"should\": [\n",
    "                {\n",
    "                    \"multi_match\": {\n",
    "                        \"query\": user_search,\n",
    "                        \"fields\": [\"directors.name\", \"cast.name\"],\n",
    "                        \"type\": \"cross_fields\"\n",
    "                    }\n",
    "                },\n",
    "                {\n",
    "                    \"multi_match\": {\n",
    "                        \"query\": user_search,\n",
    "                        \"fields\": [\"overview\", \"title\"],\n",
    "                        \"type\": \"cross_fields\"\n",
    "                    }\n",
    "                }\n",
    "            ]\n",
    "        }\n",
    "    }\n",
    "}"
   ]
  },
  {
   "cell_type": "code",
   "execution_count": 80,
   "metadata": {},
   "outputs": [
    {
     "name": "stdout",
     "output_type": "stream",
     "text": [
      "Num\tid\tRelevance\tMovie title\n",
      "0\t168\t23.529747\tStar Trek IV: The Voyage Home\n",
      "1\t193\t21.658974\tStar Trek: Generations\n",
      "2\t201\t17.672958\tStar Trek: Nemesis\n",
      "3\t18126\t16.92695\tHannah Montana: The Movie\n",
      "4\t200\t14.535864\tStar Trek: Insurrection\n",
      "5\t154\t14.071022\tStar Trek II: The Wrath of Khan\n",
      "6\t152\t13.833348\tStar Trek: The Motion Picture\n",
      "7\t172\t13.661812\tStar Trek V: The Final Frontier\n",
      "8\t199\t13.214497\tStar Trek: First Contact\n",
      "9\t157\t13.203346\tStar Trek III: The Search for Spock\n"
     ]
    }
   ],
   "source": [
    "search(query)"
   ]
  },
  {
   "cell_type": "code",
   "execution_count": 91,
   "metadata": {},
   "outputs": [],
   "source": [
    "query = {\n",
    "    \"query\": {\n",
    "        \"bool\": {\n",
    "            \"should\": [\n",
    "                {\n",
    "                    \"multi_match\": {\n",
    "                        \"query\": user_search,\n",
    "                        \"fields\": [\"directors.name.bigramed\", \"cast.name.bigramed\"],\n",
    "                        \"type\": \"cross_fields\"\n",
    "                    }\n",
    "                },\n",
    "                {\n",
    "                    \"multi_match\": {\n",
    "                        \"query\": user_search,\n",
    "                        \"fields\": [\"overview^0.5\", \"title^2\", \"directors.name\", \"cast.name\"],\n",
    "                        \"type\": \"cross_fields\"\n",
    "                    }\n",
    "                }\n",
    "            ]\n",
    "        }\n",
    "    }\n",
    "}"
   ]
  },
  {
   "cell_type": "code",
   "execution_count": 92,
   "metadata": {},
   "outputs": [
    {
     "name": "stdout",
     "output_type": "stream",
     "text": [
      "Num\tid\tRelevance\tMovie title\n",
      "0\t193\t26.020739\tStar Trek: Generations\n",
      "1\t201\t22.518124\tStar Trek: Nemesis\n",
      "2\t168\t22.201403\tStar Trek IV: The Voyage Home\n",
      "3\t200\t21.18337\tStar Trek: Insurrection\n",
      "4\t199\t18.917883\tStar Trek: First Contact\n",
      "5\t152\t18.281506\tStar Trek: The Motion Picture\n",
      "6\t13475\t18.067833\tStar Trek\n",
      "7\t154\t17.602966\tStar Trek II: The Wrath of Khan\n",
      "8\t172\t17.309155\tStar Trek V: The Final Frontier\n",
      "9\t157\t16.917229\tStar Trek III: The Search for Spock\n"
     ]
    }
   ],
   "source": [
    "search(query)"
   ]
  },
  {
   "cell_type": "code",
   "execution_count": null,
   "metadata": {},
   "outputs": [],
   "source": []
  }
 ],
 "metadata": {
  "kernelspec": {
   "display_name": ".venv",
   "language": "python",
   "name": ".venv"
  },
  "language_info": {
   "codemirror_mode": {
    "name": "ipython",
    "version": 3
   },
   "file_extension": ".py",
   "mimetype": "text/x-python",
   "name": "python",
   "nbconvert_exporter": "python",
   "pygments_lexer": "ipython3",
   "version": "3.8.3"
  }
 },
 "nbformat": 4,
 "nbformat_minor": 4
}
