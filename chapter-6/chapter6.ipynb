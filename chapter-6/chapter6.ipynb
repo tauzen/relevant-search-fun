{
 "cells": [
  {
   "cell_type": "code",
   "execution_count": 1,
   "metadata": {},
   "outputs": [],
   "source": [
    "import requests\n",
    "import json"
   ]
  },
  {
   "cell_type": "code",
   "execution_count": 2,
   "metadata": {},
   "outputs": [],
   "source": [
    "def extract():\n",
    "    f = open('../chapter-3/tmdb.json')\n",
    "    if f:\n",
    "        return json.loads(f.read())"
   ]
  },
  {
   "cell_type": "code",
   "execution_count": 3,
   "metadata": {},
   "outputs": [],
   "source": [
    "def reindex(analysis_settings={}, mapping_settings={}, movie_dict = {}):\n",
    "    settings = {\n",
    "        \"settings\": {\n",
    "            \"number_of_shards\": 1,\n",
    "            \"index\": {\n",
    "                \"analysis\": analysis_settings,\n",
    "            }\n",
    "        }\n",
    "    }\n",
    "    \n",
    "    if mapping_settings:\n",
    "        settings[\"mappings\"] = mapping_settings\n",
    "    \n",
    "    \n",
    "    print(\"using stettings\\n\", settings)\n",
    "    resp = requests.delete(\"http://localhost:9200/tmdb\")\n",
    "    print(f\"previouse index removal: {resp.status_code}\")\n",
    "    resp = requests.put(\"http://localhost:9200/tmdb\", json=settings)\n",
    "    print(\"index creation\", resp.json())\n",
    "    \n",
    "    bulk_movies = \"\"\n",
    "    for id, movie in movie_dict.items():\n",
    "        add_cmd = {\n",
    "            \"index\": {\"_index\": \"tmdb\", \"_id\": movie[\"id\"]}\n",
    "        }\n",
    "        bulk_movies += json.dumps(add_cmd) + \"\\n\" + json.dumps(movie) + \"\\n\"\n",
    "    \n",
    "    resp = requests.post(\n",
    "        \"http://localhost:9200/_bulk\",\n",
    "        data=bulk_movies,\n",
    "        headers={'Content-Type': 'application/json'}\n",
    "    )\n",
    "    return resp"
   ]
  },
  {
   "cell_type": "code",
   "execution_count": 4,
   "metadata": {},
   "outputs": [],
   "source": [
    "def search(query):\n",
    "    url = 'http://localhost:9200/tmdb/_doc/_search'\n",
    "    resp = requests.get(url, json=query)\n",
    "    \n",
    "    search_hits = json.loads(resp.text)['hits']\n",
    "    \n",
    "    print(\"Num\\tid\\tRelevance\\tMovie title\")\n",
    "    \n",
    "    for idx, hit in enumerate(search_hits['hits']):\n",
    "        print(f\"{idx}\\t{hit['_id']}\\t{hit['_score']}\\t{hit['_source']['title']}\")"
   ]
  },
  {
   "cell_type": "code",
   "execution_count": 5,
   "metadata": {},
   "outputs": [],
   "source": [
    "movie_dict = extract()"
   ]
  },
  {
   "cell_type": "code",
   "execution_count": 6,
   "metadata": {},
   "outputs": [],
   "source": [
    "analysis_settings = {\n",
    "   \"analyzer\": {\n",
    "      \"default\": {\n",
    "        \"type\": \"english\"\n",
    "      },\n",
    "      \"english_bigrams\": {\n",
    "          \"tokenizer\": \"standard\",\n",
    "          \"filter\": [\n",
    "            \"lowercase\",\n",
    "            \"porter_stem\",\n",
    "            \"bigram_filter\"\n",
    "          ]\n",
    "      }\n",
    "    },\n",
    "    \"filter\": {\n",
    "        \"bigram_filter\": {\n",
    "          \"type\": \"shingle\",\n",
    "          \"min_shingle_size\": 2,\n",
    "          \"max_shingle_size\": 2,\n",
    "          \"output_unigrams\": False\n",
    "        }\n",
    "    }\n",
    "}"
   ]
  },
  {
   "cell_type": "code",
   "execution_count": 7,
   "metadata": {},
   "outputs": [],
   "source": [
    "mapping_settings = {\n",
    "    \"properties\": {\n",
    "        \"cast\": {\n",
    "            \"properties\": {\n",
    "                \"name\": {\n",
    "                    \"type\": \"text\",\n",
    "                    \"analyzer\": \"english\",\n",
    "                    \"fields\": {\n",
    "                        \"bigramed\": {\n",
    "                            \"type\": \"text\",\n",
    "                            \"analyzer\": \"english_bigrams\"\n",
    "                        }     \n",
    "                    }\n",
    "                }\n",
    "            }\n",
    "        },\n",
    "        \"directors\": {\n",
    "            \"properties\": {\n",
    "                \"name\": {\n",
    "                    \"type\": \"text\",\n",
    "                    \"analyzer\": \"english\",\n",
    "                    \"fields\": {\n",
    "                        \"bigramed\": {\n",
    "                            \"type\": \"text\",\n",
    "                            \"analyzer\": \"english_bigrams\"\n",
    "                        }     \n",
    "                    }\n",
    "                }\n",
    "            }\n",
    "        }\n",
    "    }\n",
    "}"
   ]
  },
  {
   "cell_type": "code",
   "execution_count": 9,
   "metadata": {},
   "outputs": [
    {
     "name": "stdout",
     "output_type": "stream",
     "text": [
      "using stettings\n",
      " {'settings': {'number_of_shards': 1, 'index': {'analysis': {'analyzer': {'default': {'type': 'english'}, 'english_bigrams': {'tokenizer': 'standard', 'filter': ['lowercase', 'porter_stem', 'bigram_filter']}}, 'filter': {'bigram_filter': {'type': 'shingle', 'min_shingle_size': 2, 'max_shingle_size': 2, 'output_unigrams': False}}}}}, 'mappings': {'properties': {'cast': {'properties': {'name': {'type': 'text', 'analyzer': 'english', 'fields': {'bigramed': {'type': 'text', 'analyzer': 'english_bigrams'}}}}}, 'directors': {'properties': {'name': {'type': 'text', 'analyzer': 'english', 'fields': {'bigramed': {'type': 'text', 'analyzer': 'english_bigrams'}}}}}}}}\n",
      "previouse index removal: 404\n",
      "index creation {'acknowledged': True, 'shards_acknowledged': True, 'index': 'tmdb'}\n"
     ]
    }
   ],
   "source": [
    "r = reindex(analysis_settings, mapping_settings, movie_dict)"
   ]
  },
  {
   "cell_type": "code",
   "execution_count": 16,
   "metadata": {},
   "outputs": [],
   "source": [
    "user_search = \"star trek patrick stewart william shatner\"\n",
    "query = {\n",
    "    \"query\": {\n",
    "        \"multi_match\": {\n",
    "            \"query\": user_search,\n",
    "            \"fields\": [\"title\", \"cast.name.bigramed\", \"directors.name.bigramed\"],\n",
    "            \"type\": \"most_fields\"\n",
    "        }\n",
    "    }\n",
    "}"
   ]
  },
  {
   "cell_type": "code",
   "execution_count": null,
   "metadata": {},
   "outputs": [],
   "source": [
    "# leaving out overview leaves us with albino elephant problem"
   ]
  },
  {
   "cell_type": "code",
   "execution_count": 17,
   "metadata": {},
   "outputs": [
    {
     "name": "stdout",
     "output_type": "stream",
     "text": [
      "Num\tid\tRelevance\tMovie title\n",
      "0\t172\t20.892147\tStar Trek V: The Final Frontier\n",
      "1\t193\t19.903265\tStar Trek: Generations\n",
      "2\t200\t15.065897\tStar Trek: Insurrection\n",
      "3\t201\t14.39519\tStar Trek: Nemesis\n",
      "4\t199\t13.657165\tStar Trek: First Contact\n",
      "5\t152\t13.020787\tStar Trek: The Motion Picture\n",
      "6\t154\t12.988506\tStar Trek II: The Wrath of Khan\n",
      "7\t168\t12.557999\tStar Trek IV: The Voyage Home\n",
      "8\t157\t12.302769\tStar Trek III: The Search for Spock\n",
      "9\t174\t11.7537365\tStar Trek VI: The Undiscovered Country\n"
     ]
    }
   ],
   "source": [
    "search(query)"
   ]
  },
  {
   "cell_type": "markdown",
   "metadata": {},
   "source": [
    "###### This is where we fnished chapter 5"
   ]
  },
  {
   "cell_type": "code",
   "execution_count": null,
   "metadata": {},
   "outputs": [],
   "source": []
  },
  {
   "cell_type": "code",
   "execution_count": null,
   "metadata": {},
   "outputs": [],
   "source": []
  },
  {
   "cell_type": "code",
   "execution_count": null,
   "metadata": {},
   "outputs": [],
   "source": []
  }
 ],
 "metadata": {
  "kernelspec": {
   "display_name": ".venv",
   "language": "python",
   "name": ".venv"
  },
  "language_info": {
   "codemirror_mode": {
    "name": "ipython",
    "version": 3
   },
   "file_extension": ".py",
   "mimetype": "text/x-python",
   "name": "python",
   "nbconvert_exporter": "python",
   "pygments_lexer": "ipython3",
   "version": "3.8.3"
  }
 },
 "nbformat": 4,
 "nbformat_minor": 4
}
