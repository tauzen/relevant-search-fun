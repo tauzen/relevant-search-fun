{
 "cells": [
  {
   "cell_type": "code",
   "execution_count": 1,
   "metadata": {},
   "outputs": [],
   "source": [
    "import requests\n",
    "import json"
   ]
  },
  {
   "cell_type": "code",
   "execution_count": 2,
   "metadata": {},
   "outputs": [],
   "source": [
    "def extract():\n",
    "    f = open('../chapter-3/tmdb.json')\n",
    "    if f:\n",
    "        return json.loads(f.read())"
   ]
  },
  {
   "cell_type": "code",
   "execution_count": 3,
   "metadata": {},
   "outputs": [],
   "source": [
    "def reindex(analysis_settings={}, mapping_settings={}, movie_dict = {}):\n",
    "    settings = {\n",
    "        \"settings\": {\n",
    "            \"number_of_shards\": 1,\n",
    "            \"index\": {\n",
    "                \"analysis\": analysis_settings,\n",
    "            }\n",
    "        }\n",
    "    }\n",
    "    \n",
    "    if mapping_settings:\n",
    "        settings[\"mappings\"] = mapping_settings\n",
    "    \n",
    "    resp = requests.delete(\"http://localhost:9200/tmdb\")\n",
    "    resp = requests.put(\"http://localhost:9200/tmdb\", json=settings)\n",
    "    \n",
    "    bulk_movies = \"\"\n",
    "    for id, movie in movie_dict.items():\n",
    "        add_cmd = {\n",
    "            \"index\": {\"_index\": \"tmdb\", \"_id\": movie[\"id\"]}\n",
    "        }\n",
    "        bulk_movies += json.dumps(add_cmd) + \"\\n\" + json.dumps(movie) + \"\\n\"\n",
    "    \n",
    "    resp = requests.post(\n",
    "        \"http://localhost:9200/_bulk\",\n",
    "        data=bulk_movies,\n",
    "        headers={'Content-Type': 'application/json'}\n",
    "    )\n",
    "    return resp"
   ]
  },
  {
   "cell_type": "code",
   "execution_count": 4,
   "metadata": {},
   "outputs": [],
   "source": [
    "def search(query):\n",
    "    url = 'http://localhost:9200/tmdb/_doc/_search'\n",
    "    resp = requests.get(url, json=query)\n",
    "    \n",
    "    search_hits = json.loads(resp.text)['hits']\n",
    "    \n",
    "    print(\"Num\\tRelevance\\tMovie title\")\n",
    "    \n",
    "    for idx, hit in enumerate(search_hits['hits']):\n",
    "        print(f\"{idx}\\t{hit['_score']}\\t{hit['_source']['title']}\")"
   ]
  },
  {
   "cell_type": "code",
   "execution_count": 5,
   "metadata": {},
   "outputs": [],
   "source": [
    "movie_dict = extract()"
   ]
  },
  {
   "cell_type": "code",
   "execution_count": 6,
   "metadata": {},
   "outputs": [],
   "source": [
    "analysis = {\n",
    "    \"analyzer\": {\n",
    "        \"default\": {\n",
    "            \"type\": \"english\"\n",
    "        }\n",
    "    }\n",
    "}"
   ]
  },
  {
   "cell_type": "code",
   "execution_count": 7,
   "metadata": {},
   "outputs": [
    {
     "data": {
      "text/plain": [
       "<Response [200]>"
      ]
     },
     "execution_count": 7,
     "metadata": {},
     "output_type": "execute_result"
    }
   ],
   "source": [
    "reindex(analysis_settings=analysis, mapping_settings=None, movie_dict=movie_dict)"
   ]
  },
  {
   "cell_type": "code",
   "execution_count": 8,
   "metadata": {},
   "outputs": [],
   "source": [
    "user_search = \"basketball with cartoon aliens\""
   ]
  },
  {
   "cell_type": "code",
   "execution_count": 9,
   "metadata": {},
   "outputs": [],
   "source": [
    "query = {\n",
    "    \"query\": {\n",
    "        \"multi_match\": {\n",
    "            \"query\": user_search,\n",
    "            \"fields\": [\"title^0.1\", \"overview\"]\n",
    "        }\n",
    "    }\n",
    "}"
   ]
  },
  {
   "cell_type": "code",
   "execution_count": 10,
   "metadata": {},
   "outputs": [
    {
     "name": "stdout",
     "output_type": "stream",
     "text": [
      "Num\tRelevance\tMovie title\n",
      "0\t5.854866\tAliens vs Predator: Requiem\n",
      "1\t5.104813\tHigh School Musical\n",
      "2\t4.918132\tIndependence Day\n",
      "3\t4.408952\tStar Trek IV: The Voyage Home\n",
      "4\t4.34342\tNapoleon Dynamite\n",
      "5\t3.3585892\tPredator 2\n",
      "6\t3.3585892\tAlien\n",
      "7\t3.2311735\tPredator\n",
      "8\t3.1130729\tMen in Black\n",
      "9\t2.7159886\tMen in Black II\n"
     ]
    }
   ],
   "source": [
    "search(query)"
   ]
  },
  {
   "cell_type": "code",
   "execution_count": null,
   "metadata": {},
   "outputs": [],
   "source": []
  }
 ],
 "metadata": {
  "kernelspec": {
   "display_name": "Python 3",
   "language": "python",
   "name": "python3"
  },
  "language_info": {
   "codemirror_mode": {
    "name": "ipython",
    "version": 3
   },
   "file_extension": ".py",
   "mimetype": "text/x-python",
   "name": "python",
   "nbconvert_exporter": "python",
   "pygments_lexer": "ipython3",
   "version": "3.8.3"
  }
 },
 "nbformat": 4,
 "nbformat_minor": 4
}
