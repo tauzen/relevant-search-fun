{
 "cells": [
  {
   "cell_type": "code",
   "execution_count": 1,
   "metadata": {},
   "outputs": [],
   "source": [
    "import requests\n",
    "import json"
   ]
  },
  {
   "cell_type": "code",
   "execution_count": 2,
   "metadata": {},
   "outputs": [],
   "source": [
    "def extract():\n",
    "    f = open('../chapter-3/tmdb.json')\n",
    "    if f:\n",
    "        return json.loads(f.read())"
   ]
  },
  {
   "cell_type": "code",
   "execution_count": 131,
   "metadata": {},
   "outputs": [],
   "source": [
    "def reindex(analysis_settings={}, mapping_settings={}, movie_dict = {}):\n",
    "    settings = {\n",
    "        \"settings\": {\n",
    "            \"number_of_shards\": 1,\n",
    "            \"index\": {\n",
    "                \"analysis\": analysis_settings,\n",
    "            }\n",
    "        }\n",
    "    }\n",
    "    \n",
    "    if mapping_settings:\n",
    "        settings[\"mappings\"] = mapping_settings\n",
    "    \n",
    "    \n",
    "    print(\"using stettings\\n\", settings)\n",
    "    resp = requests.delete(\"http://localhost:9200/tmdb\")\n",
    "    print(f\"previouse index removal: {resp.status_code}\")\n",
    "    resp = requests.put(\"http://localhost:9200/tmdb\", json=settings)\n",
    "    print(\"index creation\", resp.json())\n",
    "    \n",
    "    bulk_movies = \"\"\n",
    "    for id, movie in movie_dict.items():\n",
    "        add_cmd = {\n",
    "            \"index\": {\"_index\": \"tmdb\", \"_id\": movie[\"id\"]}\n",
    "        }\n",
    "        bulk_movies += json.dumps(add_cmd) + \"\\n\" + json.dumps(movie) + \"\\n\"\n",
    "    \n",
    "    resp = requests.post(\n",
    "        \"http://localhost:9200/_bulk\",\n",
    "        data=bulk_movies,\n",
    "        headers={'Content-Type': 'application/json'}\n",
    "    )\n",
    "    return resp"
   ]
  },
  {
   "cell_type": "code",
   "execution_count": null,
   "metadata": {},
   "outputs": [],
   "source": []
  },
  {
   "cell_type": "code",
   "execution_count": 19,
   "metadata": {},
   "outputs": [],
   "source": [
    "def search(query):\n",
    "    url = 'http://localhost:9200/tmdb/_doc/_search'\n",
    "    resp = requests.get(url, json=query)\n",
    "    \n",
    "    search_hits = json.loads(resp.text)['hits']\n",
    "    \n",
    "    print(\"Num\\tid\\tRelevance\\tMovie title\")\n",
    "    \n",
    "    for idx, hit in enumerate(search_hits['hits']):\n",
    "        print(f\"{idx}\\t{hit['_id']}\\t{hit['_score']}\\t{hit['_source']['title']}\")"
   ]
  },
  {
   "cell_type": "code",
   "execution_count": null,
   "metadata": {},
   "outputs": [],
   "source": []
  },
  {
   "cell_type": "code",
   "execution_count": 5,
   "metadata": {},
   "outputs": [],
   "source": [
    "movie_dict = extract()"
   ]
  },
  {
   "cell_type": "code",
   "execution_count": 6,
   "metadata": {},
   "outputs": [],
   "source": [
    "analysis = {\n",
    "    \"analyzer\": {\n",
    "        \"default\": {\n",
    "            \"type\": \"english\"\n",
    "        }\n",
    "    }\n",
    "}"
   ]
  },
  {
   "cell_type": "code",
   "execution_count": 7,
   "metadata": {},
   "outputs": [
    {
     "data": {
      "text/plain": [
       "<Response [200]>"
      ]
     },
     "execution_count": 7,
     "metadata": {},
     "output_type": "execute_result"
    }
   ],
   "source": [
    "reindex(analysis_settings=analysis, mapping_settings=None, movie_dict=movie_dict)"
   ]
  },
  {
   "cell_type": "code",
   "execution_count": 8,
   "metadata": {},
   "outputs": [],
   "source": [
    "user_search = \"basketball with cartoon aliens\""
   ]
  },
  {
   "cell_type": "code",
   "execution_count": 9,
   "metadata": {},
   "outputs": [],
   "source": [
    "query = {\n",
    "    \"query\": {\n",
    "        \"multi_match\": {\n",
    "            \"query\": user_search,\n",
    "            \"fields\": [\"title^0.1\", \"overview\"]\n",
    "        }\n",
    "    }\n",
    "}"
   ]
  },
  {
   "cell_type": "code",
   "execution_count": 15,
   "metadata": {},
   "outputs": [
    {
     "name": "stdout",
     "output_type": "stream",
     "text": [
      "Num\tRelevance\tMovie title\n",
      "0\t12.882349\tSpace Jam\n",
      "1\t7.5384703\tGrown Ups\n",
      "2\t7.4996777\tSpeed Racer\n",
      "3\t7.244087\tSemi-Pro\n",
      "4\t7.1626425\tThe Flintstones\n",
      "5\t6.943389\tCoach Carter\n",
      "6\t6.7653713\tWhite Men Can't Jump\n",
      "7\t5.845222\tMeet Dave\n",
      "8\t5.800564\tAliens vs Predator: Requiem\n",
      "9\t5.440302\tBedazzled\n"
     ]
    }
   ],
   "source": [
    "search(query)"
   ]
  },
  {
   "cell_type": "code",
   "execution_count": 11,
   "metadata": {},
   "outputs": [],
   "source": [
    "space_jam_id = 2300\n",
    "IDX_URI = \"http://localhost:9200/tmdb\""
   ]
  },
  {
   "cell_type": "code",
   "execution_count": 12,
   "metadata": {},
   "outputs": [],
   "source": [
    "resp = requests.get(f\"{IDX_URI}/_doc/{space_jam_id}\")"
   ]
  },
  {
   "cell_type": "code",
   "execution_count": 13,
   "metadata": {},
   "outputs": [],
   "source": [
    "space_jam_doc = resp.json()"
   ]
  },
  {
   "cell_type": "code",
   "execution_count": 14,
   "metadata": {},
   "outputs": [
    {
     "name": "stdout",
     "output_type": "stream",
     "text": [
      "{\n",
      " \"poster_path\": \"/9T9ucCk6wO0crRBUIkBJMRAVcKp.jpg\",\n",
      " \"production_countries\": [\n",
      "  {\n",
      "   \"iso_3166_1\": \"US\",\n",
      "   \"name\": \"United States of America\"\n",
      "  }\n",
      " ],\n",
      " \"revenue\": 230000000,\n",
      " \"overview\": \"Michael Jordan agrees to help the Looney Tunes play a basketball game against alien slavers to determine their freedom.\",\n",
      " \"video\": false,\n",
      " \"id\": 2300,\n",
      " \"genres\": [\n",
      "  {\n",
      "   \"id\": 16,\n",
      "   \"name\": \"Animation\"\n",
      "  },\n",
      "  {\n",
      "   \"id\": 35,\n",
      "   \"name\": \"Comedy\"\n",
      "  },\n",
      "  {\n",
      "   \"id\": 18,\n",
      "   \"name\": \"Drama\"\n",
      "  },\n",
      "  {\n",
      "   \"id\": 14,\n",
      "   \"name\": \"Fantasy\"\n",
      "  },\n",
      "  {\n",
      "   \"id\": 10751,\n",
      "   \"name\": \"Family\"\n",
      "  }\n",
      " ],\n",
      " \"title\": \"Space Jam\",\n",
      " \"tagline\": \"Get ready to jam.\",\n",
      " \"vote_count\": 275,\n",
      " \"homepage\": \"\",\n",
      " \"belongs_to_collection\": null,\n",
      " \"original_language\": \"en\",\n",
      " \"status\": \"Released\",\n",
      " \"spoken_languages\": [\n",
      "  {\n",
      "   \"iso_639_1\": \"cs\",\n",
      "   \"name\": \"\\u010cesk\\u00fd\"\n",
      "  },\n",
      "  {\n",
      "   \"iso_639_1\": \"fr\",\n",
      "   \"name\": \"Fran\\u00e7ais\"\n",
      "  },\n",
      "  {\n",
      "   \"iso_639_1\": \"pl\",\n",
      "   \"name\": \"Polski\"\n",
      "  },\n",
      "  {\n",
      "   \"iso_639_1\": \"en\",\n",
      "   \"name\": \"English\"\n",
      "  }\n",
      " ],\n",
      " \"imdb_id\": \"tt0117705\",\n",
      " \"adult\": false,\n",
      " \"backdrop_path\": \"/kBTdPNTAzagAY6UiwY957KCDGuu.jpg\",\n",
      " \"production_companies\": [\n",
      "  {\n",
      "   \"name\": \"Warner Bros. Animation\",\n",
      "   \"id\": 2785\n",
      "  },\n",
      "  {\n",
      "   \"name\": \"Warner Bros. Entertainment\",\n",
      "   \"id\": 17\n",
      "  }\n",
      " ],\n",
      " \"release_date\": \"1996-11-15\",\n",
      " \"popularity\": 0.778260445788321,\n",
      " \"original_title\": \"Space Jam\",\n",
      " \"budget\": 80000000,\n",
      " \"cast\": [\n",
      "  {\n",
      "   \"name\": \"Michael Jordan\",\n",
      "   \"character\": \"Himself\",\n",
      "   \"id\": 23678,\n",
      "   \"credit_id\": \"52fe434bc3a36847f80496c9\",\n",
      "   \"cast_id\": 2,\n",
      "   \"profile_path\": \"/7y16frD57Ztzk2mY4JeI2pQQhan.jpg\",\n",
      "   \"order\": 0\n",
      "  },\n",
      "  {\n",
      "   \"name\": \"Wayne Knight\",\n",
      "   \"character\": \"Stan Podolak\",\n",
      "   \"id\": 4201,\n",
      "   \"credit_id\": \"52fe434bc3a36847f80496cd\",\n",
      "   \"cast_id\": 3,\n",
      "   \"profile_path\": \"/oW9aeZwkz1S1IMjQGtd9mnvlEax.jpg\",\n",
      "   \"order\": 1\n",
      "  },\n",
      "  {\n",
      "   \"name\": \"Billy West\",\n",
      "   \"character\": \"Bugs Bunny/Elmer Fudd (voice)\",\n",
      "   \"id\": 23679,\n",
      "   \"credit_id\": \"52fe434bc3a36847f80496d1\",\n",
      "   \"cast_id\": 4,\n",
      "   \"profile_path\": \"/9V9fsfmWjHEDbS8tB5EOdHkyMFg.jpg\",\n",
      "   \"order\": 2\n",
      "  },\n",
      "  {\n",
      "   \"name\": \"Dee Bradley Baker\",\n",
      "   \"character\": \"Daffy Duck/Tazmanian Devil/Bull (voice)\",\n",
      "   \"id\": 23680,\n",
      "   \"credit_id\": \"52fe434bc3a36847f80496d5\",\n",
      "   \"cast_id\": 5,\n",
      "   \"profile_path\": \"/zFXwtsdvUCeNkzCzYpYZdAmTkJY.jpg\",\n",
      "   \"order\": 3\n",
      "  },\n",
      "  {\n",
      "   \"name\": \"Theresa Randle\",\n",
      "   \"character\": \"Juanita Jordan\",\n",
      "   \"id\": 4604,\n",
      "   \"credit_id\": \"52fe434bc3a36847f80496d9\",\n",
      "   \"cast_id\": 6,\n",
      "   \"profile_path\": \"/18LVR034VKDGOFqDw1EA1VZQVoe.jpg\",\n",
      "   \"order\": 4\n",
      "  },\n",
      "  {\n",
      "   \"name\": \"Danny DeVito\",\n",
      "   \"character\": \"Mr. Swackhammer (voice)\",\n",
      "   \"id\": 518,\n",
      "   \"credit_id\": \"52fe434bc3a36847f80496dd\",\n",
      "   \"cast_id\": 7,\n",
      "   \"profile_path\": \"/zKuyzmKzPLG7RJo7lbbHjx6CCZc.jpg\",\n",
      "   \"order\": 5\n",
      "  },\n",
      "  {\n",
      "   \"name\": \"Brandon Hammond\",\n",
      "   \"character\": \"Michael Jordan (at 10)\",\n",
      "   \"id\": 23681,\n",
      "   \"credit_id\": \"52fe434bc3a36847f80496e1\",\n",
      "   \"cast_id\": 8,\n",
      "   \"profile_path\": \"/ooljlVi5IYf2w4Px3jqc8OQdjjS.jpg\",\n",
      "   \"order\": 6\n",
      "  },\n",
      "  {\n",
      "   \"name\": \"Larry Bird\",\n",
      "   \"character\": \"Himself\",\n",
      "   \"id\": 23682,\n",
      "   \"credit_id\": \"52fe434bc3a36847f80496e5\",\n",
      "   \"cast_id\": 9,\n",
      "   \"profile_path\": \"/1KRnQVsXS8mz4tHHWD1yPAQBXq2.jpg\",\n",
      "   \"order\": 7\n",
      "  },\n",
      "  {\n",
      "   \"name\": \"Bill Murray\",\n",
      "   \"character\": \"Himself\",\n",
      "   \"id\": 1532,\n",
      "   \"credit_id\": \"52fe434bc3a36847f80496e9\",\n",
      "   \"cast_id\": 12,\n",
      "   \"profile_path\": \"/eb58HuFIrxS0zUmbmW4d8YXTbje.jpg\",\n",
      "   \"order\": 8\n",
      "  },\n",
      "  {\n",
      "   \"name\": \"Charles Barkley\",\n",
      "   \"character\": \"Himself\",\n",
      "   \"id\": 1211812,\n",
      "   \"credit_id\": \"5361746b0e0a2649bf0004e6\",\n",
      "   \"cast_id\": 37,\n",
      "   \"profile_path\": \"/mqHWhTtrja9vI8kfI6z7tCq5gB1.jpg\",\n",
      "   \"order\": 9\n",
      "  },\n",
      "  {\n",
      "   \"name\": \"Patrick Ewing\",\n",
      "   \"character\": \"Himself\",\n",
      "   \"id\": 1231141,\n",
      "   \"credit_id\": \"53614c6cc3a368397e0001d2\",\n",
      "   \"cast_id\": 19,\n",
      "   \"profile_path\": \"/aaXM8PuixEHNTLmvBQJLH8vV1SV.jpg\",\n",
      "   \"order\": 11\n",
      "  },\n",
      "  {\n",
      "   \"name\": \"Tyrone Bogues\",\n",
      "   \"character\": \"Himself\",\n",
      "   \"id\": 1232432,\n",
      "   \"credit_id\": \"53614e44c3a36839650001b4\",\n",
      "   \"cast_id\": 20,\n",
      "   \"profile_path\": null,\n",
      "   \"order\": 12\n",
      "  },\n",
      "  {\n",
      "   \"name\": \"Larry Johnson\",\n",
      "   \"character\": \"Himself\",\n",
      "   \"id\": 1225517,\n",
      "   \"credit_id\": \"53614eb1c3a36839650001bc\",\n",
      "   \"cast_id\": 21,\n",
      "   \"profile_path\": \"/gbfwZWitnSrcQwkAughr5Ji4iT5.jpg\",\n",
      "   \"order\": 13\n",
      "  },\n",
      "  {\n",
      "   \"name\": \"Shawn Bradley\",\n",
      "   \"character\": \"Himself\",\n",
      "   \"id\": 1234833,\n",
      "   \"credit_id\": \"5361565a0e0a2649b800027a\",\n",
      "   \"cast_id\": 22,\n",
      "   \"profile_path\": null,\n",
      "   \"order\": 14\n",
      "  },\n",
      "  {\n",
      "   \"name\": \"Ahmad Rashad\",\n",
      "   \"character\": \"Himself\",\n",
      "   \"id\": 1197748,\n",
      "   \"credit_id\": \"5361566c0e0a2649a6000277\",\n",
      "   \"cast_id\": 23,\n",
      "   \"profile_path\": null,\n",
      "   \"order\": 15\n",
      "  },\n",
      "  {\n",
      "   \"name\": \"Del Harris\",\n",
      "   \"character\": \"Himself\",\n",
      "   \"id\": 1251369,\n",
      "   \"credit_id\": \"536156930e0a2649b800027f\",\n",
      "   \"cast_id\": 24,\n",
      "   \"profile_path\": null,\n",
      "   \"order\": 16\n",
      "  },\n",
      "  {\n",
      "   \"name\": \"Vlade Divac\",\n",
      "   \"character\": \"Himself\",\n",
      "   \"id\": 193304,\n",
      "   \"credit_id\": \"536156a50e0a2649a90002a3\",\n",
      "   \"cast_id\": 25,\n",
      "   \"profile_path\": \"/ivflYHUbWXKyDe5B9su5HSidMA9.jpg\",\n",
      "   \"order\": 17\n",
      "  },\n",
      "  {\n",
      "   \"name\": \"Cedric Ceballos\",\n",
      "   \"character\": \"Himself\",\n",
      "   \"id\": 1230823,\n",
      "   \"credit_id\": \"536156d20e0a2649b8000282\",\n",
      "   \"cast_id\": 26,\n",
      "   \"profile_path\": null,\n",
      "   \"order\": 18\n",
      "  },\n",
      "  {\n",
      "   \"name\": \"Jim Rome\",\n",
      "   \"character\": \"Himself\",\n",
      "   \"id\": 1215304,\n",
      "   \"credit_id\": \"536156e10e0a2649ad000272\",\n",
      "   \"cast_id\": 27,\n",
      "   \"profile_path\": null,\n",
      "   \"order\": 19\n",
      "  },\n",
      "  {\n",
      "   \"name\": \"Paul Westphal\",\n",
      "   \"character\": \"Himself\",\n",
      "   \"id\": 1315402,\n",
      "   \"credit_id\": \"536156ee0e0a2649b8000285\",\n",
      "   \"cast_id\": 28,\n",
      "   \"profile_path\": null,\n",
      "   \"order\": 20\n",
      "  },\n",
      "  {\n",
      "   \"name\": \"Danny Ainge\",\n",
      "   \"character\": \"Himself\",\n",
      "   \"id\": 1315446,\n",
      "   \"credit_id\": \"536156fe0e0a2649ad000275\",\n",
      "   \"cast_id\": 29,\n",
      "   \"profile_path\": null,\n",
      "   \"order\": 21\n",
      "  },\n",
      "  {\n",
      "   \"name\": \"Alonzo Mourning\",\n",
      "   \"character\": \"Himself\",\n",
      "   \"id\": 180625,\n",
      "   \"credit_id\": \"5361571f0e0a2649b8000287\",\n",
      "   \"cast_id\": 30,\n",
      "   \"profile_path\": \"/ukR2lS5Z8avrJnN3Kua1ks3Habf.jpg\",\n",
      "   \"order\": 22\n",
      "  },\n",
      "  {\n",
      "   \"name\": \"A.C. Green\",\n",
      "   \"character\": \"Himself\",\n",
      "   \"id\": 1315447,\n",
      "   \"credit_id\": \"5361572a0e0a2649bf000295\",\n",
      "   \"cast_id\": 31,\n",
      "   \"profile_path\": null,\n",
      "   \"order\": 23\n",
      "  },\n",
      "  {\n",
      "   \"name\": \"Charles Oakley\",\n",
      "   \"character\": \"Himself\",\n",
      "   \"id\": 1315403,\n",
      "   \"credit_id\": \"536157540e0a2649bf00029b\",\n",
      "   \"cast_id\": 32,\n",
      "   \"profile_path\": \"/l35FQsV529lOhDFvMGk8aJ82AV9.jpg\",\n",
      "   \"order\": 24\n",
      "  },\n",
      "  {\n",
      "   \"name\": \"Derek Harper\",\n",
      "   \"character\": \"Himself\",\n",
      "   \"id\": 1315448,\n",
      "   \"credit_id\": \"536157680e0a2649a90002b5\",\n",
      "   \"cast_id\": 33,\n",
      "   \"profile_path\": null,\n",
      "   \"order\": 25\n",
      "  },\n",
      "  {\n",
      "   \"name\": \"Jeff Malone\",\n",
      "   \"character\": \"Himself\",\n",
      "   \"id\": 1315449,\n",
      "   \"credit_id\": \"536157780e0a2649a6000287\",\n",
      "   \"cast_id\": 34,\n",
      "   \"profile_path\": null,\n",
      "   \"order\": 26\n",
      "  },\n",
      "  {\n",
      "   \"name\": \"Anthony Miller\",\n",
      "   \"character\": \"Himself\",\n",
      "   \"id\": 1315450,\n",
      "   \"credit_id\": \"536157ba0e0a2649bb0002d3\",\n",
      "   \"cast_id\": 35,\n",
      "   \"profile_path\": null,\n",
      "   \"order\": 27\n",
      "  },\n",
      "  {\n",
      "   \"name\": \"Sharone Wright\",\n",
      "   \"character\": \"Himself\",\n",
      "   \"id\": 1315451,\n",
      "   \"credit_id\": \"536157cb0e0a2649bf0002a7\",\n",
      "   \"cast_id\": 36,\n",
      "   \"profile_path\": null,\n",
      "   \"order\": 28\n",
      "  }\n",
      " ],\n",
      " \"directors\": [\n",
      "  {\n",
      "   \"name\": \"Joe Pytka\",\n",
      "   \"department\": \"Directing\",\n",
      "   \"job\": \"Director\",\n",
      "   \"credit_id\": \"52fe434bc3a36847f80496c5\",\n",
      "   \"profile_path\": \"/c46Ah1KxlfC4W8mHVrGDsJ7dMPJ.jpg\",\n",
      "   \"id\": 23677\n",
      "  }\n",
      " ],\n",
      " \"vote_average\": 6.3,\n",
      " \"runtime\": 88\n",
      "}\n"
     ]
    }
   ],
   "source": [
    "print(json.dumps(space_jam_doc['_source'], indent=True))"
   ]
  },
  {
   "cell_type": "code",
   "execution_count": 16,
   "metadata": {},
   "outputs": [],
   "source": [
    "user_search = \"patrick stewart\""
   ]
  },
  {
   "cell_type": "code",
   "execution_count": 25,
   "metadata": {},
   "outputs": [],
   "source": [
    "query = {\n",
    "    \"query\": {\n",
    "        \"multi_match\": {\n",
    "            \"query\": user_search,\n",
    "            \"fields\": [\"title\", \"overview\", \"cast.name\", \"directors.name^0.1\"],\n",
    "            \"type\": \"best_fields\"\n",
    "        }\n",
    "    }\n",
    "}"
   ]
  },
  {
   "cell_type": "code",
   "execution_count": 26,
   "metadata": {},
   "outputs": [
    {
     "name": "stdout",
     "output_type": "stream",
     "text": [
      "Num\tid\tRelevance\tMovie title\n",
      "0\t18126\t7.1845765\tHannah Montana: The Movie\n",
      "1\t426\t7.1596975\tVertigo\n",
      "2\t200\t6.9732013\tStar Trek: Insurrection\n",
      "3\t510\t6.9093037\tOne Flew Over the Cuckoo's Nest\n",
      "4\t199\t6.71099\tStar Trek: First Contact\n",
      "5\t11527\t6.5468693\tExcalibur\n",
      "6\t45772\t6.5468693\tGnomeo & Juliet\n",
      "7\t127585\t6.465148\tX-Men: Days of Future Past\n",
      "8\t4547\t6.3152065\tPanic Room\n",
      "9\t8834\t6.2415876\tConspiracy Theory\n"
     ]
    }
   ],
   "source": [
    "search(query)"
   ]
  },
  {
   "cell_type": "code",
   "execution_count": 126,
   "metadata": {},
   "outputs": [],
   "source": [
    "analysis_settings = {\n",
    "   \"analyzer\": {\n",
    "      \"default\": {\n",
    "        \"type\": \"english\"\n",
    "      },\n",
    "      \"english_bigrams\": {\n",
    "          \"tokenizer\": \"standard\",\n",
    "          \"filter\": [\n",
    "            \"lowercase\",\n",
    "            \"porter_stem\",\n",
    "            \"bigram_filter\"\n",
    "          ]\n",
    "      }\n",
    "    },\n",
    "    \"filter\": {\n",
    "        \"bigram_filter\": {\n",
    "          \"type\": \"shingle\",\n",
    "          \"min_shingle_size\": 2,\n",
    "          \"max_shingle_size\": 2,\n",
    "          \"output_unigrams\": False\n",
    "        }\n",
    "    }\n",
    "}"
   ]
  },
  {
   "cell_type": "code",
   "execution_count": 136,
   "metadata": {},
   "outputs": [],
   "source": [
    "mapping_settings = {\n",
    "    \"properties\": {\n",
    "        \"cast\": {\n",
    "            \"properties\": {\n",
    "                \"name\": {\n",
    "                    \"type\": \"text\",\n",
    "                    \"analyzer\": \"english\",\n",
    "                    \"fields\": {\n",
    "                        \"bigramed\": {\n",
    "                            \"type\": \"text\",\n",
    "                            \"analyzer\": \"english_bigrams\"\n",
    "                        }     \n",
    "                    }\n",
    "                }\n",
    "            }\n",
    "        },\n",
    "        \"directors\": {\n",
    "            \"properties\": {\n",
    "                \"name\": {\n",
    "                    \"type\": \"text\",\n",
    "                    \"analyzer\": \"english\",\n",
    "                    \"fields\": {\n",
    "                        \"bigramed\": {\n",
    "                            \"type\": \"text\",\n",
    "                            \"analyzer\": \"english_bigrams\"\n",
    "                        }     \n",
    "                    }\n",
    "                }\n",
    "            }\n",
    "        }\n",
    "    }\n",
    "}"
   ]
  },
  {
   "cell_type": "code",
   "execution_count": 137,
   "metadata": {},
   "outputs": [
    {
     "name": "stdout",
     "output_type": "stream",
     "text": [
      "using stettings\n",
      " {'settings': {'number_of_shards': 1, 'index': {'analysis': {'analyzer': {'default': {'type': 'english'}, 'english_bigrams': {'tokenizer': 'standard', 'filter': ['lowercase', 'porter_stem', 'bigram_filter']}}, 'filter': {'bigram_filter': {'type': 'shingle', 'min_shingle_size': 2, 'max_shingle_size': 2, 'output_unigrams': False}}}}}, 'mappings': {'properties': {'cast': {'properties': {'name': {'type': 'text', 'analyzer': 'english', 'fields': {'bigramed': {'type': 'text', 'analyzer': 'english_bigrams'}}}}}, 'directors': {'properties': {'name': {'type': 'text', 'analyzer': 'english', 'fields': {'bigramed': {'type': 'text', 'analyzer': 'english_bigrams'}}}}}}}}\n",
      "previouse index removal: 200\n",
      "index creation {'acknowledged': True, 'shards_acknowledged': True, 'index': 'tmdb'}\n"
     ]
    }
   ],
   "source": [
    "r = reindex(analysis_settings, mapping_settings, movie_dict)"
   ]
  },
  {
   "cell_type": "code",
   "execution_count": 150,
   "metadata": {},
   "outputs": [],
   "source": [
    "query = {\n",
    "    \"query\": {\n",
    "        \"multi_match\": {\n",
    "            \"query\": user_search,\n",
    "            \"fields\": [\"title\", \"overview\", \"cast.name.bigramed\", \"directors.name.bigramed\"]\n",
    "        }\n",
    "    }\n",
    "}"
   ]
  },
  {
   "cell_type": "code",
   "execution_count": 148,
   "metadata": {},
   "outputs": [
    {
     "name": "stdout",
     "output_type": "stream",
     "text": [
      "Num\tid\tRelevance\tMovie title\n",
      "0\t18126\t7.1845765\tHannah Montana: The Movie\n",
      "1\t510\t6.9093037\tOne Flew Over the Cuckoo's Nest\n",
      "2\t27573\t6.228061\tThe Bounty Hunter\n",
      "3\t200\t6.058046\tStar Trek: Insurrection\n",
      "4\t199\t5.910869\tStar Trek: First Contact\n",
      "5\t11527\t5.7706733\tExcalibur\n",
      "6\t45772\t5.7706733\tGnomeo & Juliet\n",
      "7\t11836\t5.443809\tThe SpongeBob SquarePants Movie\n",
      "8\t4951\t5.443809\t10 Things I Hate About You\n",
      "9\t193\t5.3873396\tStar Trek: Generations\n"
     ]
    }
   ],
   "source": [
    "search(query)"
   ]
  },
  {
   "cell_type": "code",
   "execution_count": 149,
   "metadata": {},
   "outputs": [],
   "source": [
    "user_search = \"star trek patrick stewart\""
   ]
  },
  {
   "cell_type": "code",
   "execution_count": 151,
   "metadata": {},
   "outputs": [
    {
     "data": {
      "text/plain": [
       "{'query': {'multi_match': {'query': 'star trek patrick stewart',\n",
       "   'fields': ['title',\n",
       "    'overview',\n",
       "    'cast.name.bigramed',\n",
       "    'directors.name.bigramed']}}}"
      ]
     },
     "execution_count": 151,
     "metadata": {},
     "output_type": "execute_result"
    }
   ],
   "source": [
    "query"
   ]
  },
  {
   "cell_type": "code",
   "execution_count": 152,
   "metadata": {},
   "outputs": [
    {
     "name": "stdout",
     "output_type": "stream",
     "text": [
      "Num\tid\tRelevance\tMovie title\n",
      "0\t18126\t10.878148\tHannah Montana: The Movie\n",
      "1\t13475\t10.760254\tStar Trek\n",
      "2\t193\t9.007851\tStar Trek: Generations\n",
      "3\t200\t9.007851\tStar Trek: Insurrection\n",
      "4\t201\t9.007851\tStar Trek: Nemesis\n",
      "5\t54138\t9.007851\tStar Trek Into Darkness\n",
      "6\t10567\t8.1140175\tDinosaur\n",
      "7\t50780\t8.019917\tThe Beaver\n",
      "8\t152\t7.7462955\tStar Trek: The Motion Picture\n",
      "9\t199\t7.7462955\tStar Trek: First Contact\n"
     ]
    }
   ],
   "source": [
    "search(query)"
   ]
  },
  {
   "cell_type": "code",
   "execution_count": 159,
   "metadata": {},
   "outputs": [],
   "source": [
    "query = {\n",
    "    \"query\": {\n",
    "        \"multi_match\": {\n",
    "            \"query\": user_search,\n",
    "            \"fields\": [\"title\", \"overview\", \"cast.name.bigramed^5\", \"directors.name.bigramed\"],\n",
    "            \"type\": \"best_fields\",\n",
    "            \"tie_breaker\": 0.4\n",
    "        }\n",
    "    }\n",
    "}"
   ]
  },
  {
   "cell_type": "code",
   "execution_count": 160,
   "metadata": {},
   "outputs": [
    {
     "name": "stdout",
     "output_type": "stream",
     "text": [
      "Num\tid\tRelevance\tMovie title\n",
      "0\t200\t33.893368\tStar Trek: Insurrection\n",
      "1\t199\t32.65286\tStar Trek: First Contact\n",
      "2\t193\t31.895023\tStar Trek: Generations\n",
      "3\t201\t30.539837\tStar Trek: Nemesis\n",
      "4\t11527\t28.853365\tExcalibur\n",
      "5\t45772\t28.853365\tGnomeo & Juliet\n",
      "6\t8834\t26.936697\tConspiracy Theory\n",
      "7\t8005\t26.353167\tRobin Hood: Men in Tights\n",
      "8\t36657\t25.794384\tX-Men\n",
      "9\t76170\t25.794384\tThe Wolverine\n"
     ]
    }
   ],
   "source": [
    "search(query)"
   ]
  }
 ],
 "metadata": {
  "kernelspec": {
   "display_name": "Python 3",
   "language": "python",
   "name": "python3"
  },
  "language_info": {
   "codemirror_mode": {
    "name": "ipython",
    "version": 3
   },
   "file_extension": ".py",
   "mimetype": "text/x-python",
   "name": "python",
   "nbconvert_exporter": "python",
   "pygments_lexer": "ipython3",
   "version": "3.8.3"
  }
 },
 "nbformat": 4,
 "nbformat_minor": 4
}
