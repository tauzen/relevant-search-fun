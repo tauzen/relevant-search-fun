{
 "cells": [
  {
   "cell_type": "code",
   "execution_count": 21,
   "metadata": {},
   "outputs": [],
   "source": [
    "import requests\n",
    "from pprint import pprint"
   ]
  },
  {
   "cell_type": "code",
   "execution_count": null,
   "metadata": {},
   "outputs": [],
   "source": []
  },
  {
   "cell_type": "code",
   "execution_count": 2,
   "metadata": {},
   "outputs": [],
   "source": [
    "ES_URI = \"http://localhost:9200/my_library\"\n",
    "\n",
    "standard_analyzer_settings = {\n",
    "    \"settings\": {\n",
    "        \"analysis\": {\n",
    "            \"analyzer\": {\n",
    "                \"standard_clone\": {\n",
    "                    \"tokenizer\": \"standard\",\n",
    "                    \"filter\": [\n",
    "                        \"lowercase\",\n",
    "                        \"stop\"\n",
    "                    ]\n",
    "                }\n",
    "            }\n",
    "        }\n",
    "    }\n",
    "}"
   ]
  },
  {
   "cell_type": "code",
   "execution_count": 29,
   "metadata": {},
   "outputs": [],
   "source": [
    "STRANGELOVE = \"Dr. Strangelove: Or How I Learned To Stop Worrying and Love the Bomb\"\n",
    "FLOWER = \"flower flowers flowering flowered\"\n",
    "\n",
    "def create_index(settings):\n",
    "    result = requests.put(ES_URI, json=settings)\n",
    "    print(\"Index created\", result.json())\n",
    "\n",
    "def remove_index():\n",
    "    result = requests.delete(ES_URI)\n",
    "    print(\"Index removed\", result.json())\n",
    "    \n",
    "def analyze_query(analyzer, text):\n",
    "    query = {\n",
    "        \"text\": text,\n",
    "        \"analyzer\": analyzer\n",
    "    }\n",
    "    result = requests.get(f\"{ES_URI}/_analyze\", json=query)\n",
    "    pprint(result.json())\n",
    "    "
   ]
  },
  {
   "cell_type": "code",
   "execution_count": null,
   "metadata": {},
   "outputs": [],
   "source": []
  },
  {
   "cell_type": "code",
   "execution_count": 15,
   "metadata": {},
   "outputs": [
    {
     "name": "stdout",
     "output_type": "stream",
     "text": [
      "Index removed {'acknowledged': True}\n"
     ]
    }
   ],
   "source": [
    "remove_index()"
   ]
  },
  {
   "cell_type": "code",
   "execution_count": 16,
   "metadata": {},
   "outputs": [
    {
     "name": "stdout",
     "output_type": "stream",
     "text": [
      "Index created {'acknowledged': True, 'shards_acknowledged': True, 'index': 'my_library'}\n"
     ]
    }
   ],
   "source": [
    "create_index(standard_analyzer_settings)"
   ]
  },
  {
   "cell_type": "code",
   "execution_count": 23,
   "metadata": {},
   "outputs": [
    {
     "name": "stdout",
     "output_type": "stream",
     "text": [
      "{'tokens': [{'end_offset': 2,\n",
      "             'position': 0,\n",
      "             'start_offset': 0,\n",
      "             'token': 'dr',\n",
      "             'type': '<ALPHANUM>'},\n",
      "            {'end_offset': 15,\n",
      "             'position': 1,\n",
      "             'start_offset': 4,\n",
      "             'token': 'strangelove',\n",
      "             'type': '<ALPHANUM>'},\n",
      "            {'end_offset': 23,\n",
      "             'position': 3,\n",
      "             'start_offset': 20,\n",
      "             'token': 'how',\n",
      "             'type': '<ALPHANUM>'},\n",
      "            {'end_offset': 25,\n",
      "             'position': 4,\n",
      "             'start_offset': 24,\n",
      "             'token': 'i',\n",
      "             'type': '<ALPHANUM>'},\n",
      "            {'end_offset': 33,\n",
      "             'position': 5,\n",
      "             'start_offset': 26,\n",
      "             'token': 'learned',\n",
      "             'type': '<ALPHANUM>'},\n",
      "            {'end_offset': 41,\n",
      "             'position': 7,\n",
      "             'start_offset': 37,\n",
      "             'token': 'stop',\n",
      "             'type': '<ALPHANUM>'},\n",
      "            {'end_offset': 50,\n",
      "             'position': 8,\n",
      "             'start_offset': 42,\n",
      "             'token': 'worrying',\n",
      "             'type': '<ALPHANUM>'},\n",
      "            {'end_offset': 59,\n",
      "             'position': 10,\n",
      "             'start_offset': 55,\n",
      "             'token': 'love',\n",
      "             'type': '<ALPHANUM>'},\n",
      "            {'end_offset': 68,\n",
      "             'position': 12,\n",
      "             'start_offset': 64,\n",
      "             'token': 'bomb',\n",
      "             'type': '<ALPHANUM>'}]}\n"
     ]
    }
   ],
   "source": [
    "analyze_query(\"standard_clone\", STRANGELOVE)"
   ]
  },
  {
   "cell_type": "code",
   "execution_count": 24,
   "metadata": {},
   "outputs": [
    {
     "name": "stdout",
     "output_type": "stream",
     "text": [
      "Index removed {'acknowledged': True}\n"
     ]
    }
   ],
   "source": [
    "remove_index()"
   ]
  },
  {
   "cell_type": "code",
   "execution_count": 25,
   "metadata": {},
   "outputs": [],
   "source": [
    "english_analyzer_settings = {\n",
    "    \"settings\": {\n",
    "        \"analysis\": {\n",
    "            \"filter\": {\n",
    "                \"english_stop\": {\n",
    "                    \"type\": \"stop\",\n",
    "                    \"stopwords\": \"_english_\"\n",
    "                },\n",
    "                \"english_keywords\": {\n",
    "                    \"type\": \"keyword_marker\",\n",
    "                    \"keywords\": [\"example\"]\n",
    "                },\n",
    "                \"english_stemmer\": {\n",
    "                    \"type\": \"stemmer\",\n",
    "                    \"language\": \"english\"\n",
    "                },\n",
    "                \"english_possesive_stemmer\": {\n",
    "                    \"type\": \"stemmer\",\n",
    "                    \"language\": \"possessive_english\"\n",
    "                }\n",
    "            },\n",
    "            \"analyzer\": {\n",
    "                \"english_clone\": {\n",
    "                    \"tokenizer\": \"standard\",\n",
    "                    \"filter\": [\n",
    "                        \"english_possesive_stemmer\",\n",
    "                        \"lowercase\",\n",
    "                        \"english_stop\",\n",
    "                        \"english_keywords\",\n",
    "                        \"english_stemmer\"\n",
    "                    ]\n",
    "                }\n",
    "            }\n",
    "        }\n",
    "    }\n",
    "}"
   ]
  },
  {
   "cell_type": "code",
   "execution_count": 26,
   "metadata": {},
   "outputs": [
    {
     "name": "stdout",
     "output_type": "stream",
     "text": [
      "Index created {'acknowledged': True, 'shards_acknowledged': True, 'index': 'my_library'}\n"
     ]
    }
   ],
   "source": [
    "create_index(english_analyzer_settings)"
   ]
  },
  {
   "cell_type": "code",
   "execution_count": 28,
   "metadata": {},
   "outputs": [
    {
     "name": "stdout",
     "output_type": "stream",
     "text": [
      "{'tokens': [{'end_offset': 2,\n",
      "             'position': 0,\n",
      "             'start_offset': 0,\n",
      "             'token': 'dr',\n",
      "             'type': '<ALPHANUM>'},\n",
      "            {'end_offset': 15,\n",
      "             'position': 1,\n",
      "             'start_offset': 4,\n",
      "             'token': 'strangelov',\n",
      "             'type': '<ALPHANUM>'},\n",
      "            {'end_offset': 23,\n",
      "             'position': 3,\n",
      "             'start_offset': 20,\n",
      "             'token': 'how',\n",
      "             'type': '<ALPHANUM>'},\n",
      "            {'end_offset': 25,\n",
      "             'position': 4,\n",
      "             'start_offset': 24,\n",
      "             'token': 'i',\n",
      "             'type': '<ALPHANUM>'},\n",
      "            {'end_offset': 33,\n",
      "             'position': 5,\n",
      "             'start_offset': 26,\n",
      "             'token': 'learn',\n",
      "             'type': '<ALPHANUM>'},\n",
      "            {'end_offset': 41,\n",
      "             'position': 7,\n",
      "             'start_offset': 37,\n",
      "             'token': 'stop',\n",
      "             'type': '<ALPHANUM>'},\n",
      "            {'end_offset': 50,\n",
      "             'position': 8,\n",
      "             'start_offset': 42,\n",
      "             'token': 'worri',\n",
      "             'type': '<ALPHANUM>'},\n",
      "            {'end_offset': 59,\n",
      "             'position': 10,\n",
      "             'start_offset': 55,\n",
      "             'token': 'love',\n",
      "             'type': '<ALPHANUM>'},\n",
      "            {'end_offset': 68,\n",
      "             'position': 12,\n",
      "             'start_offset': 64,\n",
      "             'token': 'bomb',\n",
      "             'type': '<ALPHANUM>'}]}\n"
     ]
    }
   ],
   "source": [
    "analyze_query(\"english_clone\", STRANGELOVE)"
   ]
  },
  {
   "cell_type": "code",
   "execution_count": 30,
   "metadata": {},
   "outputs": [
    {
     "name": "stdout",
     "output_type": "stream",
     "text": [
      "{'tokens': [{'end_offset': 6,\n",
      "             'position': 0,\n",
      "             'start_offset': 0,\n",
      "             'token': 'flower',\n",
      "             'type': '<ALPHANUM>'},\n",
      "            {'end_offset': 14,\n",
      "             'position': 1,\n",
      "             'start_offset': 7,\n",
      "             'token': 'flower',\n",
      "             'type': '<ALPHANUM>'},\n",
      "            {'end_offset': 24,\n",
      "             'position': 2,\n",
      "             'start_offset': 15,\n",
      "             'token': 'flower',\n",
      "             'type': '<ALPHANUM>'},\n",
      "            {'end_offset': 33,\n",
      "             'position': 3,\n",
      "             'start_offset': 25,\n",
      "             'token': 'flower',\n",
      "             'type': '<ALPHANUM>'}]}\n"
     ]
    }
   ],
   "source": [
    "analyze_query(\"english_clone\", FLOWER)"
   ]
  },
  {
   "cell_type": "code",
   "execution_count": 31,
   "metadata": {},
   "outputs": [
    {
     "name": "stdout",
     "output_type": "stream",
     "text": [
      "{'tokens': [{'end_offset': 2,\n",
      "             'position': 0,\n",
      "             'start_offset': 0,\n",
      "             'token': 'mr',\n",
      "             'type': '<ALPHANUM>'},\n",
      "            {'end_offset': 13,\n",
      "             'position': 1,\n",
      "             'start_offset': 4,\n",
      "             'token': 'weirdlov',\n",
      "             'type': '<ALPHANUM>'},\n",
      "            {'end_offset': 21,\n",
      "             'position': 2,\n",
      "             'start_offset': 16,\n",
      "             'token': \"don't\",\n",
      "             'type': '<ALPHANUM>'},\n",
      "            {'end_offset': 27,\n",
      "             'position': 3,\n",
      "             'start_offset': 22,\n",
      "             'token': 'worri',\n",
      "             'type': '<ALPHANUM>'},\n",
      "            {'end_offset': 31,\n",
      "             'position': 4,\n",
      "             'start_offset': 28,\n",
      "             'token': \"i'm\",\n",
      "             'type': '<ALPHANUM>'},\n",
      "            {'end_offset': 40,\n",
      "             'position': 5,\n",
      "             'start_offset': 32,\n",
      "             'token': 'learn',\n",
      "             'type': '<ALPHANUM>'},\n",
      "            {'end_offset': 48,\n",
      "             'position': 7,\n",
      "             'start_offset': 44,\n",
      "             'token': 'star',\n",
      "             'type': '<ALPHANUM>'},\n",
      "            {'end_offset': 55,\n",
      "             'position': 8,\n",
      "             'start_offset': 49,\n",
      "             'token': 'love',\n",
      "             'type': '<ALPHANUM>'},\n",
      "            {'end_offset': 61,\n",
      "             'position': 9,\n",
      "             'start_offset': 56,\n",
      "             'token': 'bomb',\n",
      "             'type': '<ALPHANUM>'}]}\n"
     ]
    }
   ],
   "source": [
    "ALMOST_STRANGELOVE = \"mr. weirdlove:  don't worry I'm learning to star loving bombs\"\n",
    "analyze_query(\"english_clone\", ALMOST_STRANGELOVE)"
   ]
  },
  {
   "cell_type": "code",
   "execution_count": 32,
   "metadata": {},
   "outputs": [],
   "source": [
    "phonetic_analyzer_settings = {\n",
    "    \"settings\": {\n",
    "        \"analysis\": {\n",
    "            \"analyzer\": {\n",
    "                \"phonetic\": {\n",
    "                    \"tokenizer\": \"standard\",\n",
    "                    \"filter\": [\n",
    "                        \"lowercase\",\n",
    "                        \"my_doublemetaphone\"\n",
    "                    ]\n",
    "                }\n",
    "            },\n",
    "            \"filter\": {\n",
    "                \"my_doublemetaphone\": {\n",
    "                    \"type\": \"phonetic\",\n",
    "                    \"encoder\": \"doublemetaphone\",\n",
    "                    \"replace\": True\n",
    "                }\n",
    "            }\n",
    "        }       \n",
    "    }\n",
    "}"
   ]
  },
  {
   "cell_type": "code",
   "execution_count": 33,
   "metadata": {},
   "outputs": [
    {
     "name": "stdout",
     "output_type": "stream",
     "text": [
      "Index removed {'acknowledged': True}\n",
      "Index created {'acknowledged': True, 'shards_acknowledged': True, 'index': 'my_library'}\n"
     ]
    }
   ],
   "source": [
    "remove_index()\n",
    "create_index(phonetic_analyzer_settings)"
   ]
  },
  {
   "cell_type": "code",
   "execution_count": 34,
   "metadata": {},
   "outputs": [
    {
     "name": "stdout",
     "output_type": "stream",
     "text": [
      "{'tokens': [{'end_offset': 7,\n",
      "             'position': 0,\n",
      "             'start_offset': 0,\n",
      "             'token': 'MSJ',\n",
      "             'type': '<ALPHANUM>'},\n",
      "            {'end_offset': 7,\n",
      "             'position': 0,\n",
      "             'start_offset': 0,\n",
      "             'token': 'MSK',\n",
      "             'type': '<ALPHANUM>'},\n",
      "            {'end_offset': 12,\n",
      "             'position': 1,\n",
      "             'start_offset': 8,\n",
      "             'token': 'FRM',\n",
      "             'type': '<ALPHANUM>'},\n",
      "            {'end_offset': 18,\n",
      "             'position': 2,\n",
      "             'start_offset': 13,\n",
      "             'token': 'TL',\n",
      "             'type': '<ALPHANUM>'},\n",
      "            {'end_offset': 23,\n",
      "             'position': 3,\n",
      "             'start_offset': 19,\n",
      "             'token': 'LM',\n",
      "             'type': '<ALPHANUM>'}]}\n"
     ]
    }
   ],
   "source": [
    "analyze_query(\"phonetic\", \"Message from Dalai Lama\")"
   ]
  },
  {
   "cell_type": "code",
   "execution_count": 35,
   "metadata": {},
   "outputs": [
    {
     "name": "stdout",
     "output_type": "stream",
     "text": [
      "{'tokens': [{'end_offset': 7,\n",
      "             'position': 0,\n",
      "             'start_offset': 0,\n",
      "             'token': 'MSJ',\n",
      "             'type': '<ALPHANUM>'},\n",
      "            {'end_offset': 7,\n",
      "             'position': 0,\n",
      "             'start_offset': 0,\n",
      "             'token': 'MSK',\n",
      "             'type': '<ALPHANUM>'},\n",
      "            {'end_offset': 12,\n",
      "             'position': 1,\n",
      "             'start_offset': 8,\n",
      "             'token': 'FRM',\n",
      "             'type': '<ALPHANUM>'},\n",
      "            {'end_offset': 17,\n",
      "             'position': 2,\n",
      "             'start_offset': 13,\n",
      "             'token': 'TL',\n",
      "             'type': '<ALPHANUM>'},\n",
      "            {'end_offset': 23,\n",
      "             'position': 3,\n",
      "             'start_offset': 18,\n",
      "             'token': 'LM',\n",
      "             'type': '<ALPHANUM>'}]}\n"
     ]
    }
   ],
   "source": [
    "analyze_query(\"phonetic\", \"Message from tall llama\")"
   ]
  },
  {
   "cell_type": "code",
   "execution_count": null,
   "metadata": {},
   "outputs": [],
   "source": []
  }
 ],
 "metadata": {
  "kernelspec": {
   "display_name": "Python 3",
   "language": "python",
   "name": "python3"
  },
  "language_info": {
   "codemirror_mode": {
    "name": "ipython",
    "version": 3
   },
   "file_extension": ".py",
   "mimetype": "text/x-python",
   "name": "python",
   "nbconvert_exporter": "python",
   "pygments_lexer": "ipython3",
   "version": "3.8.3"
  }
 },
 "nbformat": 4,
 "nbformat_minor": 4
}
