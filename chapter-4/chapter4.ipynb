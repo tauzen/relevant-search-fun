{
 "cells": [
  {
   "cell_type": "code",
   "execution_count": 1,
   "metadata": {},
   "outputs": [],
   "source": [
    "import requests\n",
    "from pprint import pprint"
   ]
  },
  {
   "cell_type": "code",
   "execution_count": 2,
   "metadata": {},
   "outputs": [],
   "source": [
    "ES_URI = \"http://localhost:9200/my_library\"\n",
    "\n",
    "standard_analyzer_settings = {\n",
    "    \"settings\": {\n",
    "        \"analysis\": {\n",
    "            \"analyzer\": {\n",
    "                \"standard_clone\": {\n",
    "                    \"tokenizer\": \"standard\",\n",
    "                    \"filter\": [\n",
    "                        \"lowercase\",\n",
    "                        \"stop\"\n",
    "                    ]\n",
    "                }\n",
    "            }\n",
    "        }\n",
    "    }\n",
    "}"
   ]
  },
  {
   "cell_type": "code",
   "execution_count": 3,
   "metadata": {},
   "outputs": [],
   "source": [
    "STRANGELOVE = \"Dr. Strangelove: Or How I Learned To Stop Worrying and Love the Bomb\"\n",
    "FLOWER = \"flower flowers flowering flowered\"\n",
    "\n",
    "def create_index(settings):\n",
    "    result = requests.put(ES_URI, json=settings)\n",
    "    print(\"Index created\", result.json())\n",
    "\n",
    "def remove_index():\n",
    "    result = requests.delete(ES_URI)\n",
    "    print(\"Index removed\", result.json())\n",
    "    \n",
    "def analyze_query(analyzer, text):\n",
    "    query = {\n",
    "        \"text\": text,\n",
    "        \"analyzer\": analyzer\n",
    "    }\n",
    "    result = requests.get(f\"{ES_URI}/_analyze\", json=query)\n",
    "    pprint(result.json())\n",
    "    "
   ]
  },
  {
   "cell_type": "code",
   "execution_count": 4,
   "metadata": {},
   "outputs": [
    {
     "name": "stdout",
     "output_type": "stream",
     "text": [
      "Index removed {'acknowledged': True}\n"
     ]
    }
   ],
   "source": [
    "remove_index()"
   ]
  },
  {
   "cell_type": "code",
   "execution_count": 5,
   "metadata": {},
   "outputs": [
    {
     "name": "stdout",
     "output_type": "stream",
     "text": [
      "Index created {'acknowledged': True, 'shards_acknowledged': True, 'index': 'my_library'}\n"
     ]
    }
   ],
   "source": [
    "create_index(standard_analyzer_settings)"
   ]
  },
  {
   "cell_type": "code",
   "execution_count": 6,
   "metadata": {},
   "outputs": [
    {
     "name": "stdout",
     "output_type": "stream",
     "text": [
      "{'tokens': [{'end_offset': 2,\n",
      "             'position': 0,\n",
      "             'start_offset': 0,\n",
      "             'token': 'dr',\n",
      "             'type': '<ALPHANUM>'},\n",
      "            {'end_offset': 15,\n",
      "             'position': 1,\n",
      "             'start_offset': 4,\n",
      "             'token': 'strangelove',\n",
      "             'type': '<ALPHANUM>'},\n",
      "            {'end_offset': 23,\n",
      "             'position': 3,\n",
      "             'start_offset': 20,\n",
      "             'token': 'how',\n",
      "             'type': '<ALPHANUM>'},\n",
      "            {'end_offset': 25,\n",
      "             'position': 4,\n",
      "             'start_offset': 24,\n",
      "             'token': 'i',\n",
      "             'type': '<ALPHANUM>'},\n",
      "            {'end_offset': 33,\n",
      "             'position': 5,\n",
      "             'start_offset': 26,\n",
      "             'token': 'learned',\n",
      "             'type': '<ALPHANUM>'},\n",
      "            {'end_offset': 41,\n",
      "             'position': 7,\n",
      "             'start_offset': 37,\n",
      "             'token': 'stop',\n",
      "             'type': '<ALPHANUM>'},\n",
      "            {'end_offset': 50,\n",
      "             'position': 8,\n",
      "             'start_offset': 42,\n",
      "             'token': 'worrying',\n",
      "             'type': '<ALPHANUM>'},\n",
      "            {'end_offset': 59,\n",
      "             'position': 10,\n",
      "             'start_offset': 55,\n",
      "             'token': 'love',\n",
      "             'type': '<ALPHANUM>'},\n",
      "            {'end_offset': 68,\n",
      "             'position': 12,\n",
      "             'start_offset': 64,\n",
      "             'token': 'bomb',\n",
      "             'type': '<ALPHANUM>'}]}\n"
     ]
    }
   ],
   "source": [
    "analyze_query(\"standard_clone\", STRANGELOVE)"
   ]
  },
  {
   "cell_type": "code",
   "execution_count": 7,
   "metadata": {},
   "outputs": [
    {
     "name": "stdout",
     "output_type": "stream",
     "text": [
      "Index removed {'acknowledged': True}\n"
     ]
    }
   ],
   "source": [
    "remove_index()"
   ]
  },
  {
   "cell_type": "code",
   "execution_count": 8,
   "metadata": {},
   "outputs": [],
   "source": [
    "english_analyzer_settings = {\n",
    "    \"settings\": {\n",
    "        \"analysis\": {\n",
    "            \"filter\": {\n",
    "                \"english_stop\": {\n",
    "                    \"type\": \"stop\",\n",
    "                    \"stopwords\": \"_english_\"\n",
    "                },\n",
    "                \"english_keywords\": {\n",
    "                    \"type\": \"keyword_marker\",\n",
    "                    \"keywords\": [\"example\"]\n",
    "                },\n",
    "                \"english_stemmer\": {\n",
    "                    \"type\": \"stemmer\",\n",
    "                    \"language\": \"english\"\n",
    "                },\n",
    "                \"english_possesive_stemmer\": {\n",
    "                    \"type\": \"stemmer\",\n",
    "                    \"language\": \"possessive_english\"\n",
    "                }\n",
    "            },\n",
    "            \"analyzer\": {\n",
    "                \"english_clone\": {\n",
    "                    \"tokenizer\": \"standard\",\n",
    "                    \"filter\": [\n",
    "                        \"english_possesive_stemmer\",\n",
    "                        \"lowercase\",\n",
    "                        \"english_stop\",\n",
    "                        \"english_keywords\",\n",
    "                        \"english_stemmer\"\n",
    "                    ]\n",
    "                }\n",
    "            }\n",
    "        }\n",
    "    }\n",
    "}"
   ]
  },
  {
   "cell_type": "code",
   "execution_count": 9,
   "metadata": {},
   "outputs": [
    {
     "name": "stdout",
     "output_type": "stream",
     "text": [
      "Index created {'acknowledged': True, 'shards_acknowledged': True, 'index': 'my_library'}\n"
     ]
    }
   ],
   "source": [
    "create_index(english_analyzer_settings)"
   ]
  },
  {
   "cell_type": "code",
   "execution_count": 10,
   "metadata": {},
   "outputs": [
    {
     "name": "stdout",
     "output_type": "stream",
     "text": [
      "{'tokens': [{'end_offset': 2,\n",
      "             'position': 0,\n",
      "             'start_offset': 0,\n",
      "             'token': 'dr',\n",
      "             'type': '<ALPHANUM>'},\n",
      "            {'end_offset': 15,\n",
      "             'position': 1,\n",
      "             'start_offset': 4,\n",
      "             'token': 'strangelov',\n",
      "             'type': '<ALPHANUM>'},\n",
      "            {'end_offset': 23,\n",
      "             'position': 3,\n",
      "             'start_offset': 20,\n",
      "             'token': 'how',\n",
      "             'type': '<ALPHANUM>'},\n",
      "            {'end_offset': 25,\n",
      "             'position': 4,\n",
      "             'start_offset': 24,\n",
      "             'token': 'i',\n",
      "             'type': '<ALPHANUM>'},\n",
      "            {'end_offset': 33,\n",
      "             'position': 5,\n",
      "             'start_offset': 26,\n",
      "             'token': 'learn',\n",
      "             'type': '<ALPHANUM>'},\n",
      "            {'end_offset': 41,\n",
      "             'position': 7,\n",
      "             'start_offset': 37,\n",
      "             'token': 'stop',\n",
      "             'type': '<ALPHANUM>'},\n",
      "            {'end_offset': 50,\n",
      "             'position': 8,\n",
      "             'start_offset': 42,\n",
      "             'token': 'worri',\n",
      "             'type': '<ALPHANUM>'},\n",
      "            {'end_offset': 59,\n",
      "             'position': 10,\n",
      "             'start_offset': 55,\n",
      "             'token': 'love',\n",
      "             'type': '<ALPHANUM>'},\n",
      "            {'end_offset': 68,\n",
      "             'position': 12,\n",
      "             'start_offset': 64,\n",
      "             'token': 'bomb',\n",
      "             'type': '<ALPHANUM>'}]}\n"
     ]
    }
   ],
   "source": [
    "analyze_query(\"english_clone\", STRANGELOVE)"
   ]
  },
  {
   "cell_type": "code",
   "execution_count": 11,
   "metadata": {},
   "outputs": [
    {
     "name": "stdout",
     "output_type": "stream",
     "text": [
      "{'tokens': [{'end_offset': 6,\n",
      "             'position': 0,\n",
      "             'start_offset': 0,\n",
      "             'token': 'flower',\n",
      "             'type': '<ALPHANUM>'},\n",
      "            {'end_offset': 14,\n",
      "             'position': 1,\n",
      "             'start_offset': 7,\n",
      "             'token': 'flower',\n",
      "             'type': '<ALPHANUM>'},\n",
      "            {'end_offset': 24,\n",
      "             'position': 2,\n",
      "             'start_offset': 15,\n",
      "             'token': 'flower',\n",
      "             'type': '<ALPHANUM>'},\n",
      "            {'end_offset': 33,\n",
      "             'position': 3,\n",
      "             'start_offset': 25,\n",
      "             'token': 'flower',\n",
      "             'type': '<ALPHANUM>'}]}\n"
     ]
    }
   ],
   "source": [
    "analyze_query(\"english_clone\", FLOWER)"
   ]
  },
  {
   "cell_type": "code",
   "execution_count": 12,
   "metadata": {},
   "outputs": [
    {
     "name": "stdout",
     "output_type": "stream",
     "text": [
      "{'tokens': [{'end_offset': 2,\n",
      "             'position': 0,\n",
      "             'start_offset': 0,\n",
      "             'token': 'mr',\n",
      "             'type': '<ALPHANUM>'},\n",
      "            {'end_offset': 13,\n",
      "             'position': 1,\n",
      "             'start_offset': 4,\n",
      "             'token': 'weirdlov',\n",
      "             'type': '<ALPHANUM>'},\n",
      "            {'end_offset': 21,\n",
      "             'position': 2,\n",
      "             'start_offset': 16,\n",
      "             'token': \"don't\",\n",
      "             'type': '<ALPHANUM>'},\n",
      "            {'end_offset': 27,\n",
      "             'position': 3,\n",
      "             'start_offset': 22,\n",
      "             'token': 'worri',\n",
      "             'type': '<ALPHANUM>'},\n",
      "            {'end_offset': 31,\n",
      "             'position': 4,\n",
      "             'start_offset': 28,\n",
      "             'token': \"i'm\",\n",
      "             'type': '<ALPHANUM>'},\n",
      "            {'end_offset': 40,\n",
      "             'position': 5,\n",
      "             'start_offset': 32,\n",
      "             'token': 'learn',\n",
      "             'type': '<ALPHANUM>'},\n",
      "            {'end_offset': 48,\n",
      "             'position': 7,\n",
      "             'start_offset': 44,\n",
      "             'token': 'star',\n",
      "             'type': '<ALPHANUM>'},\n",
      "            {'end_offset': 55,\n",
      "             'position': 8,\n",
      "             'start_offset': 49,\n",
      "             'token': 'love',\n",
      "             'type': '<ALPHANUM>'},\n",
      "            {'end_offset': 61,\n",
      "             'position': 9,\n",
      "             'start_offset': 56,\n",
      "             'token': 'bomb',\n",
      "             'type': '<ALPHANUM>'}]}\n"
     ]
    }
   ],
   "source": [
    "ALMOST_STRANGELOVE = \"mr. weirdlove:  don't worry I'm learning to star loving bombs\"\n",
    "analyze_query(\"english_clone\", ALMOST_STRANGELOVE)"
   ]
  },
  {
   "cell_type": "code",
   "execution_count": 13,
   "metadata": {},
   "outputs": [],
   "source": [
    "phonetic_analyzer_settings = {\n",
    "    \"settings\": {\n",
    "        \"analysis\": {\n",
    "            \"analyzer\": {\n",
    "                \"phonetic\": {\n",
    "                    \"tokenizer\": \"standard\",\n",
    "                    \"filter\": [\n",
    "                        \"lowercase\",\n",
    "                        \"my_doublemetaphone\"\n",
    "                    ]\n",
    "                }\n",
    "            },\n",
    "            \"filter\": {\n",
    "                \"my_doublemetaphone\": {\n",
    "                    \"type\": \"phonetic\",\n",
    "                    \"encoder\": \"doublemetaphone\",\n",
    "                    \"replace\": True\n",
    "                }\n",
    "            }\n",
    "        }       \n",
    "    }\n",
    "}"
   ]
  },
  {
   "cell_type": "code",
   "execution_count": 14,
   "metadata": {},
   "outputs": [
    {
     "name": "stdout",
     "output_type": "stream",
     "text": [
      "Index removed {'acknowledged': True}\n",
      "Index created {'acknowledged': True, 'shards_acknowledged': True, 'index': 'my_library'}\n"
     ]
    }
   ],
   "source": [
    "remove_index()\n",
    "create_index(phonetic_analyzer_settings)"
   ]
  },
  {
   "cell_type": "code",
   "execution_count": 15,
   "metadata": {},
   "outputs": [
    {
     "name": "stdout",
     "output_type": "stream",
     "text": [
      "{'tokens': [{'end_offset': 7,\n",
      "             'position': 0,\n",
      "             'start_offset': 0,\n",
      "             'token': 'MSJ',\n",
      "             'type': '<ALPHANUM>'},\n",
      "            {'end_offset': 7,\n",
      "             'position': 0,\n",
      "             'start_offset': 0,\n",
      "             'token': 'MSK',\n",
      "             'type': '<ALPHANUM>'},\n",
      "            {'end_offset': 12,\n",
      "             'position': 1,\n",
      "             'start_offset': 8,\n",
      "             'token': 'FRM',\n",
      "             'type': '<ALPHANUM>'},\n",
      "            {'end_offset': 18,\n",
      "             'position': 2,\n",
      "             'start_offset': 13,\n",
      "             'token': 'TL',\n",
      "             'type': '<ALPHANUM>'},\n",
      "            {'end_offset': 23,\n",
      "             'position': 3,\n",
      "             'start_offset': 19,\n",
      "             'token': 'LM',\n",
      "             'type': '<ALPHANUM>'}]}\n"
     ]
    }
   ],
   "source": [
    "analyze_query(\"phonetic\", \"Message from Dalai Lama\")"
   ]
  },
  {
   "cell_type": "code",
   "execution_count": 16,
   "metadata": {},
   "outputs": [
    {
     "name": "stdout",
     "output_type": "stream",
     "text": [
      "{'tokens': [{'end_offset': 7,\n",
      "             'position': 0,\n",
      "             'start_offset': 0,\n",
      "             'token': 'MSJ',\n",
      "             'type': '<ALPHANUM>'},\n",
      "            {'end_offset': 7,\n",
      "             'position': 0,\n",
      "             'start_offset': 0,\n",
      "             'token': 'MSK',\n",
      "             'type': '<ALPHANUM>'},\n",
      "            {'end_offset': 12,\n",
      "             'position': 1,\n",
      "             'start_offset': 8,\n",
      "             'token': 'FRM',\n",
      "             'type': '<ALPHANUM>'},\n",
      "            {'end_offset': 17,\n",
      "             'position': 2,\n",
      "             'start_offset': 13,\n",
      "             'token': 'TL',\n",
      "             'type': '<ALPHANUM>'},\n",
      "            {'end_offset': 23,\n",
      "             'position': 3,\n",
      "             'start_offset': 18,\n",
      "             'token': 'LM',\n",
      "             'type': '<ALPHANUM>'}]}\n"
     ]
    }
   ],
   "source": [
    "analyze_query(\"phonetic\", \"Message from tall llama\")"
   ]
  },
  {
   "cell_type": "markdown",
   "metadata": {},
   "source": [
    "### 4.3"
   ]
  },
  {
   "cell_type": "code",
   "execution_count": 17,
   "metadata": {},
   "outputs": [
    {
     "name": "stdout",
     "output_type": "stream",
     "text": [
      "Index removed {'acknowledged': True}\n"
     ]
    }
   ],
   "source": [
    "remove_index()"
   ]
  },
  {
   "cell_type": "code",
   "execution_count": 18,
   "metadata": {},
   "outputs": [
    {
     "name": "stdout",
     "output_type": "stream",
     "text": [
      "Index created {'acknowledged': True, 'shards_acknowledged': True, 'index': 'my_library'}\n"
     ]
    }
   ],
   "source": [
    "create_index({\"settings\": {\"number_of_shards\": 1}})"
   ]
  },
  {
   "cell_type": "code",
   "execution_count": 19,
   "metadata": {},
   "outputs": [],
   "source": [
    "def index_document(id, doc):\n",
    "    result = requests.put(f\"{ES_URI}/_doc/{id}\", json=doc)\n",
    "    print(\"Indexed\", result.json())"
   ]
  },
  {
   "cell_type": "code",
   "execution_count": 20,
   "metadata": {},
   "outputs": [
    {
     "name": "stdout",
     "output_type": "stream",
     "text": [
      "Indexed {'_index': 'my_library', '_type': '_doc', '_id': '1', '_version': 1, 'result': 'created', '_shards': {'total': 2, 'successful': 1, 'failed': 0}, '_seq_no': 0, '_primary_term': 1}\n"
     ]
    }
   ],
   "source": [
    "index_document(1, {\"title\": \"apple apple apple apple apple\"})"
   ]
  },
  {
   "cell_type": "code",
   "execution_count": 21,
   "metadata": {},
   "outputs": [
    {
     "name": "stdout",
     "output_type": "stream",
     "text": [
      "Indexed {'_index': 'my_library', '_type': '_doc', '_id': '2', '_version': 1, 'result': 'created', '_shards': {'total': 2, 'successful': 1, 'failed': 0}, '_seq_no': 1, '_primary_term': 1}\n"
     ]
    }
   ],
   "source": [
    "index_document(2, {\"title\": \"apple apple apple banana banana\"})"
   ]
  },
  {
   "cell_type": "code",
   "execution_count": 22,
   "metadata": {},
   "outputs": [
    {
     "name": "stdout",
     "output_type": "stream",
     "text": [
      "Indexed {'_index': 'my_library', '_type': '_doc', '_id': '3', '_version': 1, 'result': 'created', '_shards': {'total': 2, 'successful': 1, 'failed': 0}, '_seq_no': 2, '_primary_term': 1}\n"
     ]
    }
   ],
   "source": [
    "index_document(3, {\"title\": \"apple banana blueberry coconut\"})"
   ]
  },
  {
   "cell_type": "code",
   "execution_count": 23,
   "metadata": {},
   "outputs": [],
   "source": [
    "def search(title, explain=False):\n",
    "    return requests.get(\n",
    "        f\"{ES_URI}/_doc/_search\",\n",
    "        json={\"explain\": explain, \"query\": {\"match\": {\"title\": title}}}\n",
    "    )"
   ]
  },
  {
   "cell_type": "code",
   "execution_count": 24,
   "metadata": {},
   "outputs": [
    {
     "data": {
      "text/plain": [
       "{'took': 15,\n",
       " 'timed_out': False,\n",
       " '_shards': {'total': 1, 'successful': 1, 'skipped': 0, 'failed': 0},\n",
       " 'hits': {'total': {'value': 3, 'relation': 'eq'},\n",
       "  'max_score': 0.2344793,\n",
       "  'hits': [{'_shard': '[my_library][0]',\n",
       "    '_node': 'fIdV0MKrS6SyS4ccGT0m1Q',\n",
       "    '_index': 'my_library',\n",
       "    '_type': '_doc',\n",
       "    '_id': '1',\n",
       "    '_score': 0.2344793,\n",
       "    '_source': {'title': 'apple apple apple apple apple'},\n",
       "    '_explanation': {'value': 0.2344793,\n",
       "     'description': 'weight(title:apple in 0) [PerFieldSimilarity], result of:',\n",
       "     'details': [{'value': 0.2344793,\n",
       "       'description': 'score(freq=5.0), computed as boost * idf * tf from:',\n",
       "       'details': [{'value': 2.2, 'description': 'boost', 'details': []},\n",
       "        {'value': 0.13353139,\n",
       "         'description': 'idf, computed as log(1 + (N - n + 0.5) / (n + 0.5)) from:',\n",
       "         'details': [{'value': 3,\n",
       "           'description': 'n, number of documents containing term',\n",
       "           'details': []},\n",
       "          {'value': 3,\n",
       "           'description': 'N, total number of documents with field',\n",
       "           'details': []}]},\n",
       "        {'value': 0.7981756,\n",
       "         'description': 'tf, computed as freq / (freq + k1 * (1 - b + b * dl / avgdl)) from:',\n",
       "         'details': [{'value': 5.0,\n",
       "           'description': 'freq, occurrences of term within document',\n",
       "           'details': []},\n",
       "          {'value': 1.2,\n",
       "           'description': 'k1, term saturation parameter',\n",
       "           'details': []},\n",
       "          {'value': 0.75,\n",
       "           'description': 'b, length normalization parameter',\n",
       "           'details': []},\n",
       "          {'value': 5.0, 'description': 'dl, length of field', 'details': []},\n",
       "          {'value': 4.6666665,\n",
       "           'description': 'avgdl, average length of field',\n",
       "           'details': []}]}]}]}},\n",
       "   {'_shard': '[my_library][0]',\n",
       "    '_node': 'fIdV0MKrS6SyS4ccGT0m1Q',\n",
       "    '_index': 'my_library',\n",
       "    '_type': '_doc',\n",
       "    '_id': '2',\n",
       "    '_score': 0.2066717,\n",
       "    '_source': {'title': 'apple apple apple banana banana'},\n",
       "    '_explanation': {'value': 0.2066717,\n",
       "     'description': 'weight(title:apple in 0) [PerFieldSimilarity], result of:',\n",
       "     'details': [{'value': 0.2066717,\n",
       "       'description': 'score(freq=3.0), computed as boost * idf * tf from:',\n",
       "       'details': [{'value': 2.2, 'description': 'boost', 'details': []},\n",
       "        {'value': 0.13353139,\n",
       "         'description': 'idf, computed as log(1 + (N - n + 0.5) / (n + 0.5)) from:',\n",
       "         'details': [{'value': 3,\n",
       "           'description': 'n, number of documents containing term',\n",
       "           'details': []},\n",
       "          {'value': 3,\n",
       "           'description': 'N, total number of documents with field',\n",
       "           'details': []}]},\n",
       "        {'value': 0.70351756,\n",
       "         'description': 'tf, computed as freq / (freq + k1 * (1 - b + b * dl / avgdl)) from:',\n",
       "         'details': [{'value': 3.0,\n",
       "           'description': 'freq, occurrences of term within document',\n",
       "           'details': []},\n",
       "          {'value': 1.2,\n",
       "           'description': 'k1, term saturation parameter',\n",
       "           'details': []},\n",
       "          {'value': 0.75,\n",
       "           'description': 'b, length normalization parameter',\n",
       "           'details': []},\n",
       "          {'value': 5.0, 'description': 'dl, length of field', 'details': []},\n",
       "          {'value': 4.6666665,\n",
       "           'description': 'avgdl, average length of field',\n",
       "           'details': []}]}]}]}},\n",
       "   {'_shard': '[my_library][0]',\n",
       "    '_node': 'fIdV0MKrS6SyS4ccGT0m1Q',\n",
       "    '_index': 'my_library',\n",
       "    '_type': '_doc',\n",
       "    '_id': '3',\n",
       "    '_score': 0.14181954,\n",
       "    '_source': {'title': 'apple banana blueberry coconut'},\n",
       "    '_explanation': {'value': 0.14181954,\n",
       "     'description': 'weight(title:apple in 0) [PerFieldSimilarity], result of:',\n",
       "     'details': [{'value': 0.14181954,\n",
       "       'description': 'score(freq=1.0), computed as boost * idf * tf from:',\n",
       "       'details': [{'value': 2.2, 'description': 'boost', 'details': []},\n",
       "        {'value': 0.13353139,\n",
       "         'description': 'idf, computed as log(1 + (N - n + 0.5) / (n + 0.5)) from:',\n",
       "         'details': [{'value': 3,\n",
       "           'description': 'n, number of documents containing term',\n",
       "           'details': []},\n",
       "          {'value': 3,\n",
       "           'description': 'N, total number of documents with field',\n",
       "           'details': []}]},\n",
       "        {'value': 0.48275858,\n",
       "         'description': 'tf, computed as freq / (freq + k1 * (1 - b + b * dl / avgdl)) from:',\n",
       "         'details': [{'value': 1.0,\n",
       "           'description': 'freq, occurrences of term within document',\n",
       "           'details': []},\n",
       "          {'value': 1.2,\n",
       "           'description': 'k1, term saturation parameter',\n",
       "           'details': []},\n",
       "          {'value': 0.75,\n",
       "           'description': 'b, length normalization parameter',\n",
       "           'details': []},\n",
       "          {'value': 4.0, 'description': 'dl, length of field', 'details': []},\n",
       "          {'value': 4.6666665,\n",
       "           'description': 'avgdl, average length of field',\n",
       "           'details': []}]}]}]}}]}}"
      ]
     },
     "execution_count": 24,
     "metadata": {},
     "output_type": "execute_result"
    }
   ],
   "source": [
    "search(\"apple\", True).json()"
   ]
  },
  {
   "cell_type": "code",
   "execution_count": 25,
   "metadata": {},
   "outputs": [
    {
     "name": "stdout",
     "output_type": "stream",
     "text": [
      "Indexed {'_index': 'my_library', '_type': '_doc', '_id': '4', '_version': 1, 'result': 'created', '_shards': {'total': 2, 'successful': 1, 'failed': 0}, '_seq_no': 3, '_primary_term': 1}\n"
     ]
    }
   ],
   "source": [
    "index_document(4, {\"title\": \"apples apple\"})"
   ]
  },
  {
   "cell_type": "code",
   "execution_count": 26,
   "metadata": {},
   "outputs": [
    {
     "data": {
      "text/plain": [
       "{'took': 6,\n",
       " 'timed_out': False,\n",
       " '_shards': {'total': 1, 'successful': 1, 'skipped': 0, 'failed': 0},\n",
       " 'hits': {'total': {'value': 4, 'relation': 'eq'},\n",
       "  'max_score': 0.36076754,\n",
       "  'hits': [{'_index': 'my_library',\n",
       "    '_type': '_doc',\n",
       "    '_id': '1',\n",
       "    '_score': 0.36076754,\n",
       "    '_source': {'title': 'apple apple apple apple apple'}},\n",
       "   {'_index': 'my_library',\n",
       "    '_type': '_doc',\n",
       "    '_id': '2',\n",
       "    '_score': 0.31429577,\n",
       "    '_source': {'title': 'apple apple apple banana banana'}},\n",
       "   {'_index': 'my_library',\n",
       "    '_type': '_doc',\n",
       "    '_id': '4',\n",
       "    '_score': 0.26490647,\n",
       "    '_source': {'title': 'apples apple'}},\n",
       "   {'_index': 'my_library',\n",
       "    '_type': '_doc',\n",
       "    '_id': '3',\n",
       "    '_score': 0.21072102,\n",
       "    '_source': {'title': 'apple banana blueberry coconut'}}]}}"
      ]
     },
     "execution_count": 26,
     "metadata": {},
     "output_type": "execute_result"
    }
   ],
   "source": [
    "search(\"apple apple\", False).json()"
   ]
  },
  {
   "cell_type": "code",
   "execution_count": 33,
   "metadata": {},
   "outputs": [
    {
     "name": "stdout",
     "output_type": "stream",
     "text": [
      "Index removed {'acknowledged': True}\n"
     ]
    }
   ],
   "source": [
    "remove_index()"
   ]
  },
  {
   "cell_type": "code",
   "execution_count": null,
   "metadata": {},
   "outputs": [],
   "source": []
  },
  {
   "cell_type": "code",
   "execution_count": 35,
   "metadata": {},
   "outputs": [
    {
     "name": "stdout",
     "output_type": "stream",
     "text": [
      "Index created {'acknowledged': True, 'shards_acknowledged': True, 'index': 'my_library'}\n"
     ]
    }
   ],
   "source": [
    "create_index(english_analyzer_settings)"
   ]
  },
  {
   "cell_type": "code",
   "execution_count": 38,
   "metadata": {},
   "outputs": [
    {
     "name": "stdout",
     "output_type": "stream",
     "text": [
      "Index removed {'acknowledged': True}\n",
      "Index created {'acknowledged': True, 'shards_acknowledged': True, 'index': 'my_library'}\n"
     ]
    }
   ],
   "source": [
    "remove_index()\n",
    "# appraently both the book example and elastic official docs example: \n",
    "# https://www.elastic.co/guide/en/elasticsearch/reference/current/analysis-lang-analyzer.html#english-analyzer\n",
    "# do not solve the problem and regular english analyzer needs to be used\n",
    "create_index(\n",
    "    {\"settings\": {\n",
    "        \"analysis\": {\n",
    "            \"analyzer\": {\n",
    "                \"default\": {\n",
    "                    \"type\": \"english\"\n",
    "                }\n",
    "            }\n",
    "        }\n",
    "      }\n",
    "    }\n",
    ")"
   ]
  },
  {
   "cell_type": "code",
   "execution_count": 29,
   "metadata": {},
   "outputs": [],
   "source": [
    "def index_documents(documents):\n",
    "    for id, doc in enumerate(documents):\n",
    "        index_document(id, doc)"
   ]
  },
  {
   "cell_type": "code",
   "execution_count": 30,
   "metadata": {},
   "outputs": [],
   "source": [
    "docs = [\n",
    "    {\"title\": \"apple apple apple apple apple\"},\n",
    "    {\"title\": \"apple apple apple banana banana\"},\n",
    "    {\"title\": \"apple banana blueberry coconut\"},\n",
    "    {\"title\": \"apples apple\"}\n",
    "]"
   ]
  },
  {
   "cell_type": "code",
   "execution_count": 39,
   "metadata": {},
   "outputs": [
    {
     "name": "stdout",
     "output_type": "stream",
     "text": [
      "Indexed {'_index': 'my_library', '_type': '_doc', '_id': '0', '_version': 1, 'result': 'created', '_shards': {'total': 2, 'successful': 1, 'failed': 0}, '_seq_no': 0, '_primary_term': 1}\n",
      "Indexed {'_index': 'my_library', '_type': '_doc', '_id': '1', '_version': 1, 'result': 'created', '_shards': {'total': 2, 'successful': 1, 'failed': 0}, '_seq_no': 1, '_primary_term': 1}\n",
      "Indexed {'_index': 'my_library', '_type': '_doc', '_id': '2', '_version': 1, 'result': 'created', '_shards': {'total': 2, 'successful': 1, 'failed': 0}, '_seq_no': 2, '_primary_term': 1}\n",
      "Indexed {'_index': 'my_library', '_type': '_doc', '_id': '3', '_version': 1, 'result': 'created', '_shards': {'total': 2, 'successful': 1, 'failed': 0}, '_seq_no': 3, '_primary_term': 1}\n"
     ]
    }
   ],
   "source": [
    "index_documents(docs)"
   ]
  },
  {
   "cell_type": "code",
   "execution_count": 40,
   "metadata": {},
   "outputs": [
    {
     "data": {
      "text/plain": [
       "{'took': 7,\n",
       " 'timed_out': False,\n",
       " '_shards': {'total': 1, 'successful': 1, 'skipped': 0, 'failed': 0},\n",
       " 'hits': {'total': {'value': 4, 'relation': 'eq'},\n",
       "  'max_score': 0.18038377,\n",
       "  'hits': [{'_index': 'my_library',\n",
       "    '_type': '_doc',\n",
       "    '_id': '0',\n",
       "    '_score': 0.18038377,\n",
       "    '_source': {'title': 'apple apple apple apple apple'}},\n",
       "   {'_index': 'my_library',\n",
       "    '_type': '_doc',\n",
       "    '_id': '3',\n",
       "    '_score': 0.16857684,\n",
       "    '_source': {'title': 'apples apple'}},\n",
       "   {'_index': 'my_library',\n",
       "    '_type': '_doc',\n",
       "    '_id': '1',\n",
       "    '_score': 0.15714788,\n",
       "    '_source': {'title': 'apple apple apple banana banana'}},\n",
       "   {'_index': 'my_library',\n",
       "    '_type': '_doc',\n",
       "    '_id': '2',\n",
       "    '_score': 0.10536051,\n",
       "    '_source': {'title': 'apple banana blueberry coconut'}}]}}"
      ]
     },
     "execution_count": 40,
     "metadata": {},
     "output_type": "execute_result"
    }
   ],
   "source": [
    "search(\"apple\", False).json()"
   ]
  },
  {
   "cell_type": "code",
   "execution_count": null,
   "metadata": {},
   "outputs": [],
   "source": []
  }
 ],
 "metadata": {
  "kernelspec": {
   "display_name": "Python 3",
   "language": "python",
   "name": "python3"
  },
  "language_info": {
   "codemirror_mode": {
    "name": "ipython",
    "version": 3
   },
   "file_extension": ".py",
   "mimetype": "text/x-python",
   "name": "python",
   "nbconvert_exporter": "python",
   "pygments_lexer": "ipython3",
   "version": "3.8.3"
  }
 },
 "nbformat": 4,
 "nbformat_minor": 4
}
