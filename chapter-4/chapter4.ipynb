{
 "cells": [
  {
   "cell_type": "code",
   "execution_count": 1,
   "metadata": {},
   "outputs": [],
   "source": [
    "import requests\n",
    "from pprint import pprint"
   ]
  },
  {
   "cell_type": "code",
   "execution_count": 2,
   "metadata": {},
   "outputs": [],
   "source": [
    "ES_URI = \"http://localhost:9200/my_library\"\n",
    "\n",
    "standard_analyzer_settings = {\n",
    "    \"settings\": {\n",
    "        \"analysis\": {\n",
    "            \"analyzer\": {\n",
    "                \"standard_clone\": {\n",
    "                    \"tokenizer\": \"standard\",\n",
    "                    \"filter\": [\n",
    "                        \"lowercase\",\n",
    "                        \"stop\"\n",
    "                    ]\n",
    "                }\n",
    "            }\n",
    "        }\n",
    "    }\n",
    "}"
   ]
  },
  {
   "cell_type": "code",
   "execution_count": 3,
   "metadata": {},
   "outputs": [],
   "source": [
    "STRANGELOVE = \"Dr. Strangelove: Or How I Learned To Stop Worrying and Love the Bomb\"\n",
    "FLOWER = \"flower flowers flowering flowered\"\n",
    "\n",
    "def create_index(settings):\n",
    "    result = requests.put(ES_URI, json=settings)\n",
    "    print(\"Index created\", result.json())\n",
    "\n",
    "def remove_index():\n",
    "    result = requests.delete(ES_URI)\n",
    "    print(\"Index removed\", result.json())\n",
    "    \n",
    "def analyze_query(analyzer, text):\n",
    "    query = {\n",
    "        \"text\": text,\n",
    "        \"analyzer\": analyzer\n",
    "    }\n",
    "    result = requests.get(f\"{ES_URI}/_analyze\", json=query)\n",
    "    pprint(result.json())\n",
    "    "
   ]
  },
  {
   "cell_type": "code",
   "execution_count": 4,
   "metadata": {},
   "outputs": [
    {
     "name": "stdout",
     "output_type": "stream",
     "text": [
      "Index created {'error': {'root_cause': [{'type': 'resource_already_exists_exception', 'reason': 'index [my_library/1I0DqhhvTCeSBKwi7UhMKg] already exists', 'index_uuid': '1I0DqhhvTCeSBKwi7UhMKg', 'index': 'my_library'}], 'type': 'resource_already_exists_exception', 'reason': 'index [my_library/1I0DqhhvTCeSBKwi7UhMKg] already exists', 'index_uuid': '1I0DqhhvTCeSBKwi7UhMKg', 'index': 'my_library'}, 'status': 400}\n"
     ]
    }
   ],
   "source": [
    "create_index(standard_analyzer_settings)"
   ]
  },
  {
   "cell_type": "code",
   "execution_count": 5,
   "metadata": {},
   "outputs": [
    {
     "name": "stdout",
     "output_type": "stream",
     "text": [
      "{'error': {'reason': 'failed to find analyzer [standard_clone]',\n",
      "           'root_cause': [{'reason': 'failed to find analyzer [standard_clone]',\n",
      "                           'type': 'illegal_argument_exception'}],\n",
      "           'type': 'illegal_argument_exception'},\n",
      " 'status': 400}\n"
     ]
    }
   ],
   "source": [
    "analyze_query(\"standard_clone\", STRANGELOVE)"
   ]
  },
  {
   "cell_type": "code",
   "execution_count": 6,
   "metadata": {},
   "outputs": [
    {
     "name": "stdout",
     "output_type": "stream",
     "text": [
      "Index removed {'acknowledged': True}\n"
     ]
    }
   ],
   "source": [
    "remove_index()"
   ]
  },
  {
   "cell_type": "code",
   "execution_count": 7,
   "metadata": {},
   "outputs": [],
   "source": [
    "english_analyzer_settings = {\n",
    "    \"settings\": {\n",
    "        \"analysis\": {\n",
    "            \"filter\": {\n",
    "                \"english_stop\": {\n",
    "                    \"type\": \"stop\",\n",
    "                    \"stopwords\": \"_english_\"\n",
    "                },\n",
    "                \"english_keywords\": {\n",
    "                    \"type\": \"keyword_marker\",\n",
    "                    \"keywords\": [\"example\"]\n",
    "                },\n",
    "                \"english_stemmer\": {\n",
    "                    \"type\": \"stemmer\",\n",
    "                    \"language\": \"english\"\n",
    "                },\n",
    "                \"english_possesive_stemmer\": {\n",
    "                    \"type\": \"stemmer\",\n",
    "                    \"language\": \"possessive_english\"\n",
    "                }\n",
    "            },\n",
    "            \"analyzer\": {\n",
    "                \"english_clone\": {\n",
    "                    \"tokenizer\": \"standard\",\n",
    "                    \"filter\": [\n",
    "                        \"english_possesive_stemmer\",\n",
    "                        \"lowercase\",\n",
    "                        \"english_stop\",\n",
    "                        \"english_keywords\",\n",
    "                        \"english_stemmer\"\n",
    "                    ]\n",
    "                }\n",
    "            }\n",
    "        }\n",
    "    }\n",
    "}"
   ]
  },
  {
   "cell_type": "code",
   "execution_count": 8,
   "metadata": {},
   "outputs": [
    {
     "name": "stdout",
     "output_type": "stream",
     "text": [
      "Index created {'acknowledged': True, 'shards_acknowledged': True, 'index': 'my_library'}\n"
     ]
    }
   ],
   "source": [
    "create_index(english_analyzer_settings)"
   ]
  },
  {
   "cell_type": "code",
   "execution_count": 9,
   "metadata": {},
   "outputs": [
    {
     "name": "stdout",
     "output_type": "stream",
     "text": [
      "{'tokens': [{'end_offset': 2,\n",
      "             'position': 0,\n",
      "             'start_offset': 0,\n",
      "             'token': 'dr',\n",
      "             'type': '<ALPHANUM>'},\n",
      "            {'end_offset': 15,\n",
      "             'position': 1,\n",
      "             'start_offset': 4,\n",
      "             'token': 'strangelov',\n",
      "             'type': '<ALPHANUM>'},\n",
      "            {'end_offset': 23,\n",
      "             'position': 3,\n",
      "             'start_offset': 20,\n",
      "             'token': 'how',\n",
      "             'type': '<ALPHANUM>'},\n",
      "            {'end_offset': 25,\n",
      "             'position': 4,\n",
      "             'start_offset': 24,\n",
      "             'token': 'i',\n",
      "             'type': '<ALPHANUM>'},\n",
      "            {'end_offset': 33,\n",
      "             'position': 5,\n",
      "             'start_offset': 26,\n",
      "             'token': 'learn',\n",
      "             'type': '<ALPHANUM>'},\n",
      "            {'end_offset': 41,\n",
      "             'position': 7,\n",
      "             'start_offset': 37,\n",
      "             'token': 'stop',\n",
      "             'type': '<ALPHANUM>'},\n",
      "            {'end_offset': 50,\n",
      "             'position': 8,\n",
      "             'start_offset': 42,\n",
      "             'token': 'worri',\n",
      "             'type': '<ALPHANUM>'},\n",
      "            {'end_offset': 59,\n",
      "             'position': 10,\n",
      "             'start_offset': 55,\n",
      "             'token': 'love',\n",
      "             'type': '<ALPHANUM>'},\n",
      "            {'end_offset': 68,\n",
      "             'position': 12,\n",
      "             'start_offset': 64,\n",
      "             'token': 'bomb',\n",
      "             'type': '<ALPHANUM>'}]}\n"
     ]
    }
   ],
   "source": [
    "analyze_query(\"english_clone\", STRANGELOVE)"
   ]
  },
  {
   "cell_type": "code",
   "execution_count": 10,
   "metadata": {},
   "outputs": [
    {
     "name": "stdout",
     "output_type": "stream",
     "text": [
      "{'tokens': [{'end_offset': 6,\n",
      "             'position': 0,\n",
      "             'start_offset': 0,\n",
      "             'token': 'flower',\n",
      "             'type': '<ALPHANUM>'},\n",
      "            {'end_offset': 14,\n",
      "             'position': 1,\n",
      "             'start_offset': 7,\n",
      "             'token': 'flower',\n",
      "             'type': '<ALPHANUM>'},\n",
      "            {'end_offset': 24,\n",
      "             'position': 2,\n",
      "             'start_offset': 15,\n",
      "             'token': 'flower',\n",
      "             'type': '<ALPHANUM>'},\n",
      "            {'end_offset': 33,\n",
      "             'position': 3,\n",
      "             'start_offset': 25,\n",
      "             'token': 'flower',\n",
      "             'type': '<ALPHANUM>'}]}\n"
     ]
    }
   ],
   "source": [
    "analyze_query(\"english_clone\", FLOWER)"
   ]
  },
  {
   "cell_type": "code",
   "execution_count": 11,
   "metadata": {},
   "outputs": [
    {
     "name": "stdout",
     "output_type": "stream",
     "text": [
      "{'tokens': [{'end_offset': 2,\n",
      "             'position': 0,\n",
      "             'start_offset': 0,\n",
      "             'token': 'mr',\n",
      "             'type': '<ALPHANUM>'},\n",
      "            {'end_offset': 13,\n",
      "             'position': 1,\n",
      "             'start_offset': 4,\n",
      "             'token': 'weirdlov',\n",
      "             'type': '<ALPHANUM>'},\n",
      "            {'end_offset': 21,\n",
      "             'position': 2,\n",
      "             'start_offset': 16,\n",
      "             'token': \"don't\",\n",
      "             'type': '<ALPHANUM>'},\n",
      "            {'end_offset': 27,\n",
      "             'position': 3,\n",
      "             'start_offset': 22,\n",
      "             'token': 'worri',\n",
      "             'type': '<ALPHANUM>'},\n",
      "            {'end_offset': 31,\n",
      "             'position': 4,\n",
      "             'start_offset': 28,\n",
      "             'token': \"i'm\",\n",
      "             'type': '<ALPHANUM>'},\n",
      "            {'end_offset': 40,\n",
      "             'position': 5,\n",
      "             'start_offset': 32,\n",
      "             'token': 'learn',\n",
      "             'type': '<ALPHANUM>'},\n",
      "            {'end_offset': 48,\n",
      "             'position': 7,\n",
      "             'start_offset': 44,\n",
      "             'token': 'star',\n",
      "             'type': '<ALPHANUM>'},\n",
      "            {'end_offset': 55,\n",
      "             'position': 8,\n",
      "             'start_offset': 49,\n",
      "             'token': 'love',\n",
      "             'type': '<ALPHANUM>'},\n",
      "            {'end_offset': 61,\n",
      "             'position': 9,\n",
      "             'start_offset': 56,\n",
      "             'token': 'bomb',\n",
      "             'type': '<ALPHANUM>'}]}\n"
     ]
    }
   ],
   "source": [
    "ALMOST_STRANGELOVE = \"mr. weirdlove:  don't worry I'm learning to star loving bombs\"\n",
    "analyze_query(\"english_clone\", ALMOST_STRANGELOVE)"
   ]
  },
  {
   "cell_type": "code",
   "execution_count": 12,
   "metadata": {},
   "outputs": [],
   "source": [
    "phonetic_analyzer_settings = {\n",
    "    \"settings\": {\n",
    "        \"analysis\": {\n",
    "            \"analyzer\": {\n",
    "                \"phonetic\": {\n",
    "                    \"tokenizer\": \"standard\",\n",
    "                    \"filter\": [\n",
    "                        \"lowercase\",\n",
    "                        \"my_doublemetaphone\"\n",
    "                    ]\n",
    "                }\n",
    "            },\n",
    "            \"filter\": {\n",
    "                \"my_doublemetaphone\": {\n",
    "                    \"type\": \"phonetic\",\n",
    "                    \"encoder\": \"doublemetaphone\",\n",
    "                    \"replace\": True\n",
    "                }\n",
    "            }\n",
    "        }       \n",
    "    }\n",
    "}"
   ]
  },
  {
   "cell_type": "code",
   "execution_count": 13,
   "metadata": {},
   "outputs": [
    {
     "name": "stdout",
     "output_type": "stream",
     "text": [
      "Index removed {'acknowledged': True}\n",
      "Index created {'acknowledged': True, 'shards_acknowledged': True, 'index': 'my_library'}\n"
     ]
    }
   ],
   "source": [
    "remove_index()\n",
    "create_index(phonetic_analyzer_settings)"
   ]
  },
  {
   "cell_type": "code",
   "execution_count": 14,
   "metadata": {},
   "outputs": [
    {
     "name": "stdout",
     "output_type": "stream",
     "text": [
      "{'tokens': [{'end_offset': 7,\n",
      "             'position': 0,\n",
      "             'start_offset': 0,\n",
      "             'token': 'MSJ',\n",
      "             'type': '<ALPHANUM>'},\n",
      "            {'end_offset': 7,\n",
      "             'position': 0,\n",
      "             'start_offset': 0,\n",
      "             'token': 'MSK',\n",
      "             'type': '<ALPHANUM>'},\n",
      "            {'end_offset': 12,\n",
      "             'position': 1,\n",
      "             'start_offset': 8,\n",
      "             'token': 'FRM',\n",
      "             'type': '<ALPHANUM>'},\n",
      "            {'end_offset': 18,\n",
      "             'position': 2,\n",
      "             'start_offset': 13,\n",
      "             'token': 'TL',\n",
      "             'type': '<ALPHANUM>'},\n",
      "            {'end_offset': 23,\n",
      "             'position': 3,\n",
      "             'start_offset': 19,\n",
      "             'token': 'LM',\n",
      "             'type': '<ALPHANUM>'}]}\n"
     ]
    }
   ],
   "source": [
    "analyze_query(\"phonetic\", \"Message from Dalai Lama\")"
   ]
  },
  {
   "cell_type": "code",
   "execution_count": 15,
   "metadata": {},
   "outputs": [
    {
     "name": "stdout",
     "output_type": "stream",
     "text": [
      "{'tokens': [{'end_offset': 7,\n",
      "             'position': 0,\n",
      "             'start_offset': 0,\n",
      "             'token': 'MSJ',\n",
      "             'type': '<ALPHANUM>'},\n",
      "            {'end_offset': 7,\n",
      "             'position': 0,\n",
      "             'start_offset': 0,\n",
      "             'token': 'MSK',\n",
      "             'type': '<ALPHANUM>'},\n",
      "            {'end_offset': 12,\n",
      "             'position': 1,\n",
      "             'start_offset': 8,\n",
      "             'token': 'FRM',\n",
      "             'type': '<ALPHANUM>'},\n",
      "            {'end_offset': 17,\n",
      "             'position': 2,\n",
      "             'start_offset': 13,\n",
      "             'token': 'TL',\n",
      "             'type': '<ALPHANUM>'},\n",
      "            {'end_offset': 23,\n",
      "             'position': 3,\n",
      "             'start_offset': 18,\n",
      "             'token': 'LM',\n",
      "             'type': '<ALPHANUM>'}]}\n"
     ]
    }
   ],
   "source": [
    "analyze_query(\"phonetic\", \"Message from tall llama\")"
   ]
  },
  {
   "cell_type": "markdown",
   "metadata": {},
   "source": [
    "### 4.3"
   ]
  },
  {
   "cell_type": "code",
   "execution_count": 16,
   "metadata": {},
   "outputs": [
    {
     "name": "stdout",
     "output_type": "stream",
     "text": [
      "Index removed {'acknowledged': True}\n"
     ]
    }
   ],
   "source": [
    "remove_index()"
   ]
  },
  {
   "cell_type": "code",
   "execution_count": 17,
   "metadata": {},
   "outputs": [
    {
     "name": "stdout",
     "output_type": "stream",
     "text": [
      "Index created {'acknowledged': True, 'shards_acknowledged': True, 'index': 'my_library'}\n"
     ]
    }
   ],
   "source": [
    "create_index({\"settings\": {\"number_of_shards\": 1}})"
   ]
  },
  {
   "cell_type": "code",
   "execution_count": 18,
   "metadata": {},
   "outputs": [],
   "source": [
    "def index_document(id, doc):\n",
    "    result = requests.put(f\"{ES_URI}/_doc/{id}\", json=doc)\n",
    "    print(\"Indexed\", result.json())"
   ]
  },
  {
   "cell_type": "code",
   "execution_count": 19,
   "metadata": {},
   "outputs": [
    {
     "name": "stdout",
     "output_type": "stream",
     "text": [
      "Indexed {'_index': 'my_library', '_type': '_doc', '_id': '1', '_version': 1, 'result': 'created', '_shards': {'total': 2, 'successful': 1, 'failed': 0}, '_seq_no': 0, '_primary_term': 1}\n"
     ]
    }
   ],
   "source": [
    "index_document(1, {\"title\": \"apple apple apple apple apple\"})"
   ]
  },
  {
   "cell_type": "code",
   "execution_count": 20,
   "metadata": {},
   "outputs": [
    {
     "name": "stdout",
     "output_type": "stream",
     "text": [
      "Indexed {'_index': 'my_library', '_type': '_doc', '_id': '2', '_version': 1, 'result': 'created', '_shards': {'total': 2, 'successful': 1, 'failed': 0}, '_seq_no': 1, '_primary_term': 1}\n"
     ]
    }
   ],
   "source": [
    "index_document(2, {\"title\": \"apple apple apple banana banana\"})"
   ]
  },
  {
   "cell_type": "code",
   "execution_count": 21,
   "metadata": {},
   "outputs": [
    {
     "name": "stdout",
     "output_type": "stream",
     "text": [
      "Indexed {'_index': 'my_library', '_type': '_doc', '_id': '3', '_version': 1, 'result': 'created', '_shards': {'total': 2, 'successful': 1, 'failed': 0}, '_seq_no': 2, '_primary_term': 1}\n"
     ]
    }
   ],
   "source": [
    "index_document(3, {\"title\": \"apple banana blueberry coconut\"})"
   ]
  },
  {
   "cell_type": "code",
   "execution_count": 22,
   "metadata": {},
   "outputs": [],
   "source": [
    "def search(title, explain=False):\n",
    "    return requests.get(\n",
    "        f\"{ES_URI}/_doc/_search\",\n",
    "        json={\"explain\": explain, \"query\": {\"match\": {\"title\": title}}}\n",
    "    )"
   ]
  },
  {
   "cell_type": "code",
   "execution_count": 23,
   "metadata": {},
   "outputs": [
    {
     "data": {
      "text/plain": [
       "{'took': 100,\n",
       " 'timed_out': False,\n",
       " '_shards': {'total': 1, 'successful': 1, 'skipped': 0, 'failed': 0},\n",
       " 'hits': {'total': {'value': 0, 'relation': 'eq'},\n",
       "  'max_score': None,\n",
       "  'hits': []}}"
      ]
     },
     "execution_count": 23,
     "metadata": {},
     "output_type": "execute_result"
    }
   ],
   "source": [
    "search(\"apple\", True).json()"
   ]
  },
  {
   "cell_type": "code",
   "execution_count": 24,
   "metadata": {},
   "outputs": [
    {
     "name": "stdout",
     "output_type": "stream",
     "text": [
      "Indexed {'_index': 'my_library', '_type': '_doc', '_id': '4', '_version': 1, 'result': 'created', '_shards': {'total': 2, 'successful': 1, 'failed': 0}, '_seq_no': 3, '_primary_term': 1}\n"
     ]
    }
   ],
   "source": [
    "index_document(4, {\"title\": \"apples apple\"})"
   ]
  },
  {
   "cell_type": "code",
   "execution_count": 25,
   "metadata": {},
   "outputs": [
    {
     "data": {
      "text/plain": [
       "{'took': 6,\n",
       " 'timed_out': False,\n",
       " '_shards': {'total': 1, 'successful': 1, 'skipped': 0, 'failed': 0},\n",
       " 'hits': {'total': {'value': 0, 'relation': 'eq'},\n",
       "  'max_score': None,\n",
       "  'hits': []}}"
      ]
     },
     "execution_count": 25,
     "metadata": {},
     "output_type": "execute_result"
    }
   ],
   "source": [
    "search(\"apple apple\", False).json()"
   ]
  },
  {
   "cell_type": "code",
   "execution_count": 26,
   "metadata": {},
   "outputs": [
    {
     "name": "stdout",
     "output_type": "stream",
     "text": [
      "Index removed {'acknowledged': True}\n"
     ]
    }
   ],
   "source": [
    "remove_index()"
   ]
  },
  {
   "cell_type": "code",
   "execution_count": 27,
   "metadata": {},
   "outputs": [
    {
     "name": "stdout",
     "output_type": "stream",
     "text": [
      "Index created {'acknowledged': True, 'shards_acknowledged': True, 'index': 'my_library'}\n"
     ]
    }
   ],
   "source": [
    "create_index(english_analyzer_settings)"
   ]
  },
  {
   "cell_type": "code",
   "execution_count": 28,
   "metadata": {},
   "outputs": [
    {
     "name": "stdout",
     "output_type": "stream",
     "text": [
      "Index removed {'acknowledged': True}\n",
      "Index created {'acknowledged': True, 'shards_acknowledged': True, 'index': 'my_library'}\n"
     ]
    }
   ],
   "source": [
    "remove_index()\n",
    "# appraently both the book example and elastic official docs example: \n",
    "# https://www.elastic.co/guide/en/elasticsearch/reference/current/analysis-lang-analyzer.html#english-analyzer\n",
    "# do not solve the problem and regular english analyzer needs to be used\n",
    "create_index(\n",
    "    {\"settings\": {\n",
    "        \"analysis\": {\n",
    "            \"analyzer\": {\n",
    "                \"default\": {\n",
    "                    \"type\": \"english\"\n",
    "                }\n",
    "            }\n",
    "        }\n",
    "      }\n",
    "    }\n",
    ")"
   ]
  },
  {
   "cell_type": "code",
   "execution_count": 29,
   "metadata": {},
   "outputs": [],
   "source": [
    "def index_documents(documents):\n",
    "    for id, doc in enumerate(documents):\n",
    "        index_document(id, doc)"
   ]
  },
  {
   "cell_type": "code",
   "execution_count": 30,
   "metadata": {},
   "outputs": [],
   "source": [
    "docs = [\n",
    "    {\"title\": \"apple apple apple apple apple\"},\n",
    "    {\"title\": \"apple apple apple banana banana\"},\n",
    "    {\"title\": \"apple banana blueberry coconut\"},\n",
    "    {\"title\": \"apples apple\"}\n",
    "]"
   ]
  },
  {
   "cell_type": "code",
   "execution_count": 31,
   "metadata": {},
   "outputs": [
    {
     "name": "stdout",
     "output_type": "stream",
     "text": [
      "Indexed {'_index': 'my_library', '_type': '_doc', '_id': '0', '_version': 1, 'result': 'created', '_shards': {'total': 2, 'successful': 1, 'failed': 0}, '_seq_no': 0, '_primary_term': 1}\n",
      "Indexed {'_index': 'my_library', '_type': '_doc', '_id': '1', '_version': 1, 'result': 'created', '_shards': {'total': 2, 'successful': 1, 'failed': 0}, '_seq_no': 1, '_primary_term': 1}\n",
      "Indexed {'_index': 'my_library', '_type': '_doc', '_id': '2', '_version': 1, 'result': 'created', '_shards': {'total': 2, 'successful': 1, 'failed': 0}, '_seq_no': 2, '_primary_term': 1}\n",
      "Indexed {'_index': 'my_library', '_type': '_doc', '_id': '3', '_version': 1, 'result': 'created', '_shards': {'total': 2, 'successful': 1, 'failed': 0}, '_seq_no': 3, '_primary_term': 1}\n"
     ]
    }
   ],
   "source": [
    "index_documents(docs)"
   ]
  },
  {
   "cell_type": "code",
   "execution_count": 32,
   "metadata": {},
   "outputs": [
    {
     "data": {
      "text/plain": [
       "{'took': 4,\n",
       " 'timed_out': False,\n",
       " '_shards': {'total': 1, 'successful': 1, 'skipped': 0, 'failed': 0},\n",
       " 'hits': {'total': {'value': 0, 'relation': 'eq'},\n",
       "  'max_score': None,\n",
       "  'hits': []}}"
      ]
     },
     "execution_count": 32,
     "metadata": {},
     "output_type": "execute_result"
    }
   ],
   "source": [
    "search(\"apple\", False).json()"
   ]
  },
  {
   "cell_type": "markdown",
   "metadata": {},
   "source": [
    "### 4.4"
   ]
  },
  {
   "cell_type": "code",
   "execution_count": 33,
   "metadata": {},
   "outputs": [],
   "source": [
    "standard_with_acronyms = {\n",
    "    \"settings\": {\n",
    "        \"analysis\": {\n",
    "            \"filter\": {\n",
    "                \"acronyms\": {\n",
    "                    \"type\": \"word_delimiter\",\n",
    "                    \"catenate_all\": True,\n",
    "                    \"generate_word_parts\": False,\n",
    "                    \"generate_number_parts\": False,\n",
    "                    \"perserve_original\": True\n",
    "                }\n",
    "            },\n",
    "            \"analyzer\": {\n",
    "                \"standard_with_acronyms\": {\n",
    "                    \"tokenizer\": \"standard\",\n",
    "                    \"filter\": [\"lowercase\", \"acronyms\"]\n",
    "                }\n",
    "            }\n",
    "        }\n",
    "    }\n",
    "}"
   ]
  },
  {
   "cell_type": "code",
   "execution_count": 34,
   "metadata": {},
   "outputs": [
    {
     "name": "stdout",
     "output_type": "stream",
     "text": [
      "Index removed {'acknowledged': True}\n",
      "Index created {'acknowledged': True, 'shards_acknowledged': True, 'index': 'my_library'}\n"
     ]
    }
   ],
   "source": [
    "remove_index()\n",
    "create_index(standard_with_acronyms)"
   ]
  },
  {
   "cell_type": "code",
   "execution_count": 35,
   "metadata": {},
   "outputs": [
    {
     "name": "stdout",
     "output_type": "stream",
     "text": [
      "{'tokens': [{'end_offset': 5,\n",
      "             'position': 0,\n",
      "             'start_offset': 0,\n",
      "             'token': 'ibm',\n",
      "             'type': '<ALPHANUM>'},\n",
      "            {'end_offset': 12,\n",
      "             'position': 1,\n",
      "             'start_offset': 6,\n",
      "             'token': 'versus',\n",
      "             'type': '<ALPHANUM>'},\n",
      "            {'end_offset': 16,\n",
      "             'position': 2,\n",
      "             'start_offset': 13,\n",
      "             'token': 'ibm',\n",
      "             'type': '<ALPHANUM>'},\n",
      "            {'end_offset': 23,\n",
      "             'position': 3,\n",
      "             'start_offset': 17,\n",
      "             'token': 'versus',\n",
      "             'type': '<ALPHANUM>'},\n",
      "            {'end_offset': 27,\n",
      "             'position': 4,\n",
      "             'start_offset': 24,\n",
      "             'token': 'ibm',\n",
      "             'type': '<ALPHANUM>'}]}\n"
     ]
    }
   ],
   "source": [
    "analyze_query(\"standard_with_acronyms\", \"I.B.M versus IBM versus ibm\")"
   ]
  },
  {
   "cell_type": "code",
   "execution_count": 36,
   "metadata": {},
   "outputs": [],
   "source": [
    "docs.append({\"title\": \"N.E.W techno\"})"
   ]
  },
  {
   "cell_type": "code",
   "execution_count": 37,
   "metadata": {},
   "outputs": [],
   "source": [
    "docs.append({\"title\": \"new apple\"})"
   ]
  },
  {
   "cell_type": "code",
   "execution_count": 38,
   "metadata": {},
   "outputs": [
    {
     "name": "stdout",
     "output_type": "stream",
     "text": [
      "Indexed {'_index': 'my_library', '_type': '_doc', '_id': '0', '_version': 1, 'result': 'created', '_shards': {'total': 2, 'successful': 1, 'failed': 0}, '_seq_no': 0, '_primary_term': 1}\n",
      "Indexed {'_index': 'my_library', '_type': '_doc', '_id': '1', '_version': 1, 'result': 'created', '_shards': {'total': 2, 'successful': 1, 'failed': 0}, '_seq_no': 1, '_primary_term': 1}\n",
      "Indexed {'_index': 'my_library', '_type': '_doc', '_id': '2', '_version': 1, 'result': 'created', '_shards': {'total': 2, 'successful': 1, 'failed': 0}, '_seq_no': 2, '_primary_term': 1}\n",
      "Indexed {'_index': 'my_library', '_type': '_doc', '_id': '3', '_version': 1, 'result': 'created', '_shards': {'total': 2, 'successful': 1, 'failed': 0}, '_seq_no': 3, '_primary_term': 1}\n",
      "Indexed {'_index': 'my_library', '_type': '_doc', '_id': '4', '_version': 1, 'result': 'created', '_shards': {'total': 2, 'successful': 1, 'failed': 0}, '_seq_no': 4, '_primary_term': 1}\n",
      "Indexed {'_index': 'my_library', '_type': '_doc', '_id': '5', '_version': 1, 'result': 'created', '_shards': {'total': 2, 'successful': 1, 'failed': 0}, '_seq_no': 5, '_primary_term': 1}\n"
     ]
    }
   ],
   "source": [
    "index_documents(docs)"
   ]
  },
  {
   "cell_type": "code",
   "execution_count": 39,
   "metadata": {},
   "outputs": [
    {
     "data": {
      "text/plain": [
       "{'took': 2,\n",
       " 'timed_out': False,\n",
       " '_shards': {'total': 1, 'successful': 1, 'skipped': 0, 'failed': 0},\n",
       " 'hits': {'total': {'value': 0, 'relation': 'eq'},\n",
       "  'max_score': None,\n",
       "  'hits': []}}"
      ]
     },
     "execution_count": 39,
     "metadata": {},
     "output_type": "execute_result"
    }
   ],
   "source": [
    "search(\"n.e.w\", False).json()"
   ]
  },
  {
   "cell_type": "code",
   "execution_count": 40,
   "metadata": {},
   "outputs": [],
   "source": [
    "phone_num_analyzer = {\n",
    "    \"settings\": {\n",
    "        \"analysis\": {\n",
    "            \"filter\": {\n",
    "                \"phone_num_filter\": {\n",
    "                    \"type\": \"word_delimiter\",\n",
    "                    \"catenate_all\": True,\n",
    "                    \"generate_number_parts\": False\n",
    "                },\n",
    "                \"phone_num_parts\": {\n",
    "                    \"type\": \"pattern_capture\",\n",
    "                    \"patterns\": [\"(\\\\d{7}$)\",\"(\\\\d{10}$)\"],\n",
    "                    \"perserve_original\": True\n",
    "                }\n",
    "            },\n",
    "            \"analyzer\": {\n",
    "                \"phone_num\": {\n",
    "                    \"tokenizer\": \"keyword\",\n",
    "                    \"filter\": [\"phone_num_filter\", \"phone_num_parts\"]\n",
    "                }\n",
    "            }\n",
    "        }\n",
    "    }\n",
    "}"
   ]
  },
  {
   "cell_type": "code",
   "execution_count": 41,
   "metadata": {},
   "outputs": [
    {
     "name": "stdout",
     "output_type": "stream",
     "text": [
      "Index removed {'acknowledged': True}\n",
      "Index created {'acknowledged': True, 'shards_acknowledged': True, 'index': 'my_library'}\n"
     ]
    }
   ],
   "source": [
    "remove_index()\n",
    "create_index(phone_num_analyzer)"
   ]
  },
  {
   "cell_type": "code",
   "execution_count": 42,
   "metadata": {},
   "outputs": [
    {
     "name": "stdout",
     "output_type": "stream",
     "text": [
      "{'tokens': [{'end_offset': 14,\n",
      "             'position': 0,\n",
      "             'start_offset': 0,\n",
      "             'token': '18008675309',\n",
      "             'type': 'word'},\n",
      "            {'end_offset': 14,\n",
      "             'position': 0,\n",
      "             'start_offset': 0,\n",
      "             'token': '8008675309',\n",
      "             'type': 'word'},\n",
      "            {'end_offset': 14,\n",
      "             'position': 0,\n",
      "             'start_offset': 0,\n",
      "             'token': '8675309',\n",
      "             'type': 'word'}]}\n"
     ]
    }
   ],
   "source": [
    "analyze_query(\"phone_num\", \"1(800)867-5309\")"
   ]
  },
  {
   "cell_type": "markdown",
   "metadata": {},
   "source": [
    "### 4.4.2"
   ]
  },
  {
   "cell_type": "code",
   "execution_count": 43,
   "metadata": {},
   "outputs": [],
   "source": [
    "from copy import deepcopy\n",
    "retail_analyzer_settings = deepcopy(english_analyzer_settings)\n",
    "retail_analyzer_settings[\"settings\"][\"analysis\"][\"filter\"][\"retail_syn_filter\"] = {\n",
    "    \"type\": \"synonym\",\n",
    "    \"synonyms\": [\n",
    "        \"dress shoe,dress shoes => dress_shoe, shoe\"\n",
    "    ]\n",
    "}\n",
    "retail_analyzer_settings[\"settings\"][\"analysis\"][\"analyzer\"] = {\n",
    "    \"retail_analyzer\": {\n",
    "        \"tokenizer\": \"standard\",\n",
    "        \"filter\": [\n",
    "            \"english_possesive_stemmer\",\n",
    "            \"lowercase\",\n",
    "            \"retail_syn_filter\",\n",
    "            \"english_keywords\",\n",
    "            \"english_stemmer\"\n",
    "        ]\n",
    "    }\n",
    "}\n",
    "retail_analyzer_settings[\"mappings\"] = {\n",
    "    \"properties\": {\n",
    "        \"desc\": {\n",
    "            \"type\": \"text\",\n",
    "            \"analyzer\": \"retail_analyzer\"\n",
    "        }\n",
    "    }\n",
    "}"
   ]
  },
  {
   "cell_type": "code",
   "execution_count": 44,
   "metadata": {},
   "outputs": [
    {
     "name": "stdout",
     "output_type": "stream",
     "text": [
      "Index removed {'acknowledged': True}\n"
     ]
    }
   ],
   "source": [
    "remove_index()"
   ]
  },
  {
   "cell_type": "code",
   "execution_count": 45,
   "metadata": {},
   "outputs": [
    {
     "name": "stdout",
     "output_type": "stream",
     "text": [
      "Index created {'acknowledged': True, 'shards_acknowledged': True, 'index': 'my_library'}\n"
     ]
    }
   ],
   "source": [
    "create_index(retail_analyzer_settings)"
   ]
  },
  {
   "cell_type": "code",
   "execution_count": 46,
   "metadata": {},
   "outputs": [],
   "source": [
    "retail = [\n",
    "    {\"desc\": \"bob's brand dress shoes are the bom diggity\"},\n",
    "    {\"desc\": \"this little black dress is sure to impress\"},\n",
    "    {\"desc\": \"tennis shoes... you know, for tennis\"}\n",
    "]"
   ]
  },
  {
   "cell_type": "code",
   "execution_count": 47,
   "metadata": {},
   "outputs": [
    {
     "name": "stdout",
     "output_type": "stream",
     "text": [
      "Indexed {'_index': 'my_library', '_type': '_doc', '_id': '0', '_version': 1, 'result': 'created', '_shards': {'total': 2, 'successful': 1, 'failed': 0}, '_seq_no': 0, '_primary_term': 1}\n",
      "Indexed {'_index': 'my_library', '_type': '_doc', '_id': '1', '_version': 1, 'result': 'created', '_shards': {'total': 2, 'successful': 1, 'failed': 0}, '_seq_no': 1, '_primary_term': 1}\n",
      "Indexed {'_index': 'my_library', '_type': '_doc', '_id': '2', '_version': 1, 'result': 'created', '_shards': {'total': 2, 'successful': 1, 'failed': 0}, '_seq_no': 2, '_primary_term': 1}\n"
     ]
    }
   ],
   "source": [
    "index_documents(retail)"
   ]
  },
  {
   "cell_type": "code",
   "execution_count": 48,
   "metadata": {},
   "outputs": [],
   "source": [
    "def search_using_query(query):\n",
    "    return requests.get(\n",
    "        f\"{ES_URI}/_doc/_search\",\n",
    "        json=query\n",
    "    )\n"
   ]
  },
  {
   "cell_type": "code",
   "execution_count": 49,
   "metadata": {},
   "outputs": [
    {
     "data": {
      "text/plain": [
       "{'took': 3,\n",
       " 'timed_out': False,\n",
       " '_shards': {'total': 1, 'successful': 1, 'skipped': 0, 'failed': 0},\n",
       " 'hits': {'total': {'value': 0, 'relation': 'eq'},\n",
       "  'max_score': None,\n",
       "  'hits': []}}"
      ]
     },
     "execution_count": 49,
     "metadata": {},
     "output_type": "execute_result"
    }
   ],
   "source": [
    "search_using_query({\n",
    "    \"query\": {\n",
    "        \"match\": {\"desc\": \"dress\"}\n",
    "    }\n",
    "}).json()"
   ]
  },
  {
   "cell_type": "code",
   "execution_count": 50,
   "metadata": {},
   "outputs": [
    {
     "data": {
      "text/plain": [
       "{'took': 1,\n",
       " 'timed_out': False,\n",
       " '_shards': {'total': 1, 'successful': 1, 'skipped': 0, 'failed': 0},\n",
       " 'hits': {'total': {'value': 0, 'relation': 'eq'},\n",
       "  'max_score': None,\n",
       "  'hits': []}}"
      ]
     },
     "execution_count": 50,
     "metadata": {},
     "output_type": "execute_result"
    }
   ],
   "source": [
    "search_using_query({\"query\": {\"match\": {\"desc\": \"shoe\"}}}).json()"
   ]
  },
  {
   "cell_type": "code",
   "execution_count": 51,
   "metadata": {},
   "outputs": [
    {
     "data": {
      "text/plain": [
       "{'took': 11,\n",
       " 'timed_out': False,\n",
       " '_shards': {'total': 1, 'successful': 1, 'skipped': 0, 'failed': 0},\n",
       " 'hits': {'total': {'value': 0, 'relation': 'eq'},\n",
       "  'max_score': None,\n",
       "  'hits': []}}"
      ]
     },
     "execution_count": 51,
     "metadata": {},
     "output_type": "execute_result"
    }
   ],
   "source": [
    "search_using_query({\"query\": {\"match\": {\"desc\": \"dress shoe\"}}}).json()"
   ]
  },
  {
   "cell_type": "code",
   "execution_count": 52,
   "metadata": {},
   "outputs": [
    {
     "name": "stdout",
     "output_type": "stream",
     "text": [
      "{'tokens': [{'end_offset': 6,\n",
      "             'position': 0,\n",
      "             'start_offset': 0,\n",
      "             'token': 'tenni',\n",
      "             'type': '<ALPHANUM>'},\n",
      "            {'end_offset': 12,\n",
      "             'position': 1,\n",
      "             'start_offset': 7,\n",
      "             'token': 'shoe',\n",
      "             'type': '<ALPHANUM>'},\n",
      "            {'end_offset': 19,\n",
      "             'position': 2,\n",
      "             'start_offset': 16,\n",
      "             'token': 'you',\n",
      "             'type': '<ALPHANUM>'},\n",
      "            {'end_offset': 24,\n",
      "             'position': 3,\n",
      "             'start_offset': 20,\n",
      "             'token': 'know',\n",
      "             'type': '<ALPHANUM>'},\n",
      "            {'end_offset': 29,\n",
      "             'position': 4,\n",
      "             'start_offset': 26,\n",
      "             'token': 'for',\n",
      "             'type': '<ALPHANUM>'},\n",
      "            {'end_offset': 36,\n",
      "             'position': 5,\n",
      "             'start_offset': 30,\n",
      "             'token': 'tenni',\n",
      "             'type': '<ALPHANUM>'}]}\n"
     ]
    }
   ],
   "source": [
    "analyze_query(\"retail_analyzer\", retail[2][\"desc\"])"
   ]
  },
  {
   "cell_type": "code",
   "execution_count": 53,
   "metadata": {},
   "outputs": [],
   "source": [
    "separate_analyzer_index_search = deepcopy(retail_analyzer_settings)"
   ]
  },
  {
   "cell_type": "code",
   "execution_count": 54,
   "metadata": {},
   "outputs": [],
   "source": [
    "del separate_analyzer_index_search[\"settings\"][\"analysis\"][\"filter\"][\"retail_syn_filter\"]\n",
    "separate_analyzer_index_search[\"settings\"][\"analysis\"][\"filter\"][\"retail_syn_filter_index\"] = {\n",
    "    \"type\":\"synonym\",\n",
    "    \"synonyms\": [\"dress shoe,dress shoes => dress_shoe, shoe\"]\n",
    "}\n",
    "separate_analyzer_index_search[\"settings\"][\"analysis\"][\"filter\"][\"retail_syn_filter_search\"] = {\n",
    "    \"type\": \"synonym\",\n",
    "    \"synonyms\": [\"dress shoe,dress shoes => dress_shoe\"]\n",
    "}\n",
    "\n",
    "separate_analyzer_index_search[\"settings\"][\"analysis\"][\"analyzer\"] = {\n",
    "    \"retail_analyzer_index\": {\n",
    "        \"tokenizer\": \"standard\",\n",
    "        \"filter\": [\n",
    "            \"english_possesive_stemmer\",\n",
    "            \"lowercase\",\n",
    "            \"retail_syn_filter_index\",\n",
    "            \"english_stop\",\n",
    "            \"english_keywords\",\n",
    "            \"english_stemmer\"\n",
    "        ]\n",
    "    },\n",
    "    \"retail_analyzer_search\": {\n",
    "        \"tokenizer\": \"standard\",\n",
    "        \"filter\": [\n",
    "            \"english_possesive_stemmer\",\n",
    "            \"lowercase\",\n",
    "            \"retail_syn_filter_search\",\n",
    "            \"english_stop\",\n",
    "            \"english_keywords\",\n",
    "            \"english_stemmer\"\n",
    "        ]\n",
    "    }\n",
    "}\n",
    "\n",
    "separate_analyzer_index_search[\"mappings\"][\"properties\"][\"desc\"] = {\n",
    "    \"type\": \"text\",\n",
    "    \"analyzer\": \"retail_analyzer_index\",\n",
    "    \"search_analyzer\": \"retail_analyzer_search\"\n",
    "}"
   ]
  },
  {
   "cell_type": "code",
   "execution_count": 55,
   "metadata": {},
   "outputs": [
    {
     "name": "stdout",
     "output_type": "stream",
     "text": [
      "Index removed {'acknowledged': True}\n",
      "Index created {'acknowledged': True, 'shards_acknowledged': True, 'index': 'my_library'}\n"
     ]
    }
   ],
   "source": [
    "remove_index()\n",
    "create_index(separate_analyzer_index_search)"
   ]
  },
  {
   "cell_type": "code",
   "execution_count": 56,
   "metadata": {},
   "outputs": [
    {
     "name": "stdout",
     "output_type": "stream",
     "text": [
      "Indexed {'_index': 'my_library', '_type': '_doc', '_id': '0', '_version': 1, 'result': 'created', '_shards': {'total': 2, 'successful': 1, 'failed': 0}, '_seq_no': 0, '_primary_term': 1}\n",
      "Indexed {'_index': 'my_library', '_type': '_doc', '_id': '1', '_version': 1, 'result': 'created', '_shards': {'total': 2, 'successful': 1, 'failed': 0}, '_seq_no': 1, '_primary_term': 1}\n",
      "Indexed {'_index': 'my_library', '_type': '_doc', '_id': '2', '_version': 1, 'result': 'created', '_shards': {'total': 2, 'successful': 1, 'failed': 0}, '_seq_no': 2, '_primary_term': 1}\n"
     ]
    }
   ],
   "source": [
    "index_documents(retail)"
   ]
  },
  {
   "cell_type": "code",
   "execution_count": 63,
   "metadata": {},
   "outputs": [
    {
     "data": {
      "text/plain": [
       "{'took': 3,\n",
       " 'timed_out': False,\n",
       " '_shards': {'total': 1, 'successful': 1, 'skipped': 0, 'failed': 0},\n",
       " 'hits': {'total': {'value': 1, 'relation': 'eq'},\n",
       "  'max_score': 1.0065652,\n",
       "  'hits': [{'_index': 'my_library',\n",
       "    '_type': '_doc',\n",
       "    '_id': '0',\n",
       "    '_score': 1.0065652,\n",
       "    '_source': {'desc': \"bob's brand dress shoes are the bom diggity\"}}]}}"
      ]
     },
     "execution_count": 63,
     "metadata": {},
     "output_type": "execute_result"
    }
   ],
   "source": [
    "search_using_query({\"query\": {\"match\": {\"desc\": \"dress shoe\"}}}).json()"
   ]
  },
  {
   "cell_type": "code",
   "execution_count": 61,
   "metadata": {},
   "outputs": [
    {
     "data": {
      "text/plain": [
       "{'took': 2,\n",
       " 'timed_out': False,\n",
       " '_shards': {'total': 1, 'successful': 1, 'skipped': 0, 'failed': 0},\n",
       " 'hits': {'total': {'value': 2, 'relation': 'eq'},\n",
       "  'max_score': 0.4823361,\n",
       "  'hits': [{'_index': 'my_library',\n",
       "    '_type': '_doc',\n",
       "    '_id': '0',\n",
       "    '_score': 0.4823361,\n",
       "    '_source': {'desc': \"bob's brand dress shoes are the bom diggity\"}},\n",
       "   {'_index': 'my_library',\n",
       "    '_type': '_doc',\n",
       "    '_id': '2',\n",
       "    '_score': 0.4823361,\n",
       "    '_source': {'desc': 'tennis shoes... you know, for tennis'}}]}}"
      ]
     },
     "execution_count": 61,
     "metadata": {},
     "output_type": "execute_result"
    }
   ],
   "source": [
    "search_using_query({\"query\": {\"match\": {\"desc\": \"shoe\"}}}).json()"
   ]
  },
  {
   "cell_type": "code",
   "execution_count": 62,
   "metadata": {},
   "outputs": [
    {
     "data": {
      "text/plain": [
       "{'took': 3,\n",
       " 'timed_out': False,\n",
       " '_shards': {'total': 1, 'successful': 1, 'skipped': 0, 'failed': 0},\n",
       " 'hits': {'total': {'value': 1, 'relation': 'eq'},\n",
       "  'max_score': 1.0065652,\n",
       "  'hits': [{'_index': 'my_library',\n",
       "    '_type': '_doc',\n",
       "    '_id': '1',\n",
       "    '_score': 1.0065652,\n",
       "    '_source': {'desc': 'this little black dress is sure to impress'}}]}}"
      ]
     },
     "execution_count": 62,
     "metadata": {},
     "output_type": "execute_result"
    }
   ],
   "source": [
    "search_using_query({\"query\": {\"match\": {\"desc\": \"dress\"}}}).json()"
   ]
  },
  {
   "cell_type": "markdown",
   "metadata": {},
   "source": [
    "### 4.4.5"
   ]
  },
  {
   "cell_type": "code",
   "execution_count": 64,
   "metadata": {},
   "outputs": [],
   "source": [
    "catalog_index = {\n",
    "    \"settings\": {\n",
    "        \"analysis\": {\n",
    "            \"analyzer\": {\n",
    "                \"path_hierarchy\": {\n",
    "                    \"tokenizer\": \"path_hierarchy\"\n",
    "                }\n",
    "            }\n",
    "        }\n",
    "    },\n",
    "    \"mappings\": {\n",
    "        \"properties\": {\n",
    "            \"inventory_dir\": {\n",
    "                \"type\": \"text\",\n",
    "                \"analyzer\": \"path_hierarchy\"\n",
    "            }\n",
    "        }\n",
    "    }\n",
    "}"
   ]
  },
  {
   "cell_type": "code",
   "execution_count": 65,
   "metadata": {},
   "outputs": [],
   "source": [
    "ES_URI = \"http://localhost:9200/catalog\""
   ]
  },
  {
   "cell_type": "code",
   "execution_count": 66,
   "metadata": {},
   "outputs": [
    {
     "name": "stdout",
     "output_type": "stream",
     "text": [
      "Index created {'acknowledged': True, 'shards_acknowledged': True, 'index': 'catalog'}\n"
     ]
    }
   ],
   "source": [
    "create_index(catalog_index)"
   ]
  },
  {
   "cell_type": "code",
   "execution_count": 67,
   "metadata": {},
   "outputs": [],
   "source": [
    "docs = [\n",
    "    {\"inventory_dir\": \"/fruit/apples/fuji\", \"description\": \"crisp, sweet-flavored, long shelf-life\"},\n",
    "    {\"inventory_dir\": \"/fruit/apples/gala\", \"description\": \"sweet, pleasant apple\"},\n",
    "    {\"inventory_dir\": \"/fruit\", \"description\": \"ediblem, seed-bearing portion of plants\"}\n",
    "]"
   ]
  },
  {
   "cell_type": "code",
   "execution_count": 68,
   "metadata": {},
   "outputs": [
    {
     "name": "stdout",
     "output_type": "stream",
     "text": [
      "Indexed {'_index': 'catalog', '_type': '_doc', '_id': '0', '_version': 1, 'result': 'created', '_shards': {'total': 2, 'successful': 1, 'failed': 0}, '_seq_no': 0, '_primary_term': 1}\n",
      "Indexed {'_index': 'catalog', '_type': '_doc', '_id': '1', '_version': 1, 'result': 'created', '_shards': {'total': 2, 'successful': 1, 'failed': 0}, '_seq_no': 1, '_primary_term': 1}\n",
      "Indexed {'_index': 'catalog', '_type': '_doc', '_id': '2', '_version': 1, 'result': 'created', '_shards': {'total': 2, 'successful': 1, 'failed': 0}, '_seq_no': 2, '_primary_term': 1}\n"
     ]
    }
   ],
   "source": [
    "index_documents(docs)"
   ]
  },
  {
   "cell_type": "code",
   "execution_count": 69,
   "metadata": {},
   "outputs": [
    {
     "data": {
      "text/plain": [
       "{'took': 1034,\n",
       " 'timed_out': False,\n",
       " '_shards': {'total': 1, 'successful': 1, 'skipped': 0, 'failed': 0},\n",
       " 'hits': {'total': {'value': 1, 'relation': 'eq'},\n",
       "  'max_score': 0.0,\n",
       "  'hits': [{'_index': 'catalog',\n",
       "    '_type': '_doc',\n",
       "    '_id': '0',\n",
       "    '_score': 0.0,\n",
       "    '_source': {'inventory_dir': '/fruit/apples/fuji',\n",
       "     'description': 'crisp, sweet-flavored, long shelf-life'}}]}}"
      ]
     },
     "execution_count": 69,
     "metadata": {},
     "output_type": "execute_result"
    }
   ],
   "source": [
    "search_using_query({\n",
    "    \"query\": {\n",
    "        \"bool\": {\n",
    "            \"should\": [{\"match\": {\"description\": \"<whatever>\"}}],\n",
    "            \"filter\": [{\"term\": {\"inventory_dir\": \"/fruit/apples/fuji\"}}]\n",
    "        }\n",
    "    }\n",
    "}).json()"
   ]
  },
  {
   "cell_type": "code",
   "execution_count": 70,
   "metadata": {},
   "outputs": [
    {
     "data": {
      "text/plain": [
       "{'took': 2,\n",
       " 'timed_out': False,\n",
       " '_shards': {'total': 1, 'successful': 1, 'skipped': 0, 'failed': 0},\n",
       " 'hits': {'total': {'value': 2, 'relation': 'eq'},\n",
       "  'max_score': 0.0,\n",
       "  'hits': [{'_index': 'catalog',\n",
       "    '_type': '_doc',\n",
       "    '_id': '0',\n",
       "    '_score': 0.0,\n",
       "    '_source': {'inventory_dir': '/fruit/apples/fuji',\n",
       "     'description': 'crisp, sweet-flavored, long shelf-life'}},\n",
       "   {'_index': 'catalog',\n",
       "    '_type': '_doc',\n",
       "    '_id': '1',\n",
       "    '_score': 0.0,\n",
       "    '_source': {'inventory_dir': '/fruit/apples/gala',\n",
       "     'description': 'sweet, pleasant apple'}}]}}"
      ]
     },
     "execution_count": 70,
     "metadata": {},
     "output_type": "execute_result"
    }
   ],
   "source": [
    "search_using_query({\n",
    "    \"query\": {\n",
    "        \"bool\": {\n",
    "            \"should\": [{\"match\": {\"description\": \"<whatever>\"}}],\n",
    "            \"filter\": [{\"term\": {\"inventory_dir\": \"/fruit/apples\"}}]\n",
    "        }\n",
    "    }\n",
    "}).json()"
   ]
  },
  {
   "cell_type": "code",
   "execution_count": null,
   "metadata": {},
   "outputs": [],
   "source": []
  }
 ],
 "metadata": {
  "kernelspec": {
   "display_name": "Python 3",
   "language": "python",
   "name": "python3"
  },
  "language_info": {
   "codemirror_mode": {
    "name": "ipython",
    "version": 3
   },
   "file_extension": ".py",
   "mimetype": "text/x-python",
   "name": "python",
   "nbconvert_exporter": "python",
   "pygments_lexer": "ipython3",
   "version": "3.8.3"
  }
 },
 "nbformat": 4,
 "nbformat_minor": 4
}
