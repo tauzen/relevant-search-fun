{
 "cells": [
  {
   "cell_type": "code",
   "execution_count": 1,
   "metadata": {},
   "outputs": [],
   "source": [
    "import requests"
   ]
  },
  {
   "cell_type": "code",
   "execution_count": 2,
   "metadata": {},
   "outputs": [],
   "source": [
    "import json"
   ]
  },
  {
   "cell_type": "code",
   "execution_count": 3,
   "metadata": {},
   "outputs": [],
   "source": [
    "headers={'Content-Type': 'application/json'}"
   ]
  },
  {
   "cell_type": "code",
   "execution_count": 4,
   "metadata": {},
   "outputs": [],
   "source": [
    "def extract():\n",
    "    f = open('tmdb.json')\n",
    "    if f:\n",
    "        return json.loads(f.read())\n"
   ]
  },
  {
   "cell_type": "code",
   "execution_count": 5,
   "metadata": {},
   "outputs": [],
   "source": [
    "movies = extract()"
   ]
  },
  {
   "cell_type": "code",
   "execution_count": 6,
   "metadata": {},
   "outputs": [],
   "source": [
    "def reindex(analysis_settings={}, mapping_settings={}, movie_dict = {}):\n",
    "    settings = {\n",
    "        \"settings\": {\n",
    "            \"number_of_shards\": 1,\n",
    "            \"index\": {\n",
    "                \"analysis\": analysis_settings,\n",
    "            }\n",
    "        }\n",
    "    }\n",
    "    \n",
    "    if mapping_settings:\n",
    "        settings[\"mappings\"] = mapping_settings\n",
    "    \n",
    "    resp = requests.delete(\"http://localhost:9200/tmdb\")\n",
    "    resp = requests.put(\"http://localhost:9200/tmdb\", json=settings)\n",
    "    \n",
    "    bulk_movies = \"\"\n",
    "    for id, movie in movie_dict.items():\n",
    "        add_cmd = {\n",
    "            \"index\": {\"_index\": \"tmdb\", \"_id\": movie[\"id\"]}\n",
    "        }\n",
    "        bulk_movies += json.dumps(add_cmd) + \"\\n\" + json.dumps(movie) + \"\\n\"\n",
    "    \n",
    "    resp = requests.post(\"http://localhost:9200/_bulk\", data=bulk_movies, headers=headers)\n",
    "    return resp"
   ]
  },
  {
   "cell_type": "code",
   "execution_count": 7,
   "metadata": {},
   "outputs": [],
   "source": [
    "resp = reindex(movie_dict=movies)"
   ]
  },
  {
   "cell_type": "code",
   "execution_count": 8,
   "metadata": {},
   "outputs": [],
   "source": [
    "def search(query):\n",
    "    url = 'http://localhost:9200/tmdb/_doc/_search'\n",
    "    resp = requests.get(url, json=query)\n",
    "    \n",
    "    search_hits = json.loads(resp.text)['hits']\n",
    "    \n",
    "    print(\"Num\\tRelevance\\tMovie title\")\n",
    "    \n",
    "    for idx, hit in enumerate(search_hits['hits']):\n",
    "        print(f\"{idx}\\t{hit['_score']}\\t{hit['_source']['title']}\")"
   ]
  },
  {
   "cell_type": "code",
   "execution_count": 9,
   "metadata": {},
   "outputs": [],
   "source": [
    "user_search = 'basketball with cartoon aliens'"
   ]
  },
  {
   "cell_type": "code",
   "execution_count": 10,
   "metadata": {},
   "outputs": [],
   "source": [
    "query = {\n",
    "    \"query\": {\n",
    "        \"multi_match\": {\n",
    "            \"query\": user_search,\n",
    "            \"fields\": [\"title^10\", \"overview\"],\n",
    "        }\n",
    "    }\n",
    "}\n"
   ]
  },
  {
   "cell_type": "code",
   "execution_count": 11,
   "metadata": {},
   "outputs": [
    {
     "name": "stdout",
     "output_type": "stream",
     "text": [
      "Num\tRelevance\tMovie title\n",
      "0\t85.56929\tAliens\n",
      "1\t73.71077\tThe Basketball Diaries\n",
      "2\t71.3202\tCowboys & Aliens\n",
      "3\t61.13922\tMonsters vs Aliens\n",
      "4\t53.501823\tAliens vs Predator: Requiem\n",
      "5\t53.501823\tAliens in the Attic\n",
      "6\t45.221096\tDances with Wolves\n",
      "7\t45.221096\tFriends with Benefits\n",
      "8\t45.221096\tFire with Fire\n",
      "9\t45.221096\tFriends with Kids\n"
     ]
    }
   ],
   "source": [
    "search(query)"
   ]
  },
  {
   "cell_type": "code",
   "execution_count": 12,
   "metadata": {},
   "outputs": [],
   "source": [
    "resp = requests.get(\n",
    "    \"http://localhost:9200/tmdb/_analyze?format=yaml\",\n",
    "    json={\"text\": \"Fire with Fire\", \"analyzer\": \"standard\"})"
   ]
  },
  {
   "cell_type": "code",
   "execution_count": 13,
   "metadata": {},
   "outputs": [
    {
     "name": "stdout",
     "output_type": "stream",
     "text": [
      "---\n",
      "tokens:\n",
      "- token: \"fire\"\n",
      "  start_offset: 0\n",
      "  end_offset: 4\n",
      "  type: \"<ALPHANUM>\"\n",
      "  position: 0\n",
      "- token: \"with\"\n",
      "  start_offset: 5\n",
      "  end_offset: 9\n",
      "  type: \"<ALPHANUM>\"\n",
      "  position: 1\n",
      "- token: \"fire\"\n",
      "  start_offset: 10\n",
      "  end_offset: 14\n",
      "  type: \"<ALPHANUM>\"\n",
      "  position: 2\n",
      "\n"
     ]
    }
   ],
   "source": [
    "print(resp.text)"
   ]
  },
  {
   "cell_type": "code",
   "execution_count": 14,
   "metadata": {},
   "outputs": [],
   "source": [
    "mapping_settings = {\n",
    "    \"properties\": {\n",
    "        \"title\": {\n",
    "            \"type\": \"text\",\n",
    "            \"analyzer\": \"english\"\n",
    "        },\n",
    "        \"overview\": {\n",
    "            \"type\": \"text\",\n",
    "            \"analyzer\": \"english\"\n",
    "        }\n",
    "    }\n",
    "}"
   ]
  },
  {
   "cell_type": "code",
   "execution_count": 15,
   "metadata": {},
   "outputs": [],
   "source": [
    "resp = reindex(mapping_settings=mapping_settings, movie_dict=movies)"
   ]
  },
  {
   "cell_type": "code",
   "execution_count": 16,
   "metadata": {},
   "outputs": [],
   "source": [
    "resp = requests.get(\n",
    "    \"http://localhost:9200/tmdb/_analyze?format=yaml\",\n",
    "    json={\"text\": \"Fire with Fire\", \"field\": \"title\"})"
   ]
  },
  {
   "cell_type": "code",
   "execution_count": 17,
   "metadata": {},
   "outputs": [
    {
     "name": "stdout",
     "output_type": "stream",
     "text": [
      "---\n",
      "tokens:\n",
      "- token: \"fire\"\n",
      "  start_offset: 0\n",
      "  end_offset: 4\n",
      "  type: \"<ALPHANUM>\"\n",
      "  position: 0\n",
      "- token: \"fire\"\n",
      "  start_offset: 10\n",
      "  end_offset: 14\n",
      "  type: \"<ALPHANUM>\"\n",
      "  position: 2\n",
      "\n"
     ]
    }
   ],
   "source": [
    "print(resp.text)"
   ]
  },
  {
   "cell_type": "code",
   "execution_count": 18,
   "metadata": {},
   "outputs": [
    {
     "name": "stdout",
     "output_type": "stream",
     "text": [
      "Num\tRelevance\tMovie title\n",
      "0\t78.76023\tThe Basketball Diaries\n",
      "1\t74.090744\tAlien\n",
      "2\t74.090744\tAliens\n",
      "3\t74.090744\tAlien³\n",
      "4\t59.677002\tCowboys & Aliens\n",
      "5\t59.677002\tAliens in the Attic\n",
      "6\t59.677002\tAlien: Resurrection\n",
      "7\t49.95806\tMonsters vs Aliens\n",
      "8\t42.961403\tAliens vs Predator: Requiem\n",
      "9\t42.961403\tAVP: Alien vs. Predator\n"
     ]
    }
   ],
   "source": [
    "search(query)"
   ]
  },
  {
   "cell_type": "code",
   "execution_count": 19,
   "metadata": {},
   "outputs": [],
   "source": [
    "query[\"explain\"] = True"
   ]
  },
  {
   "cell_type": "code",
   "execution_count": 21,
   "metadata": {},
   "outputs": [],
   "source": [
    "resp = requests.get('http://localhost:9200/tmdb/_doc/_search', json=query)\n",
    "resp_json = resp.json()\n",
    "title = resp_json['hits']['hits'][0]['_source']['title']\n",
    "explain = resp_json['hits']['hits'][0]['_explanation']\n",
    "# print(title)\n",
    "# import pprint\n",
    "# pprint.pprint(explain, compact=True)"
   ]
  },
  {
   "cell_type": "code",
   "execution_count": 22,
   "metadata": {},
   "outputs": [],
   "source": [
    "query = {\n",
    "    \"query\": {\n",
    "        \"multi_match\": {\n",
    "            \"query\": user_search,\n",
    "            \"fields\": [\"title^0.1\", \"overview\"],\n",
    "        }\n",
    "    }\n",
    "}"
   ]
  },
  {
   "cell_type": "code",
   "execution_count": 23,
   "metadata": {},
   "outputs": [
    {
     "name": "stdout",
     "output_type": "stream",
     "text": [
      "Num\tRelevance\tMovie title\n",
      "0\t12.882349\tSpace Jam\n",
      "1\t7.5384703\tGrown Ups\n",
      "2\t7.4996777\tSpeed Racer\n",
      "3\t7.244087\tSemi-Pro\n",
      "4\t7.1626425\tThe Flintstones\n",
      "5\t6.943389\tCoach Carter\n",
      "6\t6.7653713\tWhite Men Can't Jump\n",
      "7\t5.845222\tMeet Dave\n",
      "8\t5.800564\tAliens vs Predator: Requiem\n",
      "9\t5.440302\tBedazzled\n"
     ]
    }
   ],
   "source": [
    "search(query)"
   ]
  }
 ],
 "metadata": {
  "kernelspec": {
   "display_name": "Python 3",
   "language": "python",
   "name": "python3"
  },
  "language_info": {
   "codemirror_mode": {
    "name": "ipython",
    "version": 3
   },
   "file_extension": ".py",
   "mimetype": "text/x-python",
   "name": "python",
   "nbconvert_exporter": "python",
   "pygments_lexer": "ipython3",
   "version": "3.8.3"
  }
 },
 "nbformat": 4,
 "nbformat_minor": 4
}
