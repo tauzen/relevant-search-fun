{
 "cells": [
  {
   "cell_type": "code",
   "execution_count": 1,
   "metadata": {},
   "outputs": [],
   "source": [
    "import requests\n",
    "import json"
   ]
  },
  {
   "cell_type": "code",
   "execution_count": 2,
   "metadata": {},
   "outputs": [],
   "source": [
    "def extract():\n",
    "    f = open('../chapter-3/tmdb.json')\n",
    "    if f:\n",
    "        return json.loads(f.read())"
   ]
  },
  {
   "cell_type": "code",
   "execution_count": 44,
   "metadata": {},
   "outputs": [],
   "source": [
    "def reindex(analysis_settings={}, mapping_settings={}, movie_dict={}, transform=None):\n",
    "    settings = {\n",
    "        \"settings\": {\n",
    "            \"number_of_shards\": 1,\n",
    "            \"index\": {\n",
    "                \"analysis\": analysis_settings,\n",
    "            }\n",
    "        }\n",
    "    }\n",
    "    \n",
    "    if mapping_settings:\n",
    "        settings[\"mappings\"] = mapping_settings\n",
    "    \n",
    "    \n",
    "    print(\"using stettings\\n\", settings)\n",
    "    resp = requests.delete(\"http://localhost:9200/tmdb\")\n",
    "    print(f\"previouse index removal: {resp.status_code}\")\n",
    "    resp = requests.put(\"http://localhost:9200/tmdb\", json=settings)\n",
    "    print(\"index creation\", resp.json())\n",
    "    \n",
    "    bulk_movies = \"\"\n",
    "    for id, movie in movie_dict.items():\n",
    "        add_cmd = {\n",
    "            \"index\": {\"_index\": \"tmdb\", \"_id\": movie[\"id\"]}\n",
    "        }\n",
    "        if transform:\n",
    "            transform(movie)\n",
    "            \n",
    "        bulk_movies += json.dumps(add_cmd) + \"\\n\" + json.dumps(movie) + \"\\n\"\n",
    "    \n",
    "    resp = requests.post(\n",
    "        \"http://localhost:9200/_bulk\",\n",
    "        data=bulk_movies,\n",
    "        headers={'Content-Type': 'application/json'}\n",
    "    )\n",
    "    return resp"
   ]
  },
  {
   "cell_type": "code",
   "execution_count": 4,
   "metadata": {},
   "outputs": [],
   "source": [
    "def search(query):\n",
    "    url = 'http://localhost:9200/tmdb/_doc/_search'\n",
    "    resp = requests.get(url, json=query)\n",
    "        \n",
    "    try:\n",
    "        search_hits = json.loads(resp.text)['hits']\n",
    "    \n",
    "        print(\"Num\\tid\\tRelevance\\tMovie title\")\n",
    "        for idx, hit in enumerate(search_hits['hits']):\n",
    "            print(f\"{idx}\\t{hit['_id']}\\t{hit['_score']}\\t{hit['_source']['title']}\")\n",
    "    except:\n",
    "        pass\n",
    "    \n",
    "    return resp"
   ]
  },
  {
   "cell_type": "code",
   "execution_count": 5,
   "metadata": {},
   "outputs": [],
   "source": [
    "analysis_settings = {\n",
    "   \"analyzer\": {\n",
    "      \"default\": {\n",
    "        \"type\": \"english\"\n",
    "      },\n",
    "      \"english_bigrams\": {\n",
    "          \"tokenizer\": \"standard\",\n",
    "          \"filter\": [\n",
    "            \"lowercase\",\n",
    "            \"porter_stem\",\n",
    "            \"bigram_filter\"\n",
    "          ]\n",
    "      }\n",
    "    },\n",
    "    \"filter\": {\n",
    "        \"bigram_filter\": {\n",
    "          \"type\": \"shingle\",\n",
    "          \"min_shingle_size\": 2,\n",
    "          \"max_shingle_size\": 2,\n",
    "          \"output_unigrams\": False\n",
    "        }\n",
    "    }\n",
    "}"
   ]
  },
  {
   "cell_type": "code",
   "execution_count": 6,
   "metadata": {},
   "outputs": [],
   "source": [
    "mapping_settings = {\n",
    "    \"properties\": {\n",
    "        \"cast\": {\n",
    "            \"properties\": {\n",
    "                \"name\": {\n",
    "                    \"type\": \"text\",\n",
    "                    \"analyzer\": \"english\",\n",
    "                    \"fields\": {\n",
    "                        \"bigramed\": {\n",
    "                            \"type\": \"text\",\n",
    "                            \"analyzer\": \"english_bigrams\"\n",
    "                        }     \n",
    "                    }\n",
    "                }\n",
    "            }\n",
    "        },\n",
    "        \"directors\": {\n",
    "            \"properties\": {\n",
    "                \"name\": {\n",
    "                    \"type\": \"text\",\n",
    "                    \"analyzer\": \"english\",\n",
    "                    \"fields\": {\n",
    "                        \"bigramed\": {\n",
    "                            \"type\": \"text\",\n",
    "                            \"analyzer\": \"english_bigrams\"\n",
    "                        }     \n",
    "                    }\n",
    "                }\n",
    "            }\n",
    "        }\n",
    "    }\n",
    "}"
   ]
  },
  {
   "cell_type": "code",
   "execution_count": 18,
   "metadata": {},
   "outputs": [
    {
     "name": "stdout",
     "output_type": "stream",
     "text": [
      "using stettings\n",
      " {'settings': {'number_of_shards': 1, 'index': {'analysis': {'analyzer': {'default': {'type': 'english'}, 'english_bigrams': {'tokenizer': 'standard', 'filter': ['lowercase', 'porter_stem', 'bigram_filter']}}, 'filter': {'bigram_filter': {'type': 'shingle', 'min_shingle_size': 2, 'max_shingle_size': 2, 'output_unigrams': False}}}}}, 'mappings': {'properties': {'cast': {'properties': {'name': {'type': 'text', 'analyzer': 'english', 'fields': {'bigramed': {'type': 'text', 'analyzer': 'english_bigrams'}}}}}, 'directors': {'properties': {'name': {'type': 'text', 'analyzer': 'english', 'fields': {'bigramed': {'type': 'text', 'analyzer': 'english_bigrams'}}}}}}}}\n",
      "previouse index removal: 200\n",
      "index creation {'acknowledged': True, 'shards_acknowledged': True, 'index': 'tmdb'}\n"
     ]
    },
    {
     "data": {
      "text/plain": [
       "<Response [200]>"
      ]
     },
     "execution_count": 18,
     "metadata": {},
     "output_type": "execute_result"
    }
   ],
   "source": [
    "reindex(analysis_settings, mapping_settings, extract())"
   ]
  },
  {
   "cell_type": "code",
   "execution_count": 8,
   "metadata": {},
   "outputs": [],
   "source": [
    "user_search = \"patrick stewart william shatner\"\n",
    "query = {\n",
    "    \"query\": {\n",
    "        \"multi_match\": {\n",
    "            \"query\": user_search,\n",
    "            \"fields\": [\"title\", \"directors.name\", \"cast.name\"],\n",
    "            \"type\": \"cross_fields\"\n",
    "        }\n",
    "    }\n",
    "}"
   ]
  },
  {
   "cell_type": "code",
   "execution_count": 9,
   "metadata": {},
   "outputs": [
    {
     "name": "stdout",
     "output_type": "stream",
     "text": [
      "Num\tid\tRelevance\tMovie title\n",
      "0\t193\t13.487319\tStar Trek: Generations\n",
      "1\t5851\t9.604372\tShowtime\n",
      "2\t12610\t9.327592\tOsmosis Jones\n",
      "3\t9904\t9.216275\tThe Wild\n",
      "4\t10040\t8.54747\tMiss Congeniality 2: Armed and Fabulous\n",
      "5\t8834\t8.327571\tConspiracy Theory\n",
      "6\t154\t8.256831\tStar Trek II: The Wrath of Khan\n",
      "7\t1649\t8.222833\tBill & Ted's Bogus Journey\n",
      "8\t172\t7.8560176\tStar Trek V: The Final Frontier\n",
      "9\t168\t7.669857\tStar Trek IV: The Voyage Home\n"
     ]
    },
    {
     "data": {
      "text/plain": [
       "<Response [200]>"
      ]
     },
     "execution_count": 9,
     "metadata": {},
     "output_type": "execute_result"
    }
   ],
   "source": [
    "search(query)"
   ]
  },
  {
   "cell_type": "code",
   "execution_count": null,
   "metadata": {},
   "outputs": [],
   "source": []
  },
  {
   "cell_type": "markdown",
   "metadata": {},
   "source": [
    "### 7.2.3 "
   ]
  },
  {
   "cell_type": "code",
   "execution_count": 10,
   "metadata": {},
   "outputs": [],
   "source": [
    "query = {\n",
    "    \"query\": {\n",
    "        \"bool\": {\n",
    "            \"should\": [\n",
    "                {\n",
    "                    \"multi_match\": {\n",
    "                        \"query\": user_search,\n",
    "                        \"fields\": [\"title\", \"directors.name\", \"cast.name\"],\n",
    "                        \"type\": \"cross_fields\"\n",
    "                    }\n",
    "                },\n",
    "                {\n",
    "                    \"match_phrase\": {\n",
    "                        \"title\": {\"query\": \"star trek\"}\n",
    "                    }\n",
    "                }\n",
    "            ]\n",
    "        },\n",
    "    }\n",
    "}"
   ]
  },
  {
   "cell_type": "code",
   "execution_count": 11,
   "metadata": {},
   "outputs": [
    {
     "name": "stdout",
     "output_type": "stream",
     "text": [
      "Num\tid\tRelevance\tMovie title\n",
      "0\t193\t22.520575\tStar Trek: Generations\n",
      "1\t200\t15.981052\tStar Trek: Insurrection\n",
      "2\t154\t15.16114\tStar Trek II: The Wrath of Khan\n",
      "3\t201\t15.10723\tStar Trek: Nemesis\n",
      "4\t152\t15.076138\tStar Trek: The Motion Picture\n",
      "5\t172\t14.751929\tStar Trek V: The Final Frontier\n",
      "6\t168\t14.5619755\tStar Trek IV: The Voyage Home\n",
      "7\t199\t14.457286\tStar Trek: First Contact\n",
      "8\t157\t14.293464\tStar Trek III: The Search for Spock\n",
      "9\t174\t13.4498825\tStar Trek VI: The Undiscovered Country\n"
     ]
    },
    {
     "data": {
      "text/plain": [
       "<Response [200]>"
      ]
     },
     "execution_count": 11,
     "metadata": {},
     "output_type": "execute_result"
    }
   ],
   "source": [
    "search(query)"
   ]
  },
  {
   "cell_type": "code",
   "execution_count": 12,
   "metadata": {},
   "outputs": [],
   "source": [
    "# this already works because of the switch from TFxIDF to BM25 in Lucene\n",
    "# https://opensourceconnections.com/blog/2015/10/16/bm25-the-next-generation-of-lucene-relevation/\n",
    "# setting boost to higher value actually simulates the book example"
   ]
  },
  {
   "cell_type": "code",
   "execution_count": 13,
   "metadata": {},
   "outputs": [
    {
     "name": "stdout",
     "output_type": "stream",
     "text": [
      "Num\tid\tRelevance\tMovie title\n",
      "0\t13475\t108.40272\tStar Trek\n",
      "1\t193\t103.59122\tStar Trek: Generations\n",
      "2\t200\t97.05169\tStar Trek: Insurrection\n",
      "3\t201\t96.17787\tStar Trek: Nemesis\n",
      "4\t54138\t90.07849\tStar Trek Into Darkness\n",
      "5\t152\t84.79279\tStar Trek: The Motion Picture\n",
      "6\t199\t84.17394\tStar Trek: First Contact\n",
      "7\t154\t76.31339\tStar Trek II: The Wrath of Khan\n",
      "8\t172\t75.90418\tStar Trek V: The Final Frontier\n",
      "9\t168\t75.714226\tStar Trek IV: The Voyage Home\n"
     ]
    },
    {
     "data": {
      "text/plain": [
       "<Response [200]>"
      ]
     },
     "execution_count": 13,
     "metadata": {},
     "output_type": "execute_result"
    }
   ],
   "source": [
    "query_w_boost = {\n",
    "    \"query\": {\n",
    "        \"bool\": {\n",
    "            \"should\": [\n",
    "                {\n",
    "                    \"multi_match\": {\n",
    "                        \"query\": user_search,\n",
    "                        \"fields\": [\"title\", \"directors.name\", \"cast.name\"],\n",
    "                        \"type\": \"cross_fields\"\n",
    "                    }\n",
    "                },\n",
    "                {\n",
    "                    \"match_phrase\": {\n",
    "                        \"title\": {\"query\": \"star trek\", \"boost\": 10}\n",
    "                    }\n",
    "                }\n",
    "            ]\n",
    "        },\n",
    "    }\n",
    "}\n",
    "search(query_w_boost)"
   ]
  },
  {
   "cell_type": "markdown",
   "metadata": {},
   "source": [
    "### 7.2.4"
   ]
  },
  {
   "cell_type": "code",
   "execution_count": 14,
   "metadata": {},
   "outputs": [],
   "source": [
    "query = {\n",
    "    \"query\": {\n",
    "        \"function_score\": {\n",
    "            \"query\": {\n",
    "                \"multi_match\": {\n",
    "                    \"query\": user_search,\n",
    "                    \"fields\": [\"title\", \"directors.name\", \"cast.name\"],\n",
    "                    \"type\": \"cross_fields\"\n",
    "                }\n",
    "            },\n",
    "            \"functions\": [\n",
    "                {\n",
    "                    \"weight\": 2.5,\n",
    "                    \"filter\": {\n",
    "                        \"match_phrase\": { \"title\": \"star trek\"}\n",
    "                    }\n",
    "                }\n",
    "            ]\n",
    "        }\n",
    "    }\n",
    "}"
   ]
  },
  {
   "cell_type": "code",
   "execution_count": 15,
   "metadata": {},
   "outputs": [
    {
     "name": "stdout",
     "output_type": "stream",
     "text": [
      "Num\tid\tRelevance\tMovie title\n",
      "0\t193\t33.78181\tStar Trek: Generations\n",
      "1\t154\t20.916115\tStar Trek II: The Wrath of Khan\n",
      "2\t172\t19.893085\tStar Trek V: The Final Frontier\n",
      "3\t168\t19.418203\tStar Trek IV: The Voyage Home\n",
      "4\t157\t18.746922\tStar Trek III: The Search for Spock\n",
      "5\t152\t18.324604\tStar Trek: The Motion Picture\n",
      "6\t200\t17.433002\tStar Trek: Insurrection\n",
      "7\t199\t16.777475\tStar Trek: First Contact\n",
      "8\t174\t16.63797\tStar Trek VI: The Undiscovered Country\n",
      "9\t201\t15.248449\tStar Trek: Nemesis\n"
     ]
    }
   ],
   "source": [
    "resp = search(query)"
   ]
  },
  {
   "cell_type": "markdown",
   "metadata": {},
   "source": [
    "### 7.3"
   ]
  },
  {
   "cell_type": "code",
   "execution_count": 16,
   "metadata": {},
   "outputs": [
    {
     "name": "stdout",
     "output_type": "stream",
     "text": [
      "Num\tid\tRelevance\tMovie title\n",
      "0\t13475\t108.40272\tStar Trek\n",
      "1\t193\t103.59122\tStar Trek: Generations\n",
      "2\t200\t97.05169\tStar Trek: Insurrection\n",
      "3\t201\t96.17787\tStar Trek: Nemesis\n",
      "4\t54138\t90.07849\tStar Trek Into Darkness\n",
      "5\t152\t84.79279\tStar Trek: The Motion Picture\n",
      "6\t199\t84.17394\tStar Trek: First Contact\n",
      "7\t154\t76.31339\tStar Trek II: The Wrath of Khan\n",
      "8\t172\t75.90418\tStar Trek V: The Final Frontier\n",
      "9\t168\t75.714226\tStar Trek IV: The Voyage Home\n"
     ]
    },
    {
     "data": {
      "text/plain": [
       "<Response [200]>"
      ]
     },
     "execution_count": 16,
     "metadata": {},
     "output_type": "execute_result"
    }
   ],
   "source": [
    "query_w_filter = {\n",
    "    \"query\": {\n",
    "        \"bool\": {\n",
    "            \"should\": [\n",
    "                {\n",
    "                    \"multi_match\": {\n",
    "                        \"query\": user_search,\n",
    "                        \"fields\": [\"title\", \"directors.name\", \"cast.name\"],\n",
    "                        \"type\": \"cross_fields\"\n",
    "                    }\n",
    "                }\n",
    "            ],\n",
    "            \"filter\": [\n",
    "                {\n",
    "                    \"match_phrase\": {\n",
    "                        \"title\": {\"query\": \"star trek\"}\n",
    "                    }\n",
    "                }\n",
    "            ]\n",
    "        },\n",
    "    }\n",
    "}\n",
    "search(query_w_boost)"
   ]
  },
  {
   "cell_type": "markdown",
   "metadata": {},
   "source": [
    "### 7.4.2"
   ]
  },
  {
   "cell_type": "code",
   "execution_count": 28,
   "metadata": {},
   "outputs": [],
   "source": [
    "SENTINEL_BEGIN = \"SENTINEL_BEGIN\"\n",
    "SENTINEL_END = \"SENTINEL_END\"\n",
    "\n",
    "def transform(movie):\n",
    "    movie[\"title_exact_match\"] = f\"{SENTINEL_BEGIN} {movie['title']} {SENTINEL_END}\""
   ]
  },
  {
   "cell_type": "code",
   "execution_count": 45,
   "metadata": {},
   "outputs": [
    {
     "name": "stdout",
     "output_type": "stream",
     "text": [
      "using stettings\n",
      " {'settings': {'number_of_shards': 1, 'index': {'analysis': {'analyzer': {'default': {'type': 'english'}, 'english_bigrams': {'tokenizer': 'standard', 'filter': ['lowercase', 'porter_stem', 'bigram_filter']}}, 'filter': {'bigram_filter': {'type': 'shingle', 'min_shingle_size': 2, 'max_shingle_size': 2, 'output_unigrams': False}}}}}, 'mappings': {'properties': {'cast': {'properties': {'name': {'type': 'text', 'analyzer': 'english', 'fields': {'bigramed': {'type': 'text', 'analyzer': 'english_bigrams'}}}}}, 'directors': {'properties': {'name': {'type': 'text', 'analyzer': 'english', 'fields': {'bigramed': {'type': 'text', 'analyzer': 'english_bigrams'}}}}}}}}\n",
      "previouse index removal: 200\n",
      "index creation {'acknowledged': True, 'shards_acknowledged': True, 'index': 'tmdb'}\n"
     ]
    },
    {
     "data": {
      "text/plain": [
       "<Response [200]>"
      ]
     },
     "execution_count": 45,
     "metadata": {},
     "output_type": "execute_result"
    }
   ],
   "source": [
    "reindex(analysis_settings, mapping_settings, extract(), transform)"
   ]
  },
  {
   "cell_type": "code",
   "execution_count": null,
   "metadata": {},
   "outputs": [],
   "source": []
  },
  {
   "cell_type": "code",
   "execution_count": 30,
   "metadata": {},
   "outputs": [],
   "source": [
    "user_search = \"star trek\""
   ]
  },
  {
   "cell_type": "code",
   "execution_count": 41,
   "metadata": {},
   "outputs": [],
   "source": [
    "query = {\n",
    "    \"query\": {\n",
    "        \"match_phrase\": {\n",
    "            \"title_exact_match\": {\n",
    "                \"query\": f\"{SENTINEL_BEGIN} {user_search} {SENTINEL_END}\",\n",
    "                \"boost\": 0.1\n",
    "            }\n",
    "        }\n",
    "    }\n",
    "}"
   ]
  },
  {
   "cell_type": "code",
   "execution_count": 46,
   "metadata": {},
   "outputs": [
    {
     "name": "stdout",
     "output_type": "stream",
     "text": [
      "Num\tid\tRelevance\tMovie title\n",
      "0\t13475\t1.0588807\tStar Trek\n"
     ]
    },
    {
     "data": {
      "text/plain": [
       "<Response [200]>"
      ]
     },
     "execution_count": 46,
     "metadata": {},
     "output_type": "execute_result"
    }
   ],
   "source": [
    "search(query)"
   ]
  },
  {
   "cell_type": "code",
   "execution_count": 48,
   "metadata": {},
   "outputs": [],
   "source": [
    "def transform(movie):\n",
    "    movie[\"title_exact_match\"] = f\"{SENTINEL_BEGIN} {movie['title']} {SENTINEL_END}\"\n",
    "    \n",
    "    movie[\"names_exact_match\"] = []\n",
    "    for person in movie[\"cast\"] + movie[\"directors\"]:\n",
    "        movie[\"names_exact_match\"].append(\n",
    "            f\"{SENTINEL_BEGIN} {person['name']} {SENTINEL_END}\"\n",
    "        )"
   ]
  },
  {
   "cell_type": "code",
   "execution_count": 49,
   "metadata": {},
   "outputs": [
    {
     "name": "stdout",
     "output_type": "stream",
     "text": [
      "using stettings\n",
      " {'settings': {'number_of_shards': 1, 'index': {'analysis': {'analyzer': {'default': {'type': 'english'}, 'english_bigrams': {'tokenizer': 'standard', 'filter': ['lowercase', 'porter_stem', 'bigram_filter']}}, 'filter': {'bigram_filter': {'type': 'shingle', 'min_shingle_size': 2, 'max_shingle_size': 2, 'output_unigrams': False}}}}}, 'mappings': {'properties': {'cast': {'properties': {'name': {'type': 'text', 'analyzer': 'english', 'fields': {'bigramed': {'type': 'text', 'analyzer': 'english_bigrams'}}}}}, 'directors': {'properties': {'name': {'type': 'text', 'analyzer': 'english', 'fields': {'bigramed': {'type': 'text', 'analyzer': 'english_bigrams'}}}}}}}}\n",
      "previouse index removal: 200\n",
      "index creation {'acknowledged': True, 'shards_acknowledged': True, 'index': 'tmdb'}\n"
     ]
    },
    {
     "data": {
      "text/plain": [
       "<Response [200]>"
      ]
     },
     "execution_count": 49,
     "metadata": {},
     "output_type": "execute_result"
    }
   ],
   "source": [
    "reindex(analysis_settings, mapping_settings, extract(), transform)"
   ]
  },
  {
   "cell_type": "code",
   "execution_count": 54,
   "metadata": {},
   "outputs": [],
   "source": [
    "user_search = \"Star Trek Patrick Stewart\""
   ]
  },
  {
   "cell_type": "code",
   "execution_count": 57,
   "metadata": {},
   "outputs": [],
   "source": [
    "query = {\n",
    "    \"query\": {\n",
    "        \"bool\": {\n",
    "            \"should\": [\n",
    "                {\n",
    "                    \"match_phrase\": {\n",
    "                        \"title_exact_match\": {\n",
    "                            \"query\": f\"{SENTINEL_BEGIN} {user_search} {SENTINEL_END}\",\n",
    "                            \"boost\": 1000\n",
    "                        }\n",
    "                    }\n",
    "                },\n",
    "                {\n",
    "                    \"multi_match\": {\n",
    "                        \"query\": user_search,\n",
    "                        \"fields\": [\"title\", \"directors.name\", \"cast.name\"],\n",
    "                        \"type\": \"cross_fields\"\n",
    "                    }\n",
    "                }\n",
    "            ]\n",
    "        }\n",
    "    }\n",
    "}"
   ]
  },
  {
   "cell_type": "code",
   "execution_count": 58,
   "metadata": {},
   "outputs": [
    {
     "name": "stdout",
     "output_type": "stream",
     "text": [
      "Num\tid\tRelevance\tMovie title\n",
      "0\t13475\t10.760254\tStar Trek\n",
      "1\t193\t9.007851\tStar Trek: Generations\n",
      "2\t200\t9.007851\tStar Trek: Insurrection\n",
      "3\t201\t9.007851\tStar Trek: Nemesis\n",
      "4\t54138\t9.007851\tStar Trek Into Darkness\n",
      "5\t152\t7.7462955\tStar Trek: The Motion Picture\n",
      "6\t199\t7.7462955\tStar Trek: First Contact\n",
      "7\t204082\t7.6290894\tHomefront\n",
      "8\t426\t7.1596975\tVertigo\n",
      "9\t154\t6.794695\tStar Trek II: The Wrath of Khan\n"
     ]
    },
    {
     "data": {
      "text/plain": [
       "<Response [200]>"
      ]
     },
     "execution_count": 58,
     "metadata": {},
     "output_type": "execute_result"
    }
   ],
   "source": [
    "search(query)"
   ]
  },
  {
   "cell_type": "code",
   "execution_count": null,
   "metadata": {},
   "outputs": [],
   "source": []
  },
  {
   "cell_type": "code",
   "execution_count": null,
   "metadata": {},
   "outputs": [],
   "source": []
  }
 ],
 "metadata": {
  "kernelspec": {
   "display_name": "nlp-with-ml",
   "language": "python",
   "name": "nlp-with-ml"
  },
  "language_info": {
   "codemirror_mode": {
    "name": "ipython",
    "version": 3
   },
   "file_extension": ".py",
   "mimetype": "text/x-python",
   "name": "python",
   "nbconvert_exporter": "python",
   "pygments_lexer": "ipython3",
   "version": "3.8.6"
  }
 },
 "nbformat": 4,
 "nbformat_minor": 4
}
